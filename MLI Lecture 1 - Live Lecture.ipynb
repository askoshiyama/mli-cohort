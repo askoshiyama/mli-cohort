{
 "cells": [
  {
   "cell_type": "code",
   "execution_count": 1,
   "metadata": {},
   "outputs": [],
   "source": [
    "# to say to jupyter notebook to plot/show the charts on it \n",
    "%matplotlib inline \n",
    "import pandas as pd # data frames\n",
    "import numpy as np # matrix algebra\n",
    "from matplotlib import pyplot as plt # normal charts\n",
    "import seaborn as sns # fancy charts"
   ]
  },
  {
   "cell_type": "markdown",
   "metadata": {},
   "source": [
    "# Regression"
   ]
  },
  {
   "cell_type": "markdown",
   "metadata": {},
   "source": [
    "## Organize data"
   ]
  },
  {
   "cell_type": "markdown",
   "metadata": {},
   "source": [
    "### Load data"
   ]
  },
  {
   "cell_type": "code",
   "execution_count": 2,
   "metadata": {},
   "outputs": [
    {
     "data": {
      "text/html": [
       "<div>\n",
       "<style scoped>\n",
       "    .dataframe tbody tr th:only-of-type {\n",
       "        vertical-align: middle;\n",
       "    }\n",
       "\n",
       "    .dataframe tbody tr th {\n",
       "        vertical-align: top;\n",
       "    }\n",
       "\n",
       "    .dataframe thead th {\n",
       "        text-align: right;\n",
       "    }\n",
       "</style>\n",
       "<table border=\"1\" class=\"dataframe\">\n",
       "  <thead>\n",
       "    <tr style=\"text-align: right;\">\n",
       "      <th></th>\n",
       "      <th>V1</th>\n",
       "      <th>V2</th>\n",
       "      <th>V3</th>\n",
       "      <th>V4</th>\n",
       "      <th>V5</th>\n",
       "      <th>V6</th>\n",
       "      <th>V7</th>\n",
       "      <th>V8</th>\n",
       "      <th>V9</th>\n",
       "      <th>V10</th>\n",
       "      <th>V11</th>\n",
       "      <th>V12</th>\n",
       "      <th>V13</th>\n",
       "      <th>T1</th>\n",
       "    </tr>\n",
       "  </thead>\n",
       "  <tbody>\n",
       "    <tr>\n",
       "      <th>0</th>\n",
       "      <td>0.00632</td>\n",
       "      <td>18.0</td>\n",
       "      <td>2.31</td>\n",
       "      <td>0</td>\n",
       "      <td>0.538</td>\n",
       "      <td>6.575</td>\n",
       "      <td>65.2</td>\n",
       "      <td>4.0900</td>\n",
       "      <td>1</td>\n",
       "      <td>296</td>\n",
       "      <td>15.3</td>\n",
       "      <td>396.90</td>\n",
       "      <td>4.98</td>\n",
       "      <td>24.0</td>\n",
       "    </tr>\n",
       "    <tr>\n",
       "      <th>1</th>\n",
       "      <td>0.02731</td>\n",
       "      <td>0.0</td>\n",
       "      <td>7.07</td>\n",
       "      <td>0</td>\n",
       "      <td>0.469</td>\n",
       "      <td>6.421</td>\n",
       "      <td>78.9</td>\n",
       "      <td>4.9671</td>\n",
       "      <td>2</td>\n",
       "      <td>242</td>\n",
       "      <td>17.8</td>\n",
       "      <td>396.90</td>\n",
       "      <td>9.14</td>\n",
       "      <td>21.6</td>\n",
       "    </tr>\n",
       "    <tr>\n",
       "      <th>2</th>\n",
       "      <td>0.02729</td>\n",
       "      <td>0.0</td>\n",
       "      <td>7.07</td>\n",
       "      <td>0</td>\n",
       "      <td>0.469</td>\n",
       "      <td>7.185</td>\n",
       "      <td>61.1</td>\n",
       "      <td>4.9671</td>\n",
       "      <td>2</td>\n",
       "      <td>242</td>\n",
       "      <td>17.8</td>\n",
       "      <td>392.83</td>\n",
       "      <td>4.03</td>\n",
       "      <td>34.7</td>\n",
       "    </tr>\n",
       "    <tr>\n",
       "      <th>3</th>\n",
       "      <td>0.03237</td>\n",
       "      <td>0.0</td>\n",
       "      <td>2.18</td>\n",
       "      <td>0</td>\n",
       "      <td>0.458</td>\n",
       "      <td>6.998</td>\n",
       "      <td>45.8</td>\n",
       "      <td>6.0622</td>\n",
       "      <td>3</td>\n",
       "      <td>222</td>\n",
       "      <td>18.7</td>\n",
       "      <td>394.63</td>\n",
       "      <td>2.94</td>\n",
       "      <td>33.4</td>\n",
       "    </tr>\n",
       "    <tr>\n",
       "      <th>4</th>\n",
       "      <td>0.06905</td>\n",
       "      <td>0.0</td>\n",
       "      <td>2.18</td>\n",
       "      <td>0</td>\n",
       "      <td>0.458</td>\n",
       "      <td>7.147</td>\n",
       "      <td>54.2</td>\n",
       "      <td>6.0622</td>\n",
       "      <td>3</td>\n",
       "      <td>222</td>\n",
       "      <td>18.7</td>\n",
       "      <td>396.90</td>\n",
       "      <td>5.33</td>\n",
       "      <td>36.2</td>\n",
       "    </tr>\n",
       "  </tbody>\n",
       "</table>\n",
       "</div>"
      ],
      "text/plain": [
       "        V1    V2    V3  V4     V5     V6    V7      V8  V9  V10   V11     V12  \\\n",
       "0  0.00632  18.0  2.31   0  0.538  6.575  65.2  4.0900   1  296  15.3  396.90   \n",
       "1  0.02731   0.0  7.07   0  0.469  6.421  78.9  4.9671   2  242  17.8  396.90   \n",
       "2  0.02729   0.0  7.07   0  0.469  7.185  61.1  4.9671   2  242  17.8  392.83   \n",
       "3  0.03237   0.0  2.18   0  0.458  6.998  45.8  6.0622   3  222  18.7  394.63   \n",
       "4  0.06905   0.0  2.18   0  0.458  7.147  54.2  6.0622   3  222  18.7  396.90   \n",
       "\n",
       "    V13    T1  \n",
       "0  4.98  24.0  \n",
       "1  9.14  21.6  \n",
       "2  4.03  34.7  \n",
       "3  2.94  33.4  \n",
       "4  5.33  36.2  "
      ]
     },
     "execution_count": 2,
     "metadata": {},
     "output_type": "execute_result"
    }
   ],
   "source": [
    "# read data\n",
    "df = pd.read_csv(\"https://raw.githubusercontent.com/askoshiyama/mli-cohort/master/boston.csv\")\n",
    "df.head()"
   ]
  },
  {
   "cell_type": "code",
   "execution_count": 3,
   "metadata": {},
   "outputs": [
    {
     "data": {
      "text/html": [
       "<div>\n",
       "<style scoped>\n",
       "    .dataframe tbody tr th:only-of-type {\n",
       "        vertical-align: middle;\n",
       "    }\n",
       "\n",
       "    .dataframe tbody tr th {\n",
       "        vertical-align: top;\n",
       "    }\n",
       "\n",
       "    .dataframe thead th {\n",
       "        text-align: right;\n",
       "    }\n",
       "</style>\n",
       "<table border=\"1\" class=\"dataframe\">\n",
       "  <thead>\n",
       "    <tr style=\"text-align: right;\">\n",
       "      <th></th>\n",
       "      <th>There are 14 attributes in each case of the dataset. They are:</th>\n",
       "    </tr>\n",
       "  </thead>\n",
       "  <tbody>\n",
       "    <tr>\n",
       "      <th>0</th>\n",
       "      <td>V1 - CRIM - per capita crime rate by town</td>\n",
       "    </tr>\n",
       "    <tr>\n",
       "      <th>1</th>\n",
       "      <td>V2 - ZN - proportion of residential land zoned...</td>\n",
       "    </tr>\n",
       "    <tr>\n",
       "      <th>2</th>\n",
       "      <td>V3 - INDUS - proportion of non-retail business...</td>\n",
       "    </tr>\n",
       "    <tr>\n",
       "      <th>3</th>\n",
       "      <td>V4 - CHAS - Charles River dummy variable (1 if...</td>\n",
       "    </tr>\n",
       "    <tr>\n",
       "      <th>4</th>\n",
       "      <td>V5 - NOX - nitric oxides concentration (parts ...</td>\n",
       "    </tr>\n",
       "    <tr>\n",
       "      <th>5</th>\n",
       "      <td>V6 - RM - average number of rooms per dwelling</td>\n",
       "    </tr>\n",
       "    <tr>\n",
       "      <th>6</th>\n",
       "      <td>V7 - AGE - proportion of owner-occupied units ...</td>\n",
       "    </tr>\n",
       "    <tr>\n",
       "      <th>7</th>\n",
       "      <td>V8 - DIS - weighted distances to five Boston e...</td>\n",
       "    </tr>\n",
       "    <tr>\n",
       "      <th>8</th>\n",
       "      <td>V9 - RAD - index of accessibility to radial hi...</td>\n",
       "    </tr>\n",
       "    <tr>\n",
       "      <th>9</th>\n",
       "      <td>V10 - TAX - full-value property-tax rate per $...</td>\n",
       "    </tr>\n",
       "    <tr>\n",
       "      <th>10</th>\n",
       "      <td>V11 - PTRATIO - pupil-teacher ratio by town</td>\n",
       "    </tr>\n",
       "    <tr>\n",
       "      <th>11</th>\n",
       "      <td>V12 - B - 1000(Bk - 0.63)^2 where Bk is the pr...</td>\n",
       "    </tr>\n",
       "    <tr>\n",
       "      <th>12</th>\n",
       "      <td>V13 - LSTAT - % lower status of the population</td>\n",
       "    </tr>\n",
       "    <tr>\n",
       "      <th>13</th>\n",
       "      <td>T1 - MEDV - Median value of owner-occupied hom...</td>\n",
       "    </tr>\n",
       "  </tbody>\n",
       "</table>\n",
       "</div>"
      ],
      "text/plain": [
       "   There are 14 attributes in each case of the dataset. They are:\n",
       "0           V1 - CRIM - per capita crime rate by town            \n",
       "1   V2 - ZN - proportion of residential land zoned...            \n",
       "2   V3 - INDUS - proportion of non-retail business...            \n",
       "3   V4 - CHAS - Charles River dummy variable (1 if...            \n",
       "4   V5 - NOX - nitric oxides concentration (parts ...            \n",
       "5      V6 - RM - average number of rooms per dwelling            \n",
       "6   V7 - AGE - proportion of owner-occupied units ...            \n",
       "7   V8 - DIS - weighted distances to five Boston e...            \n",
       "8   V9 - RAD - index of accessibility to radial hi...            \n",
       "9   V10 - TAX - full-value property-tax rate per $...            \n",
       "10        V11 - PTRATIO - pupil-teacher ratio by town            \n",
       "11  V12 - B - 1000(Bk - 0.63)^2 where Bk is the pr...            \n",
       "12     V13 - LSTAT - % lower status of the population            \n",
       "13  T1 - MEDV - Median value of owner-occupied hom...            "
      ]
     },
     "execution_count": 3,
     "metadata": {},
     "output_type": "execute_result"
    }
   ],
   "source": [
    "# defining vars\n",
    "input_vars = [\"V1\", \"V2\", \"V3\", \"V4\", \"V5\", \"V6\", \"V7\", \"V8\", \"V9\", \"V10\", \"V11\", \"V12\", \"V13\"]\n",
    "output_var = [\"T1\"]\n",
    "\n",
    "# dictionary of variables\n",
    "pd.read_table(\"https://raw.githubusercontent.com/askoshiyama/mli-cohort3/master/Boston%20-%20Dictionary%20of%20Variables.txt\")"
   ]
  },
  {
   "cell_type": "markdown",
   "metadata": {},
   "source": [
    "### Some \"integrity\" checkings"
   ]
  },
  {
   "cell_type": "code",
   "execution_count": 4,
   "metadata": {},
   "outputs": [
    {
     "data": {
      "text/plain": [
       "V1     float64\n",
       "V2     float64\n",
       "V3     float64\n",
       "V4       int64\n",
       "V5     float64\n",
       "V6     float64\n",
       "V7     float64\n",
       "V8     float64\n",
       "V9       int64\n",
       "V10      int64\n",
       "V11    float64\n",
       "V12    float64\n",
       "V13    float64\n",
       "T1     float64\n",
       "dtype: object"
      ]
     },
     "execution_count": 4,
     "metadata": {},
     "output_type": "execute_result"
    }
   ],
   "source": [
    "df.dtypes"
   ]
  },
  {
   "cell_type": "code",
   "execution_count": 5,
   "metadata": {},
   "outputs": [
    {
     "data": {
      "text/html": [
       "<div>\n",
       "<style scoped>\n",
       "    .dataframe tbody tr th:only-of-type {\n",
       "        vertical-align: middle;\n",
       "    }\n",
       "\n",
       "    .dataframe tbody tr th {\n",
       "        vertical-align: top;\n",
       "    }\n",
       "\n",
       "    .dataframe thead th {\n",
       "        text-align: right;\n",
       "    }\n",
       "</style>\n",
       "<table border=\"1\" class=\"dataframe\">\n",
       "  <thead>\n",
       "    <tr style=\"text-align: right;\">\n",
       "      <th></th>\n",
       "      <th>V1</th>\n",
       "      <th>V2</th>\n",
       "      <th>V3</th>\n",
       "      <th>V4</th>\n",
       "      <th>V5</th>\n",
       "      <th>V6</th>\n",
       "      <th>V7</th>\n",
       "      <th>V8</th>\n",
       "      <th>V9</th>\n",
       "      <th>V10</th>\n",
       "      <th>V11</th>\n",
       "      <th>V12</th>\n",
       "      <th>V13</th>\n",
       "      <th>T1</th>\n",
       "    </tr>\n",
       "  </thead>\n",
       "  <tbody>\n",
       "    <tr>\n",
       "      <th>count</th>\n",
       "      <td>506.000000</td>\n",
       "      <td>506.000000</td>\n",
       "      <td>506.000000</td>\n",
       "      <td>506.000000</td>\n",
       "      <td>506.000000</td>\n",
       "      <td>506.000000</td>\n",
       "      <td>506.000000</td>\n",
       "      <td>506.000000</td>\n",
       "      <td>506.000000</td>\n",
       "      <td>506.000000</td>\n",
       "      <td>506.000000</td>\n",
       "      <td>506.000000</td>\n",
       "      <td>506.000000</td>\n",
       "      <td>506.000000</td>\n",
       "    </tr>\n",
       "    <tr>\n",
       "      <th>mean</th>\n",
       "      <td>3.613524</td>\n",
       "      <td>11.363636</td>\n",
       "      <td>11.136779</td>\n",
       "      <td>0.069170</td>\n",
       "      <td>0.554695</td>\n",
       "      <td>6.284634</td>\n",
       "      <td>68.574901</td>\n",
       "      <td>3.795043</td>\n",
       "      <td>9.549407</td>\n",
       "      <td>408.237154</td>\n",
       "      <td>18.455534</td>\n",
       "      <td>356.674032</td>\n",
       "      <td>12.653063</td>\n",
       "      <td>22.532806</td>\n",
       "    </tr>\n",
       "    <tr>\n",
       "      <th>std</th>\n",
       "      <td>8.601545</td>\n",
       "      <td>23.322453</td>\n",
       "      <td>6.860353</td>\n",
       "      <td>0.253994</td>\n",
       "      <td>0.115878</td>\n",
       "      <td>0.702617</td>\n",
       "      <td>28.148861</td>\n",
       "      <td>2.105710</td>\n",
       "      <td>8.707259</td>\n",
       "      <td>168.537116</td>\n",
       "      <td>2.164946</td>\n",
       "      <td>91.294864</td>\n",
       "      <td>7.141062</td>\n",
       "      <td>9.197104</td>\n",
       "    </tr>\n",
       "    <tr>\n",
       "      <th>min</th>\n",
       "      <td>0.006320</td>\n",
       "      <td>0.000000</td>\n",
       "      <td>0.460000</td>\n",
       "      <td>0.000000</td>\n",
       "      <td>0.385000</td>\n",
       "      <td>3.561000</td>\n",
       "      <td>2.900000</td>\n",
       "      <td>1.129600</td>\n",
       "      <td>1.000000</td>\n",
       "      <td>187.000000</td>\n",
       "      <td>12.600000</td>\n",
       "      <td>0.320000</td>\n",
       "      <td>1.730000</td>\n",
       "      <td>5.000000</td>\n",
       "    </tr>\n",
       "    <tr>\n",
       "      <th>25%</th>\n",
       "      <td>0.082045</td>\n",
       "      <td>0.000000</td>\n",
       "      <td>5.190000</td>\n",
       "      <td>0.000000</td>\n",
       "      <td>0.449000</td>\n",
       "      <td>5.885500</td>\n",
       "      <td>45.025000</td>\n",
       "      <td>2.100175</td>\n",
       "      <td>4.000000</td>\n",
       "      <td>279.000000</td>\n",
       "      <td>17.400000</td>\n",
       "      <td>375.377500</td>\n",
       "      <td>6.950000</td>\n",
       "      <td>17.025000</td>\n",
       "    </tr>\n",
       "    <tr>\n",
       "      <th>50%</th>\n",
       "      <td>0.256510</td>\n",
       "      <td>0.000000</td>\n",
       "      <td>9.690000</td>\n",
       "      <td>0.000000</td>\n",
       "      <td>0.538000</td>\n",
       "      <td>6.208500</td>\n",
       "      <td>77.500000</td>\n",
       "      <td>3.207450</td>\n",
       "      <td>5.000000</td>\n",
       "      <td>330.000000</td>\n",
       "      <td>19.050000</td>\n",
       "      <td>391.440000</td>\n",
       "      <td>11.360000</td>\n",
       "      <td>21.200000</td>\n",
       "    </tr>\n",
       "    <tr>\n",
       "      <th>75%</th>\n",
       "      <td>3.677083</td>\n",
       "      <td>12.500000</td>\n",
       "      <td>18.100000</td>\n",
       "      <td>0.000000</td>\n",
       "      <td>0.624000</td>\n",
       "      <td>6.623500</td>\n",
       "      <td>94.075000</td>\n",
       "      <td>5.188425</td>\n",
       "      <td>24.000000</td>\n",
       "      <td>666.000000</td>\n",
       "      <td>20.200000</td>\n",
       "      <td>396.225000</td>\n",
       "      <td>16.955000</td>\n",
       "      <td>25.000000</td>\n",
       "    </tr>\n",
       "    <tr>\n",
       "      <th>max</th>\n",
       "      <td>88.976200</td>\n",
       "      <td>100.000000</td>\n",
       "      <td>27.740000</td>\n",
       "      <td>1.000000</td>\n",
       "      <td>0.871000</td>\n",
       "      <td>8.780000</td>\n",
       "      <td>100.000000</td>\n",
       "      <td>12.126500</td>\n",
       "      <td>24.000000</td>\n",
       "      <td>711.000000</td>\n",
       "      <td>22.000000</td>\n",
       "      <td>396.900000</td>\n",
       "      <td>37.970000</td>\n",
       "      <td>50.000000</td>\n",
       "    </tr>\n",
       "  </tbody>\n",
       "</table>\n",
       "</div>"
      ],
      "text/plain": [
       "               V1          V2          V3          V4          V5          V6  \\\n",
       "count  506.000000  506.000000  506.000000  506.000000  506.000000  506.000000   \n",
       "mean     3.613524   11.363636   11.136779    0.069170    0.554695    6.284634   \n",
       "std      8.601545   23.322453    6.860353    0.253994    0.115878    0.702617   \n",
       "min      0.006320    0.000000    0.460000    0.000000    0.385000    3.561000   \n",
       "25%      0.082045    0.000000    5.190000    0.000000    0.449000    5.885500   \n",
       "50%      0.256510    0.000000    9.690000    0.000000    0.538000    6.208500   \n",
       "75%      3.677083   12.500000   18.100000    0.000000    0.624000    6.623500   \n",
       "max     88.976200  100.000000   27.740000    1.000000    0.871000    8.780000   \n",
       "\n",
       "               V7          V8          V9         V10         V11         V12  \\\n",
       "count  506.000000  506.000000  506.000000  506.000000  506.000000  506.000000   \n",
       "mean    68.574901    3.795043    9.549407  408.237154   18.455534  356.674032   \n",
       "std     28.148861    2.105710    8.707259  168.537116    2.164946   91.294864   \n",
       "min      2.900000    1.129600    1.000000  187.000000   12.600000    0.320000   \n",
       "25%     45.025000    2.100175    4.000000  279.000000   17.400000  375.377500   \n",
       "50%     77.500000    3.207450    5.000000  330.000000   19.050000  391.440000   \n",
       "75%     94.075000    5.188425   24.000000  666.000000   20.200000  396.225000   \n",
       "max    100.000000   12.126500   24.000000  711.000000   22.000000  396.900000   \n",
       "\n",
       "              V13          T1  \n",
       "count  506.000000  506.000000  \n",
       "mean    12.653063   22.532806  \n",
       "std      7.141062    9.197104  \n",
       "min      1.730000    5.000000  \n",
       "25%      6.950000   17.025000  \n",
       "50%     11.360000   21.200000  \n",
       "75%     16.955000   25.000000  \n",
       "max     37.970000   50.000000  "
      ]
     },
     "execution_count": 5,
     "metadata": {},
     "output_type": "execute_result"
    }
   ],
   "source": [
    "df.describe()"
   ]
  },
  {
   "cell_type": "code",
   "execution_count": 7,
   "metadata": {},
   "outputs": [
    {
     "data": {
      "text/html": [
       "<div>\n",
       "<style scoped>\n",
       "    .dataframe tbody tr th:only-of-type {\n",
       "        vertical-align: middle;\n",
       "    }\n",
       "\n",
       "    .dataframe tbody tr th {\n",
       "        vertical-align: top;\n",
       "    }\n",
       "\n",
       "    .dataframe thead th {\n",
       "        text-align: right;\n",
       "    }\n",
       "</style>\n",
       "<table border=\"1\" class=\"dataframe\">\n",
       "  <thead>\n",
       "    <tr style=\"text-align: right;\">\n",
       "      <th></th>\n",
       "      <th>V1</th>\n",
       "      <th>V2</th>\n",
       "      <th>V3</th>\n",
       "      <th>V4</th>\n",
       "      <th>V5</th>\n",
       "      <th>V6</th>\n",
       "      <th>V7</th>\n",
       "      <th>V8</th>\n",
       "      <th>V9</th>\n",
       "      <th>V10</th>\n",
       "      <th>V11</th>\n",
       "      <th>V12</th>\n",
       "      <th>V13</th>\n",
       "      <th>T1</th>\n",
       "    </tr>\n",
       "  </thead>\n",
       "  <tbody>\n",
       "    <tr>\n",
       "      <th>T1</th>\n",
       "      <td>-0.388305</td>\n",
       "      <td>0.360445</td>\n",
       "      <td>-0.483725</td>\n",
       "      <td>0.17526</td>\n",
       "      <td>-0.427321</td>\n",
       "      <td>0.69536</td>\n",
       "      <td>-0.376955</td>\n",
       "      <td>0.249929</td>\n",
       "      <td>-0.381626</td>\n",
       "      <td>-0.468536</td>\n",
       "      <td>-0.507787</td>\n",
       "      <td>0.333461</td>\n",
       "      <td>-0.737663</td>\n",
       "      <td>1.0</td>\n",
       "    </tr>\n",
       "  </tbody>\n",
       "</table>\n",
       "</div>"
      ],
      "text/plain": [
       "          V1        V2        V3       V4        V5       V6        V7  \\\n",
       "T1 -0.388305  0.360445 -0.483725  0.17526 -0.427321  0.69536 -0.376955   \n",
       "\n",
       "          V8        V9       V10       V11       V12       V13   T1  \n",
       "T1  0.249929 -0.381626 -0.468536 -0.507787  0.333461 -0.737663  1.0  "
      ]
     },
     "execution_count": 7,
     "metadata": {},
     "output_type": "execute_result"
    }
   ],
   "source": [
    "df.corr().loc[[\"T1\"]]"
   ]
  },
  {
   "cell_type": "code",
   "execution_count": 9,
   "metadata": {},
   "outputs": [
    {
     "data": {
      "text/plain": [
       "<AxesSubplot:xlabel='V13', ylabel='[T1]'>"
      ]
     },
     "execution_count": 9,
     "metadata": {},
     "output_type": "execute_result"
    },
    {
     "data": {
      "image/png": "[encoded data removed]",
      "text/plain": [
       "<Figure size 432x288 with 1 Axes>"
      ]
     },
     "metadata": {
      "needs_background": "light"
     },
     "output_type": "display_data"
    }
   ],
   "source": [
    "df.plot(y=output_var, x=\"V13\", kind=\"scatter\")"
   ]
  },
  {
   "cell_type": "code",
   "execution_count": 10,
   "metadata": {},
   "outputs": [
    {
     "name": "stderr",
     "output_type": "stream",
     "text": [
      "C:\\Users\\askos\\.conda\\envs\\mli\\lib\\site-packages\\seaborn\\_decorators.py:36: FutureWarning: Pass the following variables as keyword args: x, y. From version 0.12, the only valid positional argument will be `data`, and passing other arguments without an explicit keyword will result in an error or misinterpretation.\n",
      "  warnings.warn(\n"
     ]
    },
    {
     "data": {
      "text/plain": [
       "<seaborn.axisgrid.JointGrid at 0x1df5f074880>"
      ]
     },
     "execution_count": 10,
     "metadata": {},
     "output_type": "execute_result"
    },
    {
     "data": {
      "image/png": "[encoded data removed]",
      "text/plain": [
       "<Figure size 432x432 with 3 Axes>"
      ]
     },
     "metadata": {
      "needs_background": "light"
     },
     "output_type": "display_data"
    }
   ],
   "source": [
    "sns.jointplot(df[\"V13\"], df[\"T1\"], kind=\"reg\")"
   ]
  },
  {
   "cell_type": "markdown",
   "metadata": {},
   "source": [
    "## Modelling"
   ]
  },
  {
   "cell_type": "markdown",
   "metadata": {},
   "source": [
    "### Settings"
   ]
  },
  {
   "cell_type": "code",
   "execution_count": 11,
   "metadata": {},
   "outputs": [],
   "source": [
    "from sklearn import metrics\n",
    "from sklearn.model_selection import KFold\n",
    "\n",
    "# 5-fold cv\n",
    "k_folds = KFold(n_splits=5, random_state=10, shuffle=True)\n",
    "\n",
    "# performance metrics\n",
    "# homework: https://scikit-learn.org/stable/modules/model_evaluation.html#regression-metrics\n",
    "def mse_score(y_true, y_pred):\n",
    "    return np.mean( (y_true - y_pred) ** 2.0)\n",
    "\n",
    "def rmse_score(y_true, y_pred):\n",
    "    return np.sqrt(mse_score(y_true, y_pred))\n",
    "\n",
    "def mad_score(y_true, y_pred):\n",
    "    return np.mean( np.abs(y_true - y_pred) )\n",
    "\n",
    "def pr2_score(y_true, y_pred):\n",
    "    return np.corrcoef(y_true, y_pred)[0, 1] ** 2.0\n",
    "\n",
    "#def pr2_score(y_true, y_pred):\n",
    "#    return (np.cov(y_true, y_pred)[0, 1] / (np.std(y_true) * np.std(y_pred))) ** 2.0\n",
    "\n",
    "def r2_score(y_true, y_pred):\n",
    "    y_bar = np.mean(y_true)\n",
    "    return 1 - np.sum((y_true - y_pred)**2) / np.sum((y_true - y_bar)**2)\n",
    "\n",
    "#def r2_score(y_true, y_pred):\n",
    "#    y_bar = np.mean(y_true)\n",
    "#    return np.sum((y_pred - y_bar)**2) / np.sum((y_true - y_bar)**2)\n",
    "\n",
    "def adjpr2_score(y_true, y_pred, p):\n",
    "    return ( np.corrcoef(y_true, y_pred)[0, 1] ** 2.0 ) * ((y_true.shape[0] - p)/y_true.shape[0])\n",
    "\n",
    "perf_metrics = {\"MSE\": mse_score, \n",
    "                \"RMSE\": rmse_score, \n",
    "                \"Pseudo-R2\": pr2_score,\n",
    "                \"R2\": r2_score,\n",
    "                \"MAD\": mad_score\n",
    "               }"
   ]
  },
  {
   "cell_type": "markdown",
   "metadata": {},
   "source": [
    "### Dummy/Baseline Model - Average"
   ]
  },
  {
   "cell_type": "code",
   "execution_count": 14,
   "metadata": {},
   "outputs": [
    {
     "data": {
      "text/html": [
       "<div>\n",
       "<style scoped>\n",
       "    .dataframe tbody tr th:only-of-type {\n",
       "        vertical-align: middle;\n",
       "    }\n",
       "\n",
       "    .dataframe tbody tr th {\n",
       "        vertical-align: top;\n",
       "    }\n",
       "\n",
       "    .dataframe thead th {\n",
       "        text-align: right;\n",
       "    }\n",
       "</style>\n",
       "<table border=\"1\" class=\"dataframe\">\n",
       "  <thead>\n",
       "    <tr style=\"text-align: right;\">\n",
       "      <th></th>\n",
       "      <th>V1</th>\n",
       "      <th>V2</th>\n",
       "      <th>V3</th>\n",
       "      <th>V4</th>\n",
       "      <th>V5</th>\n",
       "      <th>V6</th>\n",
       "      <th>V7</th>\n",
       "      <th>V8</th>\n",
       "      <th>V9</th>\n",
       "      <th>V10</th>\n",
       "      <th>V11</th>\n",
       "      <th>V12</th>\n",
       "      <th>V13</th>\n",
       "      <th>T1</th>\n",
       "    </tr>\n",
       "  </thead>\n",
       "  <tbody>\n",
       "    <tr>\n",
       "      <th>0</th>\n",
       "      <td>0.00632</td>\n",
       "      <td>18.0</td>\n",
       "      <td>2.31</td>\n",
       "      <td>0</td>\n",
       "      <td>0.538</td>\n",
       "      <td>6.575</td>\n",
       "      <td>65.2</td>\n",
       "      <td>4.0900</td>\n",
       "      <td>1</td>\n",
       "      <td>296</td>\n",
       "      <td>15.3</td>\n",
       "      <td>396.90</td>\n",
       "      <td>4.98</td>\n",
       "      <td>24.0</td>\n",
       "    </tr>\n",
       "    <tr>\n",
       "      <th>1</th>\n",
       "      <td>0.02731</td>\n",
       "      <td>0.0</td>\n",
       "      <td>7.07</td>\n",
       "      <td>0</td>\n",
       "      <td>0.469</td>\n",
       "      <td>6.421</td>\n",
       "      <td>78.9</td>\n",
       "      <td>4.9671</td>\n",
       "      <td>2</td>\n",
       "      <td>242</td>\n",
       "      <td>17.8</td>\n",
       "      <td>396.90</td>\n",
       "      <td>9.14</td>\n",
       "      <td>21.6</td>\n",
       "    </tr>\n",
       "    <tr>\n",
       "      <th>2</th>\n",
       "      <td>0.02729</td>\n",
       "      <td>0.0</td>\n",
       "      <td>7.07</td>\n",
       "      <td>0</td>\n",
       "      <td>0.469</td>\n",
       "      <td>7.185</td>\n",
       "      <td>61.1</td>\n",
       "      <td>4.9671</td>\n",
       "      <td>2</td>\n",
       "      <td>242</td>\n",
       "      <td>17.8</td>\n",
       "      <td>392.83</td>\n",
       "      <td>4.03</td>\n",
       "      <td>34.7</td>\n",
       "    </tr>\n",
       "    <tr>\n",
       "      <th>3</th>\n",
       "      <td>0.03237</td>\n",
       "      <td>0.0</td>\n",
       "      <td>2.18</td>\n",
       "      <td>0</td>\n",
       "      <td>0.458</td>\n",
       "      <td>6.998</td>\n",
       "      <td>45.8</td>\n",
       "      <td>6.0622</td>\n",
       "      <td>3</td>\n",
       "      <td>222</td>\n",
       "      <td>18.7</td>\n",
       "      <td>394.63</td>\n",
       "      <td>2.94</td>\n",
       "      <td>33.4</td>\n",
       "    </tr>\n",
       "    <tr>\n",
       "      <th>4</th>\n",
       "      <td>0.06905</td>\n",
       "      <td>0.0</td>\n",
       "      <td>2.18</td>\n",
       "      <td>0</td>\n",
       "      <td>0.458</td>\n",
       "      <td>7.147</td>\n",
       "      <td>54.2</td>\n",
       "      <td>6.0622</td>\n",
       "      <td>3</td>\n",
       "      <td>222</td>\n",
       "      <td>18.7</td>\n",
       "      <td>396.90</td>\n",
       "      <td>5.33</td>\n",
       "      <td>36.2</td>\n",
       "    </tr>\n",
       "  </tbody>\n",
       "</table>\n",
       "</div>"
      ],
      "text/plain": [
       "        V1    V2    V3  V4     V5     V6    V7      V8  V9  V10   V11     V12  \\\n",
       "0  0.00632  18.0  2.31   0  0.538  6.575  65.2  4.0900   1  296  15.3  396.90   \n",
       "1  0.02731   0.0  7.07   0  0.469  6.421  78.9  4.9671   2  242  17.8  396.90   \n",
       "2  0.02729   0.0  7.07   0  0.469  7.185  61.1  4.9671   2  242  17.8  392.83   \n",
       "3  0.03237   0.0  2.18   0  0.458  6.998  45.8  6.0622   3  222  18.7  394.63   \n",
       "4  0.06905   0.0  2.18   0  0.458  7.147  54.2  6.0622   3  222  18.7  396.90   \n",
       "\n",
       "    V13    T1  \n",
       "0  4.98  24.0  \n",
       "1  9.14  21.6  \n",
       "2  4.03  34.7  \n",
       "3  2.94  33.4  \n",
       "4  5.33  36.2  "
      ]
     },
     "execution_count": 14,
     "metadata": {},
     "output_type": "execute_result"
    }
   ],
   "source": [
    "df.head()"
   ]
  },
  {
   "cell_type": "code",
   "execution_count": 20,
   "metadata": {},
   "outputs": [
    {
     "data": {
      "text/plain": [
       "array([22.4562963, 22.4562963, 22.4562963, 22.4562963, 22.4562963,\n",
       "       22.4562963, 22.4562963, 22.4562963, 22.4562963, 22.4562963,\n",
       "       22.4562963, 22.4562963, 22.4562963, 22.4562963, 22.4562963,\n",
       "       22.4562963, 22.4562963, 22.4562963, 22.4562963, 22.4562963,\n",
       "       22.4562963, 22.4562963, 22.4562963, 22.4562963, 22.4562963,\n",
       "       22.4562963, 22.4562963, 22.4562963, 22.4562963, 22.4562963,\n",
       "       22.4562963, 22.4562963, 22.4562963, 22.4562963, 22.4562963,\n",
       "       22.4562963, 22.4562963, 22.4562963, 22.4562963, 22.4562963,\n",
       "       22.4562963, 22.4562963, 22.4562963, 22.4562963, 22.4562963,\n",
       "       22.4562963, 22.4562963, 22.4562963, 22.4562963, 22.4562963,\n",
       "       22.4562963, 22.4562963, 22.4562963, 22.4562963, 22.4562963,\n",
       "       22.4562963, 22.4562963, 22.4562963, 22.4562963, 22.4562963,\n",
       "       22.4562963, 22.4562963, 22.4562963, 22.4562963, 22.4562963,\n",
       "       22.4562963, 22.4562963, 22.4562963, 22.4562963, 22.4562963,\n",
       "       22.4562963, 22.4562963, 22.4562963, 22.4562963, 22.4562963,\n",
       "       22.4562963, 22.4562963, 22.4562963, 22.4562963, 22.4562963,\n",
       "       22.4562963, 22.4562963, 22.4562963, 22.4562963, 22.4562963,\n",
       "       22.4562963, 22.4562963, 22.4562963, 22.4562963, 22.4562963,\n",
       "       22.4562963, 22.4562963, 22.4562963, 22.4562963, 22.4562963,\n",
       "       22.4562963, 22.4562963, 22.4562963, 22.4562963, 22.4562963,\n",
       "       22.4562963])"
      ]
     },
     "execution_count": 20,
     "metadata": {},
     "output_type": "execute_result"
    }
   ],
   "source": [
    "y_test_pred"
   ]
  },
  {
   "cell_type": "code",
   "execution_count": 36,
   "metadata": {},
   "outputs": [
    {
     "name": "stdout",
     "output_type": "stream",
     "text": [
      "1\n",
      "2\n",
      "3\n",
      "4\n",
      "5\n"
     ]
    },
    {
     "name": "stderr",
     "output_type": "stream",
     "text": [
      "C:\\Users\\askos\\.conda\\envs\\mli\\lib\\site-packages\\numpy\\lib\\function_base.py:2642: RuntimeWarning: invalid value encountered in true_divide\n",
      "  c /= stddev[:, None]\n",
      "C:\\Users\\askos\\.conda\\envs\\mli\\lib\\site-packages\\numpy\\lib\\function_base.py:2643: RuntimeWarning: invalid value encountered in true_divide\n",
      "  c /= stddev[None, :]\n"
     ]
    }
   ],
   "source": [
    "# pre-instantiation\n",
    "target = [\"T1\"]\n",
    "df_metrics = pd.DataFrame(index=[0], columns=[\"Fold\", \"Metric\", \"Train\", \"Test\"])\n",
    "\n",
    "# main loop\n",
    "k, f = 0, 0\n",
    "for (train, test) in k_folds.split(df.drop(labels=target, axis=1)):\n",
    "    f += 1\n",
    "    print(f)\n",
    "    # separate variables and folds\n",
    "    x_train = df.drop(labels=target, axis=1).values[train]\n",
    "    x_test = df.drop(labels=target, axis=1).values[test]\n",
    "    y_train = df[target].values[train]\n",
    "    y_test = df[target].values[test]\n",
    "    \n",
    "    # \"fit\" model\n",
    "    model_pred = y_train.mean()\n",
    "\n",
    "    # get predictions\n",
    "    y_train_pred = np.repeat(model_pred, y_train.shape[0])\n",
    "    y_test_pred = np.repeat(model_pred, y_test.shape[0])\n",
    "\n",
    "    # compute metrics\n",
    "    for pf in list(perf_metrics.keys()):\n",
    "        df_metrics.loc[k, \"Fold\"] = f\n",
    "        df_metrics.loc[k, \"Metric\"] = pf\n",
    "        df_metrics.loc[k, \"Train\"] = perf_metrics[pf](y_train.ravel(), y_train_pred.ravel())\n",
    "        df_metrics.loc[k, \"Test\"] = perf_metrics[pf](y_test.ravel(), y_test_pred.ravel())\n",
    "        k += 1\n",
    "        \n",
    "    # if using sklearn: \n",
    "    #from sklearn.dummy import DummyRegressor\n",
    "    #ml = DummyRegressor().fit(x_train, y_train)\n",
    "    #pred_train = ml.predict(x_train)\n",
    "    #pred_test = ml.predict(x_test)\n",
    "\n",
    "# final organization\n",
    "df_metrics = df_metrics.apply(pd.to_numeric, errors=\"ignore\")"
   ]
  },
  {
   "cell_type": "code",
   "execution_count": 22,
   "metadata": {},
   "outputs": [
    {
     "data": {
      "text/html": [
       "<div>\n",
       "<style scoped>\n",
       "    .dataframe tbody tr th:only-of-type {\n",
       "        vertical-align: middle;\n",
       "    }\n",
       "\n",
       "    .dataframe tbody tr th {\n",
       "        vertical-align: top;\n",
       "    }\n",
       "\n",
       "    .dataframe thead th {\n",
       "        text-align: right;\n",
       "    }\n",
       "</style>\n",
       "<table border=\"1\" class=\"dataframe\">\n",
       "  <thead>\n",
       "    <tr style=\"text-align: right;\">\n",
       "      <th></th>\n",
       "      <th>Fold</th>\n",
       "      <th>Metric</th>\n",
       "      <th>Train</th>\n",
       "      <th>Test</th>\n",
       "    </tr>\n",
       "  </thead>\n",
       "  <tbody>\n",
       "    <tr>\n",
       "      <th>0</th>\n",
       "      <td>1</td>\n",
       "      <td>MSE</td>\n",
       "      <td>7.696085e+01</td>\n",
       "      <td>1.163304e+02</td>\n",
       "    </tr>\n",
       "    <tr>\n",
       "      <th>1</th>\n",
       "      <td>1</td>\n",
       "      <td>RMSE</td>\n",
       "      <td>8.772733e+00</td>\n",
       "      <td>1.078566e+01</td>\n",
       "    </tr>\n",
       "    <tr>\n",
       "      <th>2</th>\n",
       "      <td>1</td>\n",
       "      <td>Pseudo-R2</td>\n",
       "      <td>5.041780e-32</td>\n",
       "      <td>1.616821e-32</td>\n",
       "    </tr>\n",
       "    <tr>\n",
       "      <th>3</th>\n",
       "      <td>1</td>\n",
       "      <td>R2</td>\n",
       "      <td>0.000000e+00</td>\n",
       "      <td>-1.123500e-01</td>\n",
       "    </tr>\n",
       "    <tr>\n",
       "      <th>4</th>\n",
       "      <td>1</td>\n",
       "      <td>MAD</td>\n",
       "      <td>6.303904e+00</td>\n",
       "      <td>7.554703e+00</td>\n",
       "    </tr>\n",
       "    <tr>\n",
       "      <th>5</th>\n",
       "      <td>2</td>\n",
       "      <td>MSE</td>\n",
       "      <td>8.777292e+01</td>\n",
       "      <td>7.147500e+01</td>\n",
       "    </tr>\n",
       "    <tr>\n",
       "      <th>6</th>\n",
       "      <td>2</td>\n",
       "      <td>RMSE</td>\n",
       "      <td>9.368720e+00</td>\n",
       "      <td>8.454289e+00</td>\n",
       "    </tr>\n",
       "    <tr>\n",
       "      <th>7</th>\n",
       "      <td>2</td>\n",
       "      <td>Pseudo-R2</td>\n",
       "      <td>NaN</td>\n",
       "      <td>2.013598e-32</td>\n",
       "    </tr>\n",
       "    <tr>\n",
       "      <th>8</th>\n",
       "      <td>2</td>\n",
       "      <td>R2</td>\n",
       "      <td>0.000000e+00</td>\n",
       "      <td>-3.647715e-02</td>\n",
       "    </tr>\n",
       "    <tr>\n",
       "      <th>9</th>\n",
       "      <td>2</td>\n",
       "      <td>MAD</td>\n",
       "      <td>6.773327e+00</td>\n",
       "      <td>6.451827e+00</td>\n",
       "    </tr>\n",
       "    <tr>\n",
       "      <th>10</th>\n",
       "      <td>3</td>\n",
       "      <td>MSE</td>\n",
       "      <td>8.261540e+01</td>\n",
       "      <td>9.174415e+01</td>\n",
       "    </tr>\n",
       "    <tr>\n",
       "      <th>11</th>\n",
       "      <td>3</td>\n",
       "      <td>RMSE</td>\n",
       "      <td>9.089301e+00</td>\n",
       "      <td>9.578317e+00</td>\n",
       "    </tr>\n",
       "    <tr>\n",
       "      <th>12</th>\n",
       "      <td>3</td>\n",
       "      <td>Pseudo-R2</td>\n",
       "      <td>3.815130e-33</td>\n",
       "      <td>3.122654e-32</td>\n",
       "    </tr>\n",
       "    <tr>\n",
       "      <th>13</th>\n",
       "      <td>3</td>\n",
       "      <td>R2</td>\n",
       "      <td>0.000000e+00</td>\n",
       "      <td>-4.944548e-03</td>\n",
       "    </tr>\n",
       "    <tr>\n",
       "      <th>14</th>\n",
       "      <td>3</td>\n",
       "      <td>MAD</td>\n",
       "      <td>6.637159e+00</td>\n",
       "      <td>6.810972e+00</td>\n",
       "    </tr>\n",
       "    <tr>\n",
       "      <th>15</th>\n",
       "      <td>4</td>\n",
       "      <td>MSE</td>\n",
       "      <td>8.737830e+01</td>\n",
       "      <td>7.305270e+01</td>\n",
       "    </tr>\n",
       "    <tr>\n",
       "      <th>16</th>\n",
       "      <td>4</td>\n",
       "      <td>RMSE</td>\n",
       "      <td>9.347636e+00</td>\n",
       "      <td>8.547087e+00</td>\n",
       "    </tr>\n",
       "    <tr>\n",
       "      <th>17</th>\n",
       "      <td>4</td>\n",
       "      <td>Pseudo-R2</td>\n",
       "      <td>NaN</td>\n",
       "      <td>NaN</td>\n",
       "    </tr>\n",
       "    <tr>\n",
       "      <th>18</th>\n",
       "      <td>4</td>\n",
       "      <td>R2</td>\n",
       "      <td>0.000000e+00</td>\n",
       "      <td>-3.531652e-02</td>\n",
       "    </tr>\n",
       "    <tr>\n",
       "      <th>19</th>\n",
       "      <td>4</td>\n",
       "      <td>MAD</td>\n",
       "      <td>6.736278e+00</td>\n",
       "      <td>6.598778e+00</td>\n",
       "    </tr>\n",
       "    <tr>\n",
       "      <th>20</th>\n",
       "      <td>5</td>\n",
       "      <td>MSE</td>\n",
       "      <td>8.665229e+01</td>\n",
       "      <td>7.549585e+01</td>\n",
       "    </tr>\n",
       "    <tr>\n",
       "      <th>21</th>\n",
       "      <td>5</td>\n",
       "      <td>RMSE</td>\n",
       "      <td>9.308721e+00</td>\n",
       "      <td>8.688835e+00</td>\n",
       "    </tr>\n",
       "    <tr>\n",
       "      <th>22</th>\n",
       "      <td>5</td>\n",
       "      <td>Pseudo-R2</td>\n",
       "      <td>NaN</td>\n",
       "      <td>1.011905e-31</td>\n",
       "    </tr>\n",
       "    <tr>\n",
       "      <th>23</th>\n",
       "      <td>5</td>\n",
       "      <td>R2</td>\n",
       "      <td>0.000000e+00</td>\n",
       "      <td>-1.949925e-03</td>\n",
       "    </tr>\n",
       "    <tr>\n",
       "      <th>24</th>\n",
       "      <td>5</td>\n",
       "      <td>MAD</td>\n",
       "      <td>6.764375e+00</td>\n",
       "      <td>6.113311e+00</td>\n",
       "    </tr>\n",
       "  </tbody>\n",
       "</table>\n",
       "</div>"
      ],
      "text/plain": [
       "    Fold     Metric         Train          Test\n",
       "0      1        MSE  7.696085e+01  1.163304e+02\n",
       "1      1       RMSE  8.772733e+00  1.078566e+01\n",
       "2      1  Pseudo-R2  5.041780e-32  1.616821e-32\n",
       "3      1         R2  0.000000e+00 -1.123500e-01\n",
       "4      1        MAD  6.303904e+00  7.554703e+00\n",
       "5      2        MSE  8.777292e+01  7.147500e+01\n",
       "6      2       RMSE  9.368720e+00  8.454289e+00\n",
       "7      2  Pseudo-R2           NaN  2.013598e-32\n",
       "8      2         R2  0.000000e+00 -3.647715e-02\n",
       "9      2        MAD  6.773327e+00  6.451827e+00\n",
       "10     3        MSE  8.261540e+01  9.174415e+01\n",
       "11     3       RMSE  9.089301e+00  9.578317e+00\n",
       "12     3  Pseudo-R2  3.815130e-33  3.122654e-32\n",
       "13     3         R2  0.000000e+00 -4.944548e-03\n",
       "14     3        MAD  6.637159e+00  6.810972e+00\n",
       "15     4        MSE  8.737830e+01  7.305270e+01\n",
       "16     4       RMSE  9.347636e+00  8.547087e+00\n",
       "17     4  Pseudo-R2           NaN           NaN\n",
       "18     4         R2  0.000000e+00 -3.531652e-02\n",
       "19     4        MAD  6.736278e+00  6.598778e+00\n",
       "20     5        MSE  8.665229e+01  7.549585e+01\n",
       "21     5       RMSE  9.308721e+00  8.688835e+00\n",
       "22     5  Pseudo-R2           NaN  1.011905e-31\n",
       "23     5         R2  0.000000e+00 -1.949925e-03\n",
       "24     5        MAD  6.764375e+00  6.113311e+00"
      ]
     },
     "execution_count": 22,
     "metadata": {},
     "output_type": "execute_result"
    }
   ],
   "source": [
    "df_metrics"
   ]
  },
  {
   "cell_type": "code",
   "execution_count": 23,
   "metadata": {},
   "outputs": [
    {
     "data": {
      "text/html": [
       "<div>\n",
       "<style scoped>\n",
       "    .dataframe tbody tr th:only-of-type {\n",
       "        vertical-align: middle;\n",
       "    }\n",
       "\n",
       "    .dataframe tbody tr th {\n",
       "        vertical-align: top;\n",
       "    }\n",
       "\n",
       "    .dataframe thead th {\n",
       "        text-align: right;\n",
       "    }\n",
       "</style>\n",
       "<table border=\"1\" class=\"dataframe\">\n",
       "  <thead>\n",
       "    <tr style=\"text-align: right;\">\n",
       "      <th></th>\n",
       "      <th>Fold</th>\n",
       "      <th>Test</th>\n",
       "      <th>Train</th>\n",
       "    </tr>\n",
       "    <tr>\n",
       "      <th>Metric</th>\n",
       "      <th></th>\n",
       "      <th></th>\n",
       "      <th></th>\n",
       "    </tr>\n",
       "  </thead>\n",
       "  <tbody>\n",
       "    <tr>\n",
       "      <th>MAD</th>\n",
       "      <td>3</td>\n",
       "      <td>6.705918e+00</td>\n",
       "      <td>6.643009e+00</td>\n",
       "    </tr>\n",
       "    <tr>\n",
       "      <th>MSE</th>\n",
       "      <td>3</td>\n",
       "      <td>8.561962e+01</td>\n",
       "      <td>8.427595e+01</td>\n",
       "    </tr>\n",
       "    <tr>\n",
       "      <th>Pseudo-R2</th>\n",
       "      <td>3</td>\n",
       "      <td>4.218032e-32</td>\n",
       "      <td>2.711646e-32</td>\n",
       "    </tr>\n",
       "    <tr>\n",
       "      <th>R2</th>\n",
       "      <td>3</td>\n",
       "      <td>-3.820763e-02</td>\n",
       "      <td>0.000000e+00</td>\n",
       "    </tr>\n",
       "    <tr>\n",
       "      <th>RMSE</th>\n",
       "      <td>3</td>\n",
       "      <td>9.210837e+00</td>\n",
       "      <td>9.177422e+00</td>\n",
       "    </tr>\n",
       "  </tbody>\n",
       "</table>\n",
       "</div>"
      ],
      "text/plain": [
       "           Fold          Test         Train\n",
       "Metric                                     \n",
       "MAD           3  6.705918e+00  6.643009e+00\n",
       "MSE           3  8.561962e+01  8.427595e+01\n",
       "Pseudo-R2     3  4.218032e-32  2.711646e-32\n",
       "R2            3 -3.820763e-02  0.000000e+00\n",
       "RMSE          3  9.210837e+00  9.177422e+00"
      ]
     },
     "execution_count": 23,
     "metadata": {},
     "output_type": "execute_result"
    }
   ],
   "source": [
    "df_metrics.pivot_table(index=\"Metric\", aggfunc=\"mean\")"
   ]
  },
  {
   "cell_type": "code",
   "execution_count": null,
   "metadata": {},
   "outputs": [],
   "source": [
    "# Dummy model - RMSE: 9.21"
   ]
  },
  {
   "cell_type": "markdown",
   "metadata": {},
   "source": [
    "### Simple Linear Regression"
   ]
  },
  {
   "cell_type": "code",
   "execution_count": 30,
   "metadata": {},
   "outputs": [
    {
     "data": {
      "text/plain": [
       "array([[ 3.37565712e+01],\n",
       "       [-1.15191457e-01],\n",
       "       [ 3.21117551e-02],\n",
       "       [ 1.23131596e-02],\n",
       "       [ 2.87746870e+00],\n",
       "       [-1.47095174e+01],\n",
       "       [ 4.08679956e+00],\n",
       "       [-6.74235335e-03],\n",
       "       [-1.34175343e+00],\n",
       "       [ 3.29746068e-01],\n",
       "       [-1.34303333e-02],\n",
       "       [-9.71582539e-01],\n",
       "       [ 9.40382199e-03],\n",
       "       [-5.20937683e-01]])"
      ]
     },
     "execution_count": 30,
     "metadata": {},
     "output_type": "execute_result"
    }
   ],
   "source": [
    "coefs"
   ]
  },
  {
   "cell_type": "code",
   "execution_count": 31,
   "metadata": {},
   "outputs": [
    {
     "name": "stdout",
     "output_type": "stream",
     "text": [
      "1\n",
      "2\n",
      "3\n",
      "4\n",
      "5\n"
     ]
    }
   ],
   "source": [
    "# pre-instantiation\n",
    "target = [\"T1\"]\n",
    "df_metrics = pd.DataFrame(index=[0], columns=[\"Fold\", \"Metric\", \"Train\", \"Test\"])\n",
    "\n",
    "# main loop\n",
    "k, f = 0, 0\n",
    "for (train, test) in k_folds.split(df.drop(labels=target, axis=1)):\n",
    "    f += 1\n",
    "    print(f)\n",
    "    # separate variables and folds\n",
    "    x_train = df.drop(labels=target, axis=1).values[train]\n",
    "    x_train = np.hstack([np.ones((x_train.shape[0], 1)), x_train])\n",
    "    \n",
    "    x_test = df.drop(labels=target, axis=1).values[test]\n",
    "    x_test = np.hstack([np.ones((x_test.shape[0], 1)), x_test])\n",
    "    \n",
    "    y_train = df[target].values[train]\n",
    "    y_test = df[target].values[test]\n",
    "    \n",
    "    # fit model\n",
    "    # train model - coefs = (X_train'X_train)^-1 X_train'y_train\n",
    "    inv_component = np.linalg.pinv(np.matmul(x_train.transpose(), x_train))\n",
    "    coefs = np.matmul(inv_component, np.matmul(x_train.transpose(), y_train))\n",
    "\n",
    "    # get predictions\n",
    "    y_train_pred = np.matmul(x_train, coefs) # ypred_train = X_train*coefs\n",
    "    y_test_pred = np.matmul(x_test, coefs) # ypred_train = X_test*coefs\n",
    "\n",
    "    # compute metrics\n",
    "    for pf in list(perf_metrics.keys()):\n",
    "        df_metrics.loc[k, \"Fold\"] = f\n",
    "        df_metrics.loc[k, \"Metric\"] = pf\n",
    "        df_metrics.loc[k, \"Train\"] = perf_metrics[pf](y_train.ravel(), y_train_pred.ravel())\n",
    "        df_metrics.loc[k, \"Test\"] = perf_metrics[pf](y_test.ravel(), y_test_pred.ravel())\n",
    "        k += 1\n",
    "        \n",
    "    # if using sklearn: \n",
    "    #from sklearn.linear_model import LinearRegression\n",
    "    #ml = LinearRegression().fit(x_train, y_train)\n",
    "    #pred_train = ml.predict(x_train)\n",
    "    #pred_test = ml.predict(x_test)\n",
    "\n",
    "# final organization\n",
    "df_metrics = df_metrics.apply(pd.to_numeric, errors=\"ignore\")"
   ]
  },
  {
   "cell_type": "markdown",
   "metadata": {},
   "source": [
    "#### Stats"
   ]
  },
  {
   "cell_type": "code",
   "execution_count": 32,
   "metadata": {},
   "outputs": [
    {
     "data": {
      "text/html": [
       "<div>\n",
       "<style scoped>\n",
       "    .dataframe tbody tr th:only-of-type {\n",
       "        vertical-align: middle;\n",
       "    }\n",
       "\n",
       "    .dataframe tbody tr th {\n",
       "        vertical-align: top;\n",
       "    }\n",
       "\n",
       "    .dataframe thead th {\n",
       "        text-align: right;\n",
       "    }\n",
       "</style>\n",
       "<table border=\"1\" class=\"dataframe\">\n",
       "  <thead>\n",
       "    <tr style=\"text-align: right;\">\n",
       "      <th></th>\n",
       "      <th>Fold</th>\n",
       "      <th>Test</th>\n",
       "      <th>Train</th>\n",
       "    </tr>\n",
       "    <tr>\n",
       "      <th>Metric</th>\n",
       "      <th></th>\n",
       "      <th></th>\n",
       "      <th></th>\n",
       "    </tr>\n",
       "  </thead>\n",
       "  <tbody>\n",
       "    <tr>\n",
       "      <th>MAD</th>\n",
       "      <td>3</td>\n",
       "      <td>3.415622</td>\n",
       "      <td>3.264779</td>\n",
       "    </tr>\n",
       "    <tr>\n",
       "      <th>MSE</th>\n",
       "      <td>3</td>\n",
       "      <td>23.937804</td>\n",
       "      <td>21.667789</td>\n",
       "    </tr>\n",
       "    <tr>\n",
       "      <th>Pseudo-R2</th>\n",
       "      <td>3</td>\n",
       "      <td>0.716386</td>\n",
       "      <td>0.742878</td>\n",
       "    </tr>\n",
       "    <tr>\n",
       "      <th>R2</th>\n",
       "      <td>3</td>\n",
       "      <td>0.707935</td>\n",
       "      <td>0.742878</td>\n",
       "    </tr>\n",
       "    <tr>\n",
       "      <th>RMSE</th>\n",
       "      <td>3</td>\n",
       "      <td>4.858078</td>\n",
       "      <td>4.652427</td>\n",
       "    </tr>\n",
       "  </tbody>\n",
       "</table>\n",
       "</div>"
      ],
      "text/plain": [
       "           Fold       Test      Train\n",
       "Metric                               \n",
       "MAD           3   3.415622   3.264779\n",
       "MSE           3  23.937804  21.667789\n",
       "Pseudo-R2     3   0.716386   0.742878\n",
       "R2            3   0.707935   0.742878\n",
       "RMSE          3   4.858078   4.652427"
      ]
     },
     "execution_count": 32,
     "metadata": {},
     "output_type": "execute_result"
    }
   ],
   "source": [
    "df_metrics.pivot_table(index=\"Metric\")"
   ]
  },
  {
   "cell_type": "code",
   "execution_count": 44,
   "metadata": {},
   "outputs": [
    {
     "data": {
      "text/plain": [
       "0.473398479913138"
      ]
     },
     "execution_count": 44,
     "metadata": {},
     "output_type": "execute_result"
    }
   ],
   "source": [
    "1 - 4.85 / 9.21"
   ]
  },
  {
   "cell_type": "code",
   "execution_count": null,
   "metadata": {},
   "outputs": [],
   "source": [
    "# LR RMSE test: 4.85 - 52.66% decrease in RMSE"
   ]
  },
  {
   "cell_type": "markdown",
   "metadata": {},
   "source": [
    "### Linear Regression with Polynomial Features"
   ]
  },
  {
   "cell_type": "code",
   "execution_count": 57,
   "metadata": {},
   "outputs": [],
   "source": [
    "from sklearn.preprocessing import PolynomialFeatures\n",
    "poly_params = {\"degree\": 2,\n",
    "               \"interaction_only\": False,\n",
    "               \"include_bias\": True\n",
    "              }"
   ]
  },
  {
   "cell_type": "code",
   "execution_count": 48,
   "metadata": {},
   "outputs": [
    {
     "data": {
      "text/plain": [
       "(506, 13)"
      ]
     },
     "execution_count": 48,
     "metadata": {},
     "output_type": "execute_result"
    }
   ],
   "source": [
    "df.drop(labels=target, axis=1).shape"
   ]
  },
  {
   "cell_type": "code",
   "execution_count": 49,
   "metadata": {},
   "outputs": [],
   "source": [
    "poly_func = PolynomialFeatures(**poly_params).fit(df.drop(labels=target, axis=1))\n",
    "x_train = poly_func.transform(df.drop(labels=target, axis=1))"
   ]
  },
  {
   "cell_type": "code",
   "execution_count": 58,
   "metadata": {},
   "outputs": [
    {
     "data": {
      "text/plain": [
       "(405, 105)"
      ]
     },
     "execution_count": 58,
     "metadata": {},
     "output_type": "execute_result"
    }
   ],
   "source": [
    "x_train.shape"
   ]
  },
  {
   "cell_type": "code",
   "execution_count": 55,
   "metadata": {},
   "outputs": [
    {
     "name": "stdout",
     "output_type": "stream",
     "text": [
      "1\n",
      "2\n",
      "3\n",
      "4\n",
      "5\n"
     ]
    }
   ],
   "source": [
    "# pre-instantiation\n",
    "target = [\"T1\"]\n",
    "df_metrics = pd.DataFrame(index=[0], columns=[\"Fold\", \"Metric\", \"Train\", \"Test\"])\n",
    "\n",
    "# main loop\n",
    "k, f = 0, 0\n",
    "for (train, test) in k_folds.split(df.drop(labels=target, axis=1)):\n",
    "    f += 1\n",
    "    print(f)\n",
    "    # separate variables and folds\n",
    "    x_train = df.drop(labels=target, axis=1).values[train]\n",
    "    x_test = df.drop(labels=target, axis=1).values[test]\n",
    "    y_train = df[target].values[train]\n",
    "    y_test = df[target].values[test]\n",
    "    \n",
    "    # polynomial features - will include bias automatically\n",
    "    poly_func = PolynomialFeatures(**poly_params).fit(x_train)\n",
    "    x_train = poly_func.transform(x_train)\n",
    "    x_test = poly_func.transform(x_test)\n",
    "        \n",
    "    # fit model\n",
    "    # train model \n",
    "    inv_component = np.linalg.pinv(np.matmul(x_train.transpose(), x_train))\n",
    "    coefs = np.matmul(inv_component, np.matmul(x_train.transpose(), y_train))\n",
    "\n",
    "    # get predictions\n",
    "    y_train_pred = np.matmul(x_train, coefs)\n",
    "    y_test_pred = np.matmul(x_test, coefs)\n",
    "\n",
    "    # compute metrics\n",
    "    for pf in list(perf_metrics.keys()):\n",
    "        df_metrics.loc[k, \"Fold\"] = f\n",
    "        df_metrics.loc[k, \"Metric\"] = pf\n",
    "        df_metrics.loc[k, \"Train\"] = perf_metrics[pf](y_train.ravel(), y_train_pred.ravel())\n",
    "        df_metrics.loc[k, \"Test\"] = perf_metrics[pf](y_test.ravel(), y_test_pred.ravel())\n",
    "        k += 1\n",
    "\n",
    "    # if using sklearn: \n",
    "    # from sklearn.linear_model import LinearRegression\n",
    "    #ml = LinearRegression().fit(x_train, y_train)\n",
    "    #pred_train = ml.predict(x_train)\n",
    "    #pred_test = ml.predict(x_test)\n",
    "\n",
    "# final organization\n",
    "df_metrics = df_metrics.apply(pd.to_numeric, errors=\"ignore\")"
   ]
  },
  {
   "cell_type": "code",
   "execution_count": 42,
   "metadata": {},
   "outputs": [
    {
     "data": {
      "text/html": [
       "<div>\n",
       "<style scoped>\n",
       "    .dataframe tbody tr th:only-of-type {\n",
       "        vertical-align: middle;\n",
       "    }\n",
       "\n",
       "    .dataframe tbody tr th {\n",
       "        vertical-align: top;\n",
       "    }\n",
       "\n",
       "    .dataframe thead th {\n",
       "        text-align: right;\n",
       "    }\n",
       "</style>\n",
       "<table border=\"1\" class=\"dataframe\">\n",
       "  <thead>\n",
       "    <tr style=\"text-align: right;\">\n",
       "      <th></th>\n",
       "      <th>Fold</th>\n",
       "      <th>Test</th>\n",
       "      <th>Train</th>\n",
       "    </tr>\n",
       "    <tr>\n",
       "      <th>Metric</th>\n",
       "      <th></th>\n",
       "      <th></th>\n",
       "      <th></th>\n",
       "    </tr>\n",
       "  </thead>\n",
       "  <tbody>\n",
       "    <tr>\n",
       "      <th>MAD</th>\n",
       "      <td>3</td>\n",
       "      <td>2.660769</td>\n",
       "      <td>1.767850</td>\n",
       "    </tr>\n",
       "    <tr>\n",
       "      <th>MSE</th>\n",
       "      <td>3</td>\n",
       "      <td>15.883053</td>\n",
       "      <td>5.707234</td>\n",
       "    </tr>\n",
       "    <tr>\n",
       "      <th>Pseudo-R2</th>\n",
       "      <td>3</td>\n",
       "      <td>0.823727</td>\n",
       "      <td>0.932166</td>\n",
       "    </tr>\n",
       "    <tr>\n",
       "      <th>R2</th>\n",
       "      <td>3</td>\n",
       "      <td>0.799708</td>\n",
       "      <td>0.932166</td>\n",
       "    </tr>\n",
       "    <tr>\n",
       "      <th>RMSE</th>\n",
       "      <td>3</td>\n",
       "      <td>3.956649</td>\n",
       "      <td>2.385393</td>\n",
       "    </tr>\n",
       "  </tbody>\n",
       "</table>\n",
       "</div>"
      ],
      "text/plain": [
       "           Fold       Test     Train\n",
       "Metric                              \n",
       "MAD           3   2.660769  1.767850\n",
       "MSE           3  15.883053  5.707234\n",
       "Pseudo-R2     3   0.823727  0.932166\n",
       "R2            3   0.799708  0.932166\n",
       "RMSE          3   3.956649  2.385393"
      ]
     },
     "execution_count": 42,
     "metadata": {},
     "output_type": "execute_result"
    }
   ],
   "source": [
    "df_metrics.pivot_table(index=\"Metric\")"
   ]
  },
  {
   "cell_type": "code",
   "execution_count": 46,
   "metadata": {},
   "outputs": [
    {
     "data": {
      "text/plain": [
       "0.18556701030927825"
      ]
     },
     "execution_count": 46,
     "metadata": {},
     "output_type": "execute_result"
    }
   ],
   "source": [
    "1 - 3.95/4.85"
   ]
  },
  {
   "cell_type": "markdown",
   "metadata": {},
   "source": [
    "### Polynomial Regression with Backward Elimination"
   ]
  },
  {
   "cell_type": "code",
   "execution_count": 62,
   "metadata": {},
   "outputs": [
    {
     "name": "stdout",
     "output_type": "stream",
     "text": [
      "1\n",
      "2\n",
      "3\n",
      "4\n",
      "5\n"
     ]
    }
   ],
   "source": [
    "# pre-instantiation\n",
    "from sklearn.linear_model import LinearRegression\n",
    "from sklearn.feature_selection import RFE\n",
    "from sklearn.feature_selection import RFECV\n",
    "poly_params = {\"degree\": 2,\n",
    "               \"interaction_only\": False,\n",
    "               \"include_bias\": True\n",
    "              }\n",
    "target = [\"T1\"]\n",
    "df_metrics = pd.DataFrame(index=[0], columns=[\"Fold\", \"Metric\", \"Train\", \"Test\"])\n",
    "\n",
    "# main loop\n",
    "k, f = 0, 0\n",
    "for (train, test) in k_folds.split(df.drop(labels=target, axis=1)):\n",
    "    f += 1\n",
    "    print(f)\n",
    "    # separate variables and folds\n",
    "    x_train = df.drop(labels=target, axis=1).values[train]\n",
    "    x_test = df.drop(labels=target, axis=1).values[test]\n",
    "    y_train = df[target].values[train]\n",
    "    y_test = df[target].values[test]\n",
    "    \n",
    "    # polynomial features - will include bias automatically\n",
    "    poly_func = PolynomialFeatures(**poly_params).fit(x_train)\n",
    "    x_train = poly_func.transform(x_train)\n",
    "    x_test = poly_func.transform(x_test)\n",
    "        \n",
    "    # fit model\n",
    "    model = RFE(LinearRegression()).fit(x_train, y_train)\n",
    "    #model = RFECV(model, step=1, cv=5).fit(x_train, y_train)\n",
    "\n",
    "    # get predictions\n",
    "    y_train_pred = model.predict(x_train)\n",
    "    y_test_pred = model.predict(x_test)\n",
    "\n",
    "    # compute metrics\n",
    "    for pf in list(perf_metrics.keys()):\n",
    "        df_metrics.loc[k, \"Fold\"] = f\n",
    "        df_metrics.loc[k, \"Metric\"] = pf\n",
    "        df_metrics.loc[k, \"Train\"] = perf_metrics[pf](y_train.ravel(), y_train_pred.ravel())\n",
    "        df_metrics.loc[k, \"Test\"] = perf_metrics[pf](y_test.ravel(), y_test_pred.ravel())\n",
    "        k += 1\n",
    "\n",
    "# final organization\n",
    "df_metrics = df_metrics.apply(pd.to_numeric, errors=\"ignore\")"
   ]
  },
  {
   "cell_type": "code",
   "execution_count": 63,
   "metadata": {},
   "outputs": [
    {
     "data": {
      "text/plain": [
       "(405, 52)"
      ]
     },
     "execution_count": 63,
     "metadata": {},
     "output_type": "execute_result"
    }
   ],
   "source": [
    "x_train[:, model.support_].shape"
   ]
  },
  {
   "cell_type": "code",
   "execution_count": 64,
   "metadata": {},
   "outputs": [
    {
     "data": {
      "text/plain": [
       "array([ 1,  1,  1,  1,  1,  1,  1,  1,  1,  1,  1,  1,  4,  9, 20,  1,  1,\n",
       "        1,  1,  3, 33,  1,  7, 44,  1, 52,  5, 49, 21,  1,  1, 39, 25, 31,\n",
       "       28, 40, 50, 24, 36, 13,  1,  1,  1, 34,  1,  1, 32, 17, 26,  2,  1,\n",
       "        1,  1, 14,  1,  8, 18,  1,  6,  1,  1,  1,  1,  1,  1,  1,  1,  1,\n",
       "        1,  1,  1,  1,  1, 30,  1, 45,  1, 46, 29, 10, 37, 41, 35, 19,  1,\n",
       "        1, 51, 15, 38, 42,  1, 23,  1, 27,  1, 53, 16, 48, 43, 11, 22,  1,\n",
       "       54, 47, 12])"
      ]
     },
     "execution_count": 64,
     "metadata": {},
     "output_type": "execute_result"
    }
   ],
   "source": [
    "model.ranking_"
   ]
  },
  {
   "cell_type": "code",
   "execution_count": 65,
   "metadata": {},
   "outputs": [
    {
     "data": {
      "text/plain": [
       "52"
      ]
     },
     "execution_count": 65,
     "metadata": {},
     "output_type": "execute_result"
    }
   ],
   "source": [
    "model.n_features_"
   ]
  },
  {
   "cell_type": "code",
   "execution_count": 66,
   "metadata": {},
   "outputs": [
    {
     "data": {
      "text/html": [
       "<div>\n",
       "<style scoped>\n",
       "    .dataframe tbody tr th:only-of-type {\n",
       "        vertical-align: middle;\n",
       "    }\n",
       "\n",
       "    .dataframe tbody tr th {\n",
       "        vertical-align: top;\n",
       "    }\n",
       "\n",
       "    .dataframe thead th {\n",
       "        text-align: right;\n",
       "    }\n",
       "</style>\n",
       "<table border=\"1\" class=\"dataframe\">\n",
       "  <thead>\n",
       "    <tr style=\"text-align: right;\">\n",
       "      <th></th>\n",
       "      <th>Fold</th>\n",
       "      <th>Test</th>\n",
       "      <th>Train</th>\n",
       "    </tr>\n",
       "    <tr>\n",
       "      <th>Metric</th>\n",
       "      <th></th>\n",
       "      <th></th>\n",
       "      <th></th>\n",
       "    </tr>\n",
       "  </thead>\n",
       "  <tbody>\n",
       "    <tr>\n",
       "      <th>MAD</th>\n",
       "      <td>3</td>\n",
       "      <td>3.114444</td>\n",
       "      <td>2.414910</td>\n",
       "    </tr>\n",
       "    <tr>\n",
       "      <th>MSE</th>\n",
       "      <td>3</td>\n",
       "      <td>22.032629</td>\n",
       "      <td>11.587076</td>\n",
       "    </tr>\n",
       "    <tr>\n",
       "      <th>Pseudo-R2</th>\n",
       "      <td>3</td>\n",
       "      <td>0.756149</td>\n",
       "      <td>0.869600</td>\n",
       "    </tr>\n",
       "    <tr>\n",
       "      <th>R2</th>\n",
       "      <td>3</td>\n",
       "      <td>0.715865</td>\n",
       "      <td>0.863468</td>\n",
       "    </tr>\n",
       "    <tr>\n",
       "      <th>RMSE</th>\n",
       "      <td>3</td>\n",
       "      <td>4.534063</td>\n",
       "      <td>3.329848</td>\n",
       "    </tr>\n",
       "  </tbody>\n",
       "</table>\n",
       "</div>"
      ],
      "text/plain": [
       "           Fold       Test      Train\n",
       "Metric                               \n",
       "MAD           3   3.114444   2.414910\n",
       "MSE           3  22.032629  11.587076\n",
       "Pseudo-R2     3   0.756149   0.869600\n",
       "R2            3   0.715865   0.863468\n",
       "RMSE          3   4.534063   3.329848"
      ]
     },
     "execution_count": 66,
     "metadata": {},
     "output_type": "execute_result"
    }
   ],
   "source": [
    "df_metrics.pivot_table(index=\"Metric\")"
   ]
  },
  {
   "cell_type": "code",
   "execution_count": null,
   "metadata": {},
   "outputs": [],
   "source": [
    "3.95 / 4.53"
   ]
  },
  {
   "cell_type": "markdown",
   "metadata": {},
   "source": [
    "#### Different implementation"
   ]
  },
  {
   "cell_type": "code",
   "execution_count": 67,
   "metadata": {},
   "outputs": [
    {
     "name": "stdout",
     "output_type": "stream",
     "text": [
      "1\n",
      "2\n",
      "3\n",
      "4\n",
      "5\n"
     ]
    }
   ],
   "source": [
    "# pre-instantiation\n",
    "from sklearn.linear_model import LinearRegression\n",
    "from sklearn.feature_selection import RFE\n",
    "from sklearn.pipeline import Pipeline\n",
    "poly_params = {\"degree\": 2,\n",
    "               \"interaction_only\": False,\n",
    "               \"include_bias\": True\n",
    "              }\n",
    "target = [\"T1\"]\n",
    "df_metrics = pd.DataFrame(index=[0], columns=[\"Fold\", \"Metric\", \"Train\", \"Test\"])\n",
    "\n",
    "# main loop\n",
    "k, f = 0, 0\n",
    "for (train, test) in k_folds.split(df.drop(labels=target, axis=1)):\n",
    "    f += 1\n",
    "    print(f)\n",
    "    # separate variables and folds\n",
    "    x_train = df.drop(labels=target, axis=1).values[train]\n",
    "    x_test = df.drop(labels=target, axis=1).values[test]\n",
    "    y_train = df[target].values[train]\n",
    "    y_test = df[target].values[test]\n",
    "        \n",
    "    # fit model\n",
    "    model = Pipeline([(\"Poly\", PolynomialFeatures(**poly_params)),\n",
    "                      (\"LR-BE\", RFE(LinearRegression()))])\n",
    "    model.fit(x_train, y_train)\n",
    "\n",
    "    # get predictions\n",
    "    y_train_pred = model.predict(x_train)\n",
    "    y_test_pred = model.predict(x_test)\n",
    "\n",
    "    # compute metrics\n",
    "    for pf in list(perf_metrics.keys()):\n",
    "        df_metrics.loc[k, \"Fold\"] = f\n",
    "        df_metrics.loc[k, \"Metric\"] = pf\n",
    "        df_metrics.loc[k, \"Train\"] = perf_metrics[pf](y_train.ravel(), y_train_pred.ravel())\n",
    "        df_metrics.loc[k, \"Test\"] = perf_metrics[pf](y_test.ravel(), y_test_pred.ravel())\n",
    "        k += 1\n",
    "\n",
    "# final organization\n",
    "df_metrics = df_metrics.apply(pd.to_numeric, errors=\"ignore\")"
   ]
  },
  {
   "cell_type": "code",
   "execution_count": 68,
   "metadata": {},
   "outputs": [
    {
     "data": {
      "text/html": [
       "<div>\n",
       "<style scoped>\n",
       "    .dataframe tbody tr th:only-of-type {\n",
       "        vertical-align: middle;\n",
       "    }\n",
       "\n",
       "    .dataframe tbody tr th {\n",
       "        vertical-align: top;\n",
       "    }\n",
       "\n",
       "    .dataframe thead th {\n",
       "        text-align: right;\n",
       "    }\n",
       "</style>\n",
       "<table border=\"1\" class=\"dataframe\">\n",
       "  <thead>\n",
       "    <tr style=\"text-align: right;\">\n",
       "      <th></th>\n",
       "      <th>Fold</th>\n",
       "      <th>Test</th>\n",
       "      <th>Train</th>\n",
       "    </tr>\n",
       "    <tr>\n",
       "      <th>Metric</th>\n",
       "      <th></th>\n",
       "      <th></th>\n",
       "      <th></th>\n",
       "    </tr>\n",
       "  </thead>\n",
       "  <tbody>\n",
       "    <tr>\n",
       "      <th>MAD</th>\n",
       "      <td>3</td>\n",
       "      <td>3.114444</td>\n",
       "      <td>2.414910</td>\n",
       "    </tr>\n",
       "    <tr>\n",
       "      <th>MSE</th>\n",
       "      <td>3</td>\n",
       "      <td>22.032629</td>\n",
       "      <td>11.587076</td>\n",
       "    </tr>\n",
       "    <tr>\n",
       "      <th>Pseudo-R2</th>\n",
       "      <td>3</td>\n",
       "      <td>0.756149</td>\n",
       "      <td>0.869600</td>\n",
       "    </tr>\n",
       "    <tr>\n",
       "      <th>R2</th>\n",
       "      <td>3</td>\n",
       "      <td>0.715865</td>\n",
       "      <td>0.863468</td>\n",
       "    </tr>\n",
       "    <tr>\n",
       "      <th>RMSE</th>\n",
       "      <td>3</td>\n",
       "      <td>4.534063</td>\n",
       "      <td>3.329848</td>\n",
       "    </tr>\n",
       "  </tbody>\n",
       "</table>\n",
       "</div>"
      ],
      "text/plain": [
       "           Fold       Test      Train\n",
       "Metric                               \n",
       "MAD           3   3.114444   2.414910\n",
       "MSE           3  22.032629  11.587076\n",
       "Pseudo-R2     3   0.756149   0.869600\n",
       "R2            3   0.715865   0.863468\n",
       "RMSE          3   4.534063   3.329848"
      ]
     },
     "execution_count": 68,
     "metadata": {},
     "output_type": "execute_result"
    }
   ],
   "source": [
    "df_metrics.pivot_table(index=\"Metric\")"
   ]
  },
  {
   "cell_type": "markdown",
   "metadata": {},
   "source": [
    "### Ridge Regression"
   ]
  },
  {
   "cell_type": "code",
   "execution_count": 71,
   "metadata": {
    "scrolled": true
   },
   "outputs": [
    {
     "data": {
      "text/plain": [
       "array([0.001     , 0.00300503, 0.00501005, 0.00701508, 0.0090201 ,\n",
       "       0.01102513, 0.01303015, 0.01503518, 0.0170402 , 0.01904523,\n",
       "       0.02105025, 0.02305528, 0.0250603 , 0.02706533, 0.02907035,\n",
       "       0.03107538, 0.0330804 , 0.03508543, 0.03709045, 0.03909548,\n",
       "       0.0411005 , 0.04310553, 0.04511055, 0.04711558, 0.0491206 ,\n",
       "       0.05112563, 0.05313065, 0.05513568, 0.0571407 , 0.05914573,\n",
       "       0.06115075, 0.06315578, 0.0651608 , 0.06716583, 0.06917085,\n",
       "       0.07117588, 0.0731809 , 0.07518593, 0.07719095, 0.07919598,\n",
       "       0.08120101, 0.08320603, 0.08521106, 0.08721608, 0.08922111,\n",
       "       0.09122613, 0.09323116, 0.09523618, 0.09724121, 0.09924623,\n",
       "       0.10125126, 0.10325628, 0.10526131, 0.10726633, 0.10927136,\n",
       "       0.11127638, 0.11328141, 0.11528643, 0.11729146, 0.11929648,\n",
       "       0.12130151, 0.12330653, 0.12531156, 0.12731658, 0.12932161,\n",
       "       0.13132663, 0.13333166, 0.13533668, 0.13734171, 0.13934673,\n",
       "       0.14135176, 0.14335678, 0.14536181, 0.14736683, 0.14937186,\n",
       "       0.15137688, 0.15338191, 0.15538693, 0.15739196, 0.15939698,\n",
       "       0.16140201, 0.16340704, 0.16541206, 0.16741709, 0.16942211,\n",
       "       0.17142714, 0.17343216, 0.17543719, 0.17744221, 0.17944724,\n",
       "       0.18145226, 0.18345729, 0.18546231, 0.18746734, 0.18947236,\n",
       "       0.19147739, 0.19348241, 0.19548744, 0.19749246, 0.19949749,\n",
       "       0.20150251, 0.20350754, 0.20551256, 0.20751759, 0.20952261,\n",
       "       0.21152764, 0.21353266, 0.21553769, 0.21754271, 0.21954774,\n",
       "       0.22155276, 0.22355779, 0.22556281, 0.22756784, 0.22957286,\n",
       "       0.23157789, 0.23358291, 0.23558794, 0.23759296, 0.23959799,\n",
       "       0.24160302, 0.24360804, 0.24561307, 0.24761809, 0.24962312,\n",
       "       0.25162814, 0.25363317, 0.25563819, 0.25764322, 0.25964824,\n",
       "       0.26165327, 0.26365829, 0.26566332, 0.26766834, 0.26967337,\n",
       "       0.27167839, 0.27368342, 0.27568844, 0.27769347, 0.27969849,\n",
       "       0.28170352, 0.28370854, 0.28571357, 0.28771859, 0.28972362,\n",
       "       0.29172864, 0.29373367, 0.29573869, 0.29774372, 0.29974874,\n",
       "       0.30175377, 0.30375879, 0.30576382, 0.30776884, 0.30977387,\n",
       "       0.31177889, 0.31378392, 0.31578894, 0.31779397, 0.31979899,\n",
       "       0.32180402, 0.32380905, 0.32581407, 0.3278191 , 0.32982412,\n",
       "       0.33182915, 0.33383417, 0.3358392 , 0.33784422, 0.33984925,\n",
       "       0.34185427, 0.3438593 , 0.34586432, 0.34786935, 0.34987437,\n",
       "       0.3518794 , 0.35388442, 0.35588945, 0.35789447, 0.3598995 ,\n",
       "       0.36190452, 0.36390955, 0.36591457, 0.3679196 , 0.36992462,\n",
       "       0.37192965, 0.37393467, 0.3759397 , 0.37794472, 0.37994975,\n",
       "       0.38195477, 0.3839598 , 0.38596482, 0.38796985, 0.38997487,\n",
       "       0.3919799 , 0.39398492, 0.39598995, 0.39799497, 0.4       ])"
      ]
     },
     "execution_count": 71,
     "metadata": {},
     "output_type": "execute_result"
    }
   ],
   "source": [
    "ridge_shrinkage"
   ]
  },
  {
   "cell_type": "code",
   "execution_count": 72,
   "metadata": {},
   "outputs": [
    {
     "name": "stdout",
     "output_type": "stream",
     "text": [
      "1\n",
      "2\n",
      "3\n",
      "4\n",
      "5\n"
     ]
    }
   ],
   "source": [
    "from sklearn.preprocessing import StandardScaler\n",
    "# pre-instantiation\n",
    "ridge_shrinkage = np.linspace(0.01, 0.4, num=200)\n",
    "target = [\"T1\"]\n",
    "df_metrics = pd.DataFrame(index=[0], columns=[\"Fold\", \"Shrinkage\", \"Metric\", \"Train\", \"Test\"])\n",
    "\n",
    "# main loop\n",
    "k, f = 0, 0\n",
    "for (train, test) in k_folds.split(df.drop(labels=target, axis=1)):\n",
    "    f += 1\n",
    "    print(f)\n",
    "    # separate variables and folds\n",
    "    x_train = df.drop(labels=target, axis=1).values[train]\n",
    "    x_test = df.drop(labels=target, axis=1).values[test]\n",
    "    y_train = df[target].values[train]\n",
    "    y_test = df[target].values[test]\n",
    "    \n",
    "    # scale  variables\n",
    "    scaler_x = StandardScaler(with_mean=True, with_std=True).fit(x_train)\n",
    "    x_train = np.hstack([np.ones((x_train.shape[0], 1)), scaler_x.transform(x_train)])  \n",
    "    x_test = np.hstack([np.ones((x_test.shape[0], 1)), scaler_x.transform(x_test)])\n",
    "    \n",
    "    # fit model\n",
    "    for l in ridge_shrinkage:\n",
    "        # train model - coefs = (X'X + I * \\lambda * p)^-1 X'y\n",
    "        inv_component = np.linalg.pinv(np.matmul(x_train.transpose(), x_train) + np.eye(x_train.shape[1]) * l * x_train.shape[1])\n",
    "        coefs = np.matmul(inv_component, np.matmul(x_train.transpose(), y_train))\n",
    "        \n",
    "        # get predictions\n",
    "        y_train_pred = np.matmul(x_train, coefs) # ypred_train = X * coefs\n",
    "        y_test_pred = np.matmul(x_test, coefs) # ypred_test = X * coefs\n",
    "        \n",
    "        # compute metrics\n",
    "        for pf in list(perf_metrics.keys()):\n",
    "            df_metrics.loc[k, \"Fold\"] = f\n",
    "            df_metrics.loc[k, \"Metric\"] = pf\n",
    "            df_metrics.loc[k, \"Shrinkage\"] = l\n",
    "            df_metrics.loc[k, \"Train\"] = perf_metrics[pf](y_train.ravel(), y_train_pred.ravel())\n",
    "            df_metrics.loc[k, \"Test\"] = perf_metrics[pf](y_test.ravel(), y_test_pred.ravel())\n",
    "            k += 1\n",
    "        \n",
    "        # if using sklearn: from sklearn.linear_model import Ridge\n",
    "        #ml = Ridge(alpha=l).fit(x_train, y_train)\n",
    "        #pred_train = ml.predict(x_train)\n",
    "        #pred_test = ml.predict(x_test)\n",
    "\n",
    "# final organization\n",
    "df_metrics = df_metrics.apply(pd.to_numeric, errors=\"ignore\")"
   ]
  },
  {
   "cell_type": "markdown",
   "metadata": {},
   "source": [
    "#### Stats"
   ]
  },
  {
   "cell_type": "code",
   "execution_count": 74,
   "metadata": {},
   "outputs": [
    {
     "data": {
      "text/html": [
       "<div>\n",
       "<style scoped>\n",
       "    .dataframe tbody tr th:only-of-type {\n",
       "        vertical-align: middle;\n",
       "    }\n",
       "\n",
       "    .dataframe tbody tr th {\n",
       "        vertical-align: top;\n",
       "    }\n",
       "\n",
       "    .dataframe thead th {\n",
       "        text-align: right;\n",
       "    }\n",
       "</style>\n",
       "<table border=\"1\" class=\"dataframe\">\n",
       "  <thead>\n",
       "    <tr style=\"text-align: right;\">\n",
       "      <th>Metric</th>\n",
       "      <th>MAD</th>\n",
       "      <th>MSE</th>\n",
       "      <th>Pseudo-R2</th>\n",
       "      <th>R2</th>\n",
       "      <th>RMSE</th>\n",
       "    </tr>\n",
       "    <tr>\n",
       "      <th>Shrinkage</th>\n",
       "      <th></th>\n",
       "      <th></th>\n",
       "      <th></th>\n",
       "      <th></th>\n",
       "      <th></th>\n",
       "    </tr>\n",
       "  </thead>\n",
       "  <tbody>\n",
       "    <tr>\n",
       "      <th>0.010000</th>\n",
       "      <td>3.413688</td>\n",
       "      <td>23.936490</td>\n",
       "      <td>0.716394</td>\n",
       "      <td>0.707963</td>\n",
       "      <td>4.857872</td>\n",
       "    </tr>\n",
       "    <tr>\n",
       "      <th>0.011960</th>\n",
       "      <td>3.413316</td>\n",
       "      <td>23.936255</td>\n",
       "      <td>0.716395</td>\n",
       "      <td>0.707969</td>\n",
       "      <td>4.857834</td>\n",
       "    </tr>\n",
       "    <tr>\n",
       "      <th>0.013920</th>\n",
       "      <td>3.412945</td>\n",
       "      <td>23.936028</td>\n",
       "      <td>0.716396</td>\n",
       "      <td>0.707974</td>\n",
       "      <td>4.857796</td>\n",
       "    </tr>\n",
       "    <tr>\n",
       "      <th>0.015879</th>\n",
       "      <td>3.412574</td>\n",
       "      <td>23.935808</td>\n",
       "      <td>0.716398</td>\n",
       "      <td>0.707979</td>\n",
       "      <td>4.857760</td>\n",
       "    </tr>\n",
       "    <tr>\n",
       "      <th>0.017839</th>\n",
       "      <td>3.412203</td>\n",
       "      <td>23.935595</td>\n",
       "      <td>0.716399</td>\n",
       "      <td>0.707984</td>\n",
       "      <td>4.857724</td>\n",
       "    </tr>\n",
       "  </tbody>\n",
       "</table>\n",
       "</div>"
      ],
      "text/plain": [
       "Metric          MAD        MSE  Pseudo-R2        R2      RMSE\n",
       "Shrinkage                                                    \n",
       "0.010000   3.413688  23.936490   0.716394  0.707963  4.857872\n",
       "0.011960   3.413316  23.936255   0.716395  0.707969  4.857834\n",
       "0.013920   3.412945  23.936028   0.716396  0.707974  4.857796\n",
       "0.015879   3.412574  23.935808   0.716398  0.707979  4.857760\n",
       "0.017839   3.412203  23.935595   0.716399  0.707984  4.857724"
      ]
     },
     "execution_count": 74,
     "metadata": {},
     "output_type": "execute_result"
    }
   ],
   "source": [
    "df_metrics.pivot_table(index=\"Shrinkage\", columns=\"Metric\", values=\"Test\").head()"
   ]
  },
  {
   "cell_type": "code",
   "execution_count": 75,
   "metadata": {},
   "outputs": [],
   "source": [
    "df_agg_metrics = df_metrics.pivot_table(index=\"Shrinkage\", columns=\"Metric\", values=\"Test\")"
   ]
  },
  {
   "cell_type": "code",
   "execution_count": 76,
   "metadata": {},
   "outputs": [
    {
     "data": {
      "text/plain": [
       "<AxesSubplot:xlabel='Shrinkage'>"
      ]
     },
     "execution_count": 76,
     "metadata": {},
     "output_type": "execute_result"
    },
    {
     "data": {
      "image/png": "[encoded data removed]",
      "text/plain": [
       "<Figure size 432x288 with 1 Axes>"
      ]
     },
     "metadata": {
      "needs_background": "light"
     },
     "output_type": "display_data"
    }
   ],
   "source": [
    "df_agg_metrics[[\"RMSE\"]].plot()"
   ]
  },
  {
   "cell_type": "code",
   "execution_count": 77,
   "metadata": {},
   "outputs": [
    {
     "data": {
      "text/plain": [
       "Metric\n",
       "MAD           3.394820\n",
       "MSE          23.933914\n",
       "Pseudo-R2     0.716442\n",
       "R2            0.708117\n",
       "RMSE          4.856875\n",
       "Name: 0.11386934673366834, dtype: float64"
      ]
     },
     "execution_count": 77,
     "metadata": {},
     "output_type": "execute_result"
    }
   ],
   "source": [
    "df_agg_metrics.loc[df_agg_metrics[\"RMSE\"].idxmin()]"
   ]
  },
  {
   "cell_type": "markdown",
   "metadata": {},
   "source": [
    "### Ridge + Polynomial Features"
   ]
  },
  {
   "cell_type": "code",
   "execution_count": 161,
   "metadata": {},
   "outputs": [
    {
     "name": "stdout",
     "output_type": "stream",
     "text": [
      "1\n",
      "2\n",
      "3\n",
      "4\n",
      "5\n"
     ]
    }
   ],
   "source": [
    "# pre-instantiation\n",
    "from sklearn.linear_model import Ridge\n",
    "poly_params = {\"degree\": 1,\n",
    "               \"interaction_only\": False,\n",
    "               \"include_bias\": False\n",
    "              }\n",
    "ridge_shrinkage = np.linspace(0.01, 10000.0, num=200)\n",
    "target = [\"T1\"]\n",
    "df_metrics = pd.DataFrame(index=[0], columns=[\"Fold\", \"Shrinkage\", \"Metric\", \"Train\", \"Test\"])\n",
    "\n",
    "# main loop\n",
    "\n",
    "k, f = 0, 0\n",
    "for (train, test) in k_folds.split(df.drop(labels=target, axis=1)):\n",
    "    coefs = []\n",
    "    f += 1\n",
    "    print(f)\n",
    "    # separate variables and folds\n",
    "    x_train = df.drop(labels=target, axis=1).values[train]\n",
    "    x_test = df.drop(labels=target, axis=1).values[test]\n",
    "    y_train = df[target].values[train]\n",
    "    y_test = df[target].values[test]\n",
    "    \n",
    "    # scale variables\n",
    "    #scaler_x = StandardScaler().fit(x_train)\n",
    "    #x_train = scaler_x.transform(x_train)\n",
    "    #x_test = scaler_x.transform(x_test)\n",
    "    \n",
    "    # polynomial features - will include bias automatically\n",
    "    #poly_func = PolynomialFeatures(**poly_params).fit(x_train)\n",
    "    #x_train = poly_func.transform(x_train)\n",
    "    #x_test = poly_func.transform(x_test)\n",
    "            \n",
    "    # fit model\n",
    "    for l in ridge_shrinkage:\n",
    "        # train model - min ||coefs||^2, subject to: X coefs = y -- L(\\lambda) = ||coefs||^1 + \\lambda * (X coefs - y)\n",
    "        #inv_component = np.linalg.pinv(np.matmul(x_train.transpose(), x_train) + np.eye(x_train.shape[1]) * l * x_train.shape[1])\n",
    "        #coefs = np.matmul(inv_component, np.matmul(x_train.transpose(), y_train))\n",
    "        \n",
    "        # fit model\n",
    "        model = Pipeline([(\"Poly\", PolynomialFeatures(**poly_params)),\n",
    "                          (\"StdScaler1\", StandardScaler()),\n",
    "                          (\"Ridge\", Ridge(alpha=l))])\n",
    "        model.fit(x_train, y_train)\n",
    "        coefs += [model[2].coef_]\n",
    "        \n",
    "        # get predictions\n",
    "        #y_train_pred = np.matmul(x_train, coefs)\n",
    "        y_train_pred = model.predict(x_train)\n",
    "        #y_test_pred = np.matmul(x_test, coefs)\n",
    "        y_test_pred = model.predict(x_test)\n",
    "        \n",
    "        # compute metrics\n",
    "        for pf in list(perf_metrics.keys()):\n",
    "            df_metrics.loc[k, \"Fold\"] = f\n",
    "            df_metrics.loc[k, \"Metric\"] = pf\n",
    "            df_metrics.loc[k, \"Shrinkage\"] = l\n",
    "            df_metrics.loc[k, \"Train\"] = perf_metrics[pf](y_train.ravel(), y_train_pred.ravel())\n",
    "            df_metrics.loc[k, \"Test\"] = perf_metrics[pf](y_test.ravel(), y_test_pred.ravel())\n",
    "            k += 1\n",
    "        \n",
    "        # if using sklearn: from sklearn.linear_model import Ridge, Lasso\n",
    "        #ml = Ridge(alpha=l).fit(x_train, y_train)\n",
    "        #pred_train = ml.predict(x_train)\n",
    "        #pred_test = ml.predict(x_test)\n",
    "\n",
    "# final organization\n",
    "df_metrics = df_metrics.apply(pd.to_numeric, errors=\"ignore\")"
   ]
  },
  {
   "cell_type": "code",
   "execution_count": 162,
   "metadata": {},
   "outputs": [],
   "source": [
    "r = True\n",
    "for c in np.array(coefs):\n",
    "    coef = pd.DataFrame(c[0])\n",
    "    if r:\n",
    "        df_coef = coef.copy()\n",
    "        r=False\n",
    "    else:\n",
    "        df_coef = pd.concat([df_coef, coef], axis=1)"
   ]
  },
  {
   "cell_type": "code",
   "execution_count": 163,
   "metadata": {},
   "outputs": [],
   "source": [
    "df_coef.columns = [str(l) for l in ridge_shrinkage]"
   ]
  },
  {
   "cell_type": "code",
   "execution_count": 164,
   "metadata": {},
   "outputs": [
    {
     "data": {
      "text/plain": [
       "<AxesSubplot:>"
      ]
     },
     "execution_count": 164,
     "metadata": {},
     "output_type": "execute_result"
    },
    {
     "data": {
      "image/png": "[encoded data removed]",
      "text/plain": [
       "<Figure size 432x288 with 1 Axes>"
      ]
     },
     "metadata": {
      "needs_background": "light"
     },
     "output_type": "display_data"
    }
   ],
   "source": [
    "df_coef.transpose().plot()"
   ]
  },
  {
   "cell_type": "markdown",
   "metadata": {},
   "source": [
    "#### Stats"
   ]
  },
  {
   "cell_type": "code",
   "execution_count": 109,
   "metadata": {},
   "outputs": [],
   "source": [
    "df_agg_metrics = df_metrics.pivot_table(index=\"Shrinkage\", columns=\"Metric\", values=\"Test\")"
   ]
  },
  {
   "cell_type": "code",
   "execution_count": 117,
   "metadata": {},
   "outputs": [
    {
     "data": {
      "text/plain": [
       "<AxesSubplot:xlabel='Shrinkage'>"
      ]
     },
     "execution_count": 117,
     "metadata": {},
     "output_type": "execute_result"
    },
    {
     "data": {
      "image/png": "[encoded data removed]",
      "text/plain": [
       "<Figure size 432x288 with 1 Axes>"
      ]
     },
     "metadata": {
      "needs_background": "light"
     },
     "output_type": "display_data"
    }
   ],
   "source": [
    "df_agg_metrics[[\"R2\"]].plot()"
   ]
  },
  {
   "cell_type": "code",
   "execution_count": 116,
   "metadata": {},
   "outputs": [
    {
     "data": {
      "text/plain": [
       "Metric\n",
       "MAD           2.530416\n",
       "MSE          13.919401\n",
       "Pseudo-R2     0.839995\n",
       "R2            0.826166\n",
       "RMSE          3.707849\n",
       "Name: 0.01, dtype: float64"
      ]
     },
     "execution_count": 116,
     "metadata": {},
     "output_type": "execute_result"
    }
   ],
   "source": [
    "df_agg_metrics.loc[df_agg_metrics[\"R2\"].idxmin()]"
   ]
  },
  {
   "cell_type": "code",
   "execution_count": 103,
   "metadata": {},
   "outputs": [
    {
     "data": {
      "text/plain": [
       "0.6330076004343106"
      ]
     },
     "execution_count": 103,
     "metadata": {},
     "output_type": "execute_result"
    }
   ],
   "source": [
    "1 - 3.38/9.21"
   ]
  },
  {
   "cell_type": "code",
   "execution_count": 92,
   "metadata": {},
   "outputs": [
    {
     "data": {
      "text/plain": [
       "0.1240506329113924"
      ]
     },
     "execution_count": 92,
     "metadata": {},
     "output_type": "execute_result"
    }
   ],
   "source": [
    "1 - 3.46/3.95"
   ]
  },
  {
   "cell_type": "code",
   "execution_count": 93,
   "metadata": {},
   "outputs": [
    {
     "data": {
      "text/plain": [
       "0.15727272727272726"
      ]
     },
     "execution_count": 93,
     "metadata": {},
     "output_type": "execute_result"
    }
   ],
   "source": [
    "3.46/22"
   ]
  },
  {
   "cell_type": "code",
   "execution_count": null,
   "metadata": {},
   "outputs": [],
   "source": []
  },
  {
   "cell_type": "markdown",
   "metadata": {},
   "source": [
    "# Classification"
   ]
  },
  {
   "cell_type": "markdown",
   "metadata": {},
   "source": [
    "## Organize data"
   ]
  },
  {
   "cell_type": "markdown",
   "metadata": {},
   "source": [
    "### Load data"
   ]
  },
  {
   "cell_type": "code",
   "execution_count": null,
   "metadata": {},
   "outputs": [],
   "source": [
    "df = pd.read_csv(\"https://raw.githubusercontent.com/askoshiyama/mli-cohort/master/german_credit.csv\")\n",
    "df.head()"
   ]
  },
  {
   "cell_type": "markdown",
   "metadata": {},
   "source": [
    "### Pre-process variables"
   ]
  },
  {
   "cell_type": "code",
   "execution_count": null,
   "metadata": {},
   "outputs": [],
   "source": [
    "# variable types\n",
    "df.dtypes"
   ]
  },
  {
   "cell_type": "code",
   "execution_count": null,
   "metadata": {},
   "outputs": [],
   "source": [
    "# categorical variables\n",
    "cat_variables = ['account_check_status', 'credit_history', 'purpose', 'savings', 'present_emp_since', 'personal_status_sex',\n",
    "                'property', 'other_installment_plans', 'housing', 'job', 'telephone', \"other_debtors\", 'foreign_worker']\n",
    "\n",
    "# target variable\n",
    "output_variable = [\"default\"]\n",
    "\n",
    "# other integer variables\n",
    "int_variables = ['credits_this_bank', 'present_res_since', 'duration_in_month', 'people_under_maintenance', \n",
    "                 'installment_as_income_perc', 'age', 'credit_amount']\n",
    "# list(set(df.columns) - set(output_variable) - set(cat_variables))"
   ]
  },
  {
   "cell_type": "code",
   "execution_count": null,
   "metadata": {},
   "outputs": [],
   "source": [
    "# pre-allocation\n",
    "df_cat = pd.DataFrame(index=df.index)\n",
    "\n",
    "# one-hot encoding of categorical variables\n",
    "from sklearn.preprocessing import OneHotEncoder\n",
    "\n",
    "# I will do a loop for pedagogical reasons, but it is not entirely necessary\n",
    "for cat in cat_variables:\n",
    "    # one-hot encoding fitting\n",
    "    one_hot_func = OneHotEncoder().fit(df[[cat]])\n",
    "    \n",
    "    # mapping\n",
    "    cat_mapped = one_hot_func.transform(df[[cat]]).toarray()\n",
    "    \n",
    "    # storing\n",
    "    for (k, cat_label) in enumerate(one_hot_func.categories_[0]):\n",
    "        df_cat[cat + \"_\" + cat_label] = cat_mapped[:, k]\n",
    "\n",
    "# quick check\n",
    "df_cat.mean()"
   ]
  },
  {
   "cell_type": "code",
   "execution_count": null,
   "metadata": {},
   "outputs": [],
   "source": [
    "# bracketing integer variable - age\n",
    "from sklearn.preprocessing import KBinsDiscretizer\n",
    "kbin_func = KBinsDiscretizer(n_bins=3, encode='onehot', strategy='quantile').fit(df[[\"age\"]])\n",
    "df_age = pd.DataFrame(kbin_func.transform(df[[\"age\"]]).toarray(), columns=[\"young\", \"adult\", \"senior\"])\n",
    "\n",
    "# checking\n",
    "pd.concat([df_age, df[[\"age\"]]], axis=1).head(10)"
   ]
  },
  {
   "cell_type": "code",
   "execution_count": null,
   "metadata": {},
   "outputs": [],
   "source": [
    "# other types of transformations possible - log transformation \n",
    "from sklearn.preprocessing import FunctionTransformer\n",
    "log_mapping = FunctionTransformer(func=np.log, inverse_func=np.exp)\n",
    "\n",
    "fig, (ax1, ax2) = plt.subplots(1, 2, figsize=(12, 5))\n",
    "ax1.hist(df[\"credit_amount\"])\n",
    "ax1.set_title(\"Pre-transformation\")\n",
    "\n",
    "ax2.hist(log_mapping.transform(df[[\"credit_amount\"]].values))\n",
    "ax2.set_title(\"After log-transformation\")\n",
    "df_log = pd.DataFrame(log_mapping.transform(df[[\"credit_amount\"]].values), columns=[\"log(credit)\"])"
   ]
  },
  {
   "cell_type": "markdown",
   "metadata": {},
   "source": [
    "### Consolidating a final dataset"
   ]
  },
  {
   "cell_type": "code",
   "execution_count": null,
   "metadata": {},
   "outputs": [],
   "source": [
    "df_model = pd.concat([df[int_variables[:-2]], df_cat, df_age, df_log, df[output_variable]], axis=1)\n",
    "df.shape, df_model.shape"
   ]
  },
  {
   "cell_type": "code",
   "execution_count": null,
   "metadata": {},
   "outputs": [],
   "source": [
    "df_model.head()"
   ]
  },
  {
   "cell_type": "markdown",
   "metadata": {},
   "source": [
    "## Modelling"
   ]
  },
  {
   "cell_type": "code",
   "execution_count": null,
   "metadata": {},
   "outputs": [],
   "source": [
    "df_model[output_variable].describe()"
   ]
  },
  {
   "cell_type": "markdown",
   "metadata": {},
   "source": [
    "### Settings"
   ]
  },
  {
   "cell_type": "code",
   "execution_count": null,
   "metadata": {},
   "outputs": [],
   "source": [
    "from sklearn import metrics\n",
    "from sklearn.model_selection import StratifiedKFold\n",
    "\n",
    "# 3-fold cv\n",
    "k_folds = StratifiedKFold(n_splits=3, shuffle=True, random_state=10)\n",
    "\n",
    "# performance metrics - \n",
    "# homework: https://scikit-learn.org/stable/modules/model_evaluation.html#classification-metrics\n",
    "# homework: https://en.wikipedia.org/wiki/Confusion_matrix, \n",
    "perf_metrics = {\"Accuracy\": metrics.accuracy_score, \n",
    "                \"Precision\": metrics.precision_score, \n",
    "                \"Recall\": metrics.recall_score,\n",
    "                \"AUC\": metrics.roc_auc_score, \n",
    "                \"F1-Score\": metrics.f1_score, \n",
    "                \"Brier\": metrics.brier_score_loss\n",
    "               }"
   ]
  },
  {
   "cell_type": "markdown",
   "metadata": {},
   "source": [
    "### Logistic Regression - From \"Scratch\""
   ]
  },
  {
   "cell_type": "code",
   "execution_count": null,
   "metadata": {},
   "outputs": [],
   "source": [
    "# some functions\n",
    "def sigmoid(z):\n",
    "    return 1 / (1 + np.exp(-z))\n",
    "\n",
    "def logistic_prediction(X, theta):\n",
    "    z = np.dot(X, theta)\n",
    "    h = sigmoid(z)\n",
    "    return h\n",
    "\n",
    "def loss(h, y):\n",
    "    h = np.clip(h, 1e-15, 1 - 1e-15) # too close to zero or one\n",
    "    return -(y * np.log(h) + (1 - y) * np.log(1 - h)).mean()"
   ]
  },
  {
   "cell_type": "code",
   "execution_count": null,
   "metadata": {},
   "outputs": [],
   "source": [
    "# quick test\n",
    "theta = np.random.normal(size=df_model.drop(labels=output_variable, axis=1).shape[1])\n",
    "pred = logistic_prediction(df_model.drop(labels=output_variable, axis=1).values, theta)\n",
    "loss(pred, df_model[output_variable].values)"
   ]
  },
  {
   "cell_type": "code",
   "execution_count": null,
   "metadata": {},
   "outputs": [],
   "source": [
    "# main loop\n",
    "# pre-instantiation\n",
    "n_vars = df_model.drop(labels=output_variable, axis=1).shape[1] # number of variables\n",
    "step_size = 0.01 # finite difference step-size\n",
    "lr = 0.01 # learning rate -- dictate the speed\n",
    "max_iter = 30 # maximum number of iterations\n",
    "df_metrics = pd.DataFrame(index=[0], columns=[\"Fold\", \"Metric\", \"Train\", \"Test\"])\n",
    "\n",
    "# main loop\n",
    "k, f = 0, 0\n",
    "for (train, test) in k_folds.split(df_model.drop(labels=output_variable, axis=1), df_model[output_variable]):\n",
    "    f += 1\n",
    "    # separate variables and folds\n",
    "    x_train = df_model.drop(labels=output_variable, axis=1).values[train]\n",
    "    x_test = df_model.drop(labels=output_variable, axis=1).values[test]\n",
    "    y_train = df_model[output_variable].values[train]\n",
    "    y_test = df_model[output_variable].values[test]\n",
    "    \n",
    "    # scale variables\n",
    "    #scaler_x = StandardScaler().fit(x_train)\n",
    "    #x_train = np.hstack([np.ones((x_train.shape[0], 1)), scaler_x.transform(x_train)])\n",
    "    #x_test = np.hstack([np.ones((x_test.shape[0], 1)), scaler_x.transform(x_test)])\n",
    "    \n",
    "    # fit model\n",
    "    # initialization\n",
    "    theta = np.random.normal(size=n_vars) # random coefs\n",
    "    pred = logistic_prediction(x_train, theta)\n",
    "    loss_iter = loss(pred, y_train)\n",
    "    print(\"fold: %d, iter: %d, loss: %.4f\" % (f, 0, loss_iter), end=\"\\r\")\n",
    "    \n",
    "    # training\n",
    "    for it in range(1, max_iter):\n",
    "        log_grad = np.zeros(shape=(n_vars,))\n",
    "        # compute numerical gradient - finite differences\n",
    "        for c in range(n_vars):\n",
    "            new_theta = np.copy(theta)\n",
    "            new_theta[c] = new_theta[c] + step_size\n",
    "            new_pred = logistic_prediction(x_train, new_theta)\n",
    "            c_loss = loss(new_pred, y_train)\n",
    "            log_grad[c] = (c_loss - loss_iter)/(step_size) # f'(x) ~ (f(x+e) - f(x-e))/2*e\n",
    "        \n",
    "        # update model\n",
    "        theta = theta - lr * log_grad\n",
    "        \n",
    "        # get current loss\n",
    "        pred = logistic_prediction(x_train, theta)\n",
    "        diff_loss = np.abs(loss_iter - loss(pred, y_train))\n",
    "        loss_iter = loss(pred, y_train)\n",
    "        print(\"fold: %d, iter: %d, loss: %.4f, grad_norm: %.4f\" % (f, it, loss_iter, np.linalg.norm(log_grad)), end=\"\\r\")\n",
    "        if diff_loss < 1e-3:\n",
    "            break\n",
    "    \n",
    "    # compute final predictions\n",
    "    y_train_pred = logistic_prediction(x_train, theta)\n",
    "    y_test_pred = logistic_prediction(x_test, theta)\n",
    "    \n",
    "    # store results\n",
    "    for pf in list(perf_metrics.keys()):\n",
    "        df_metrics.loc[k, \"Fold\"] = f\n",
    "        df_metrics.loc[k, \"Metric\"] = pf\n",
    "        if pf in [\"Accuracy\", \"Precision\", \"Recall\", \"F1-Score\"]: # put a threshold\n",
    "            df_metrics.loc[k, \"Train\"] = perf_metrics[pf](y_train, y_train_pred > 0.5)\n",
    "            df_metrics.loc[k, \"Test\"] = perf_metrics[pf](y_test, y_test_pred > 0.5)\n",
    "        else:\n",
    "            df_metrics.loc[k, \"Train\"] = perf_metrics[pf](y_train, y_train_pred)\n",
    "            df_metrics.loc[k, \"Test\"] = perf_metrics[pf](y_test, y_test_pred)\n",
    "\n",
    "        k += 1\n",
    "        \n",
    "        # if using sklearn: from sklearn.linear_model import Ridge\n",
    "        #ml = LogisticRegression(penalty=\"None\").fit(x_train, y_train)\n",
    "        #y_train_pred = ml.predict(x_train)\n",
    "        #y_test_pred = ml.predict(x_test)\n",
    "\n",
    "# final organization\n",
    "df_metrics = df_metrics.apply(pd.to_numeric, errors=\"ignore\")"
   ]
  },
  {
   "cell_type": "code",
   "execution_count": null,
   "metadata": {},
   "outputs": [],
   "source": [
    "df_metrics.pivot_table(index=\"Metric\", values=[\"Train\", \"Test\"])"
   ]
  },
  {
   "cell_type": "markdown",
   "metadata": {},
   "source": [
    "### Sparse Logistic Regression (a.k.a. Ridge Logistic)"
   ]
  },
  {
   "cell_type": "code",
   "execution_count": null,
   "metadata": {},
   "outputs": [],
   "source": [
    "# pre-instantiation\n",
    "from sklearn.linear_model import LogisticRegression\n",
    "from sklearn.preprocessing import StandardScaler\n",
    "shrink = np.linspace(0.001, 2.0, num=100)\n",
    "df_metrics = pd.DataFrame(index=[0], columns=[\"Fold\", \"Shrinkage\", \"Metric\", \"Train\", \"Test\"])\n",
    "\n",
    "# main loop\n",
    "k, f = 0, 0\n",
    "for (train, test) in k_folds.split(df_model.drop(labels=output_variable, axis=1), df_model[output_variable]):\n",
    "    f += 1\n",
    "    # separate variables and folds\n",
    "    x_train = df_model.drop(labels=output_variable, axis=1).values[train]\n",
    "    x_test = df_model.drop(labels=output_variable, axis=1).values[test]\n",
    "    y_train = df_model[output_variable].values[train]\n",
    "    y_test = df_model[output_variable].values[test]\n",
    "    \n",
    "    # scale  variables\n",
    "    scaler_x = StandardScaler().fit(x_train)\n",
    "    x_train = scaler_x.transform(x_train)\n",
    "    x_test = scaler_x.transform(x_test)\n",
    "    \n",
    "    # fit model\n",
    "    for l in shrink:\n",
    "        # train model\n",
    "        model = LogisticRegression(penalty=\"l2\", C=l, solver=\"lbfgs\").fit(x_train, y_train.ravel())\n",
    "        \n",
    "        # get predictions\n",
    "        y_train_pred = model.predict(x_train)\n",
    "        y_test_pred = model.predict(x_test)\n",
    "        \n",
    "        # compute metrics\n",
    "        for pf in list(perf_metrics.keys()):\n",
    "            df_metrics.loc[k, \"Fold\"] = f\n",
    "            df_metrics.loc[k, \"Metric\"] = pf\n",
    "            df_metrics.loc[k, \"Shrinkage\"] = l\n",
    "            if pf in [\"Accuracy\", \"Precision\", \"Recall\", \"F1-Score\"]: # put a threshold\n",
    "                df_metrics.loc[k, \"Train\"] = perf_metrics[pf](y_train, y_train_pred > 0.5)\n",
    "                df_metrics.loc[k, \"Test\"] = perf_metrics[pf](y_test, y_test_pred > 0.5)\n",
    "            else:\n",
    "                df_metrics.loc[k, \"Train\"] = perf_metrics[pf](y_train, y_train_pred)\n",
    "                df_metrics.loc[k, \"Test\"] = perf_metrics[pf](y_test, y_test_pred)\n",
    "\n",
    "            k += 1\n",
    "    print(\"fold: %d\" % (f))\n",
    "\n",
    "# final organization\n",
    "df_metrics = df_metrics.apply(pd.to_numeric, errors=\"ignore\")"
   ]
  },
  {
   "cell_type": "code",
   "execution_count": null,
   "metadata": {},
   "outputs": [],
   "source": [
    "df_metrics.pivot_table(index=[\"Shrinkage\"], columns=[\"Metric\"], values=[\"Test\"]).head()"
   ]
  },
  {
   "cell_type": "code",
   "execution_count": null,
   "metadata": {},
   "outputs": [],
   "source": [
    "df_metrics.pivot_table(index=[\"Shrinkage\"], columns=[\"Metric\"], values=[\"Test\"])[\"Test\"][\"Accuracy\"].plot()"
   ]
  }
 ],
 "metadata": {
  "kernelspec": {
   "display_name": "Python 3",
   "language": "python",
   "name": "python3"
  },
  "language_info": {
   "codemirror_mode": {
    "name": "ipython",
    "version": 3
   },
   "file_extension": ".py",
   "mimetype": "text/x-python",
   "name": "python",
   "nbconvert_exporter": "python",
   "pygments_lexer": "ipython3",
   "version": "3.8.8"
  }
 },
 "nbformat": 4,
 "nbformat_minor": 2
}
