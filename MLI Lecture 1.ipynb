{
 "cells": [
  {
   "cell_type": "code",
   "execution_count": 4,
   "metadata": {},
   "outputs": [
    {
     "name": "stdout",
     "output_type": "stream",
     "text": [
      "Collecting pandas\n",
      "  Downloading pandas-1.0.3-cp37-cp37m-win_amd64.whl (8.7 MB)\n",
      "Collecting matplotlib\n",
      "  Downloading matplotlib-3.2.1-cp37-cp37m-win_amd64.whl (9.2 MB)\n",
      "Collecting seaborn\n",
      "  Downloading seaborn-0.10.1-py3-none-any.whl (215 kB)\n",
      "Collecting pytz>=2017.2\n",
      "  Downloading pytz-2020.1-py2.py3-none-any.whl (510 kB)\n",
      "Collecting numpy>=1.13.3\n",
      "  Downloading numpy-1.18.3-cp37-cp37m-win_amd64.whl (12.8 MB)\n",
      "Requirement already satisfied: python-dateutil>=2.6.1 in c:\\users\\koshiyama\\anaconda3-64bit\\envs\\mli4\\lib\\site-packages (from pandas) (2.8.1)\n",
      "Collecting kiwisolver>=1.0.1\n",
      "  Downloading kiwisolver-1.2.0-cp37-none-win_amd64.whl (57 kB)\n",
      "Collecting pyparsing!=2.0.4,!=2.1.2,!=2.1.6,>=2.0.1\n",
      "  Downloading pyparsing-2.4.7-py2.py3-none-any.whl (67 kB)\n",
      "Collecting cycler>=0.10\n",
      "  Using cached cycler-0.10.0-py2.py3-none-any.whl (6.5 kB)\n",
      "Collecting scipy>=1.0.1\n",
      "  Downloading scipy-1.4.1-cp37-cp37m-win_amd64.whl (30.9 MB)\n",
      "Requirement already satisfied: six>=1.5 in c:\\users\\koshiyama\\anaconda3-64bit\\envs\\mli4\\lib\\site-packages (from python-dateutil>=2.6.1->pandas) (1.14.0)\n",
      "Installing collected packages: pytz, numpy, pandas, kiwisolver, pyparsing, cycler, matplotlib, scipy, seaborn\n",
      "Successfully installed cycler-0.10.0 kiwisolver-1.2.0 matplotlib-3.2.1 numpy-1.18.3 pandas-1.0.3 pyparsing-2.4.7 pytz-2020.1 scipy-1.4.1 seaborn-0.10.1\n"
     ]
    }
   ],
   "source": [
    "!pip install pandas matplotlib seaborn"
   ]
  },
  {
   "cell_type": "code",
   "execution_count": 6,
   "metadata": {},
   "outputs": [],
   "source": [
    "# to say to jupyter notebook to plot/show the charts on it \n",
    "%matplotlib inline \n",
    "import pandas as pd # data frames\n",
    "import numpy as np # matrix algebra\n",
    "from matplotlib import pyplot as plt # normal charts\n",
    "import seaborn as sns # fancy charts"
   ]
  },
  {
   "cell_type": "markdown",
   "metadata": {},
   "source": [
    "# Regression"
   ]
  },
  {
   "cell_type": "markdown",
   "metadata": {},
   "source": [
    "## Organize data"
   ]
  },
  {
   "cell_type": "markdown",
   "metadata": {},
   "source": [
    "### Load data"
   ]
  },
  {
   "cell_type": "code",
   "execution_count": 7,
   "metadata": {},
   "outputs": [
    {
     "data": {
      "text/html": [
       "<div>\n",
       "<style scoped>\n",
       "    .dataframe tbody tr th:only-of-type {\n",
       "        vertical-align: middle;\n",
       "    }\n",
       "\n",
       "    .dataframe tbody tr th {\n",
       "        vertical-align: top;\n",
       "    }\n",
       "\n",
       "    .dataframe thead th {\n",
       "        text-align: right;\n",
       "    }\n",
       "</style>\n",
       "<table border=\"1\" class=\"dataframe\">\n",
       "  <thead>\n",
       "    <tr style=\"text-align: right;\">\n",
       "      <th></th>\n",
       "      <th>V1</th>\n",
       "      <th>V2</th>\n",
       "      <th>V3</th>\n",
       "      <th>V4</th>\n",
       "      <th>V5</th>\n",
       "      <th>V6</th>\n",
       "      <th>V7</th>\n",
       "      <th>V8</th>\n",
       "      <th>V9</th>\n",
       "      <th>V10</th>\n",
       "      <th>V11</th>\n",
       "      <th>V12</th>\n",
       "      <th>V13</th>\n",
       "      <th>T1</th>\n",
       "    </tr>\n",
       "  </thead>\n",
       "  <tbody>\n",
       "    <tr>\n",
       "      <th>0</th>\n",
       "      <td>0.00632</td>\n",
       "      <td>18.0</td>\n",
       "      <td>2.31</td>\n",
       "      <td>0</td>\n",
       "      <td>0.538</td>\n",
       "      <td>6.575</td>\n",
       "      <td>65.2</td>\n",
       "      <td>4.0900</td>\n",
       "      <td>1</td>\n",
       "      <td>296</td>\n",
       "      <td>15.3</td>\n",
       "      <td>396.90</td>\n",
       "      <td>4.98</td>\n",
       "      <td>24.0</td>\n",
       "    </tr>\n",
       "    <tr>\n",
       "      <th>1</th>\n",
       "      <td>0.02731</td>\n",
       "      <td>0.0</td>\n",
       "      <td>7.07</td>\n",
       "      <td>0</td>\n",
       "      <td>0.469</td>\n",
       "      <td>6.421</td>\n",
       "      <td>78.9</td>\n",
       "      <td>4.9671</td>\n",
       "      <td>2</td>\n",
       "      <td>242</td>\n",
       "      <td>17.8</td>\n",
       "      <td>396.90</td>\n",
       "      <td>9.14</td>\n",
       "      <td>21.6</td>\n",
       "    </tr>\n",
       "    <tr>\n",
       "      <th>2</th>\n",
       "      <td>0.02729</td>\n",
       "      <td>0.0</td>\n",
       "      <td>7.07</td>\n",
       "      <td>0</td>\n",
       "      <td>0.469</td>\n",
       "      <td>7.185</td>\n",
       "      <td>61.1</td>\n",
       "      <td>4.9671</td>\n",
       "      <td>2</td>\n",
       "      <td>242</td>\n",
       "      <td>17.8</td>\n",
       "      <td>392.83</td>\n",
       "      <td>4.03</td>\n",
       "      <td>34.7</td>\n",
       "    </tr>\n",
       "    <tr>\n",
       "      <th>3</th>\n",
       "      <td>0.03237</td>\n",
       "      <td>0.0</td>\n",
       "      <td>2.18</td>\n",
       "      <td>0</td>\n",
       "      <td>0.458</td>\n",
       "      <td>6.998</td>\n",
       "      <td>45.8</td>\n",
       "      <td>6.0622</td>\n",
       "      <td>3</td>\n",
       "      <td>222</td>\n",
       "      <td>18.7</td>\n",
       "      <td>394.63</td>\n",
       "      <td>2.94</td>\n",
       "      <td>33.4</td>\n",
       "    </tr>\n",
       "    <tr>\n",
       "      <th>4</th>\n",
       "      <td>0.06905</td>\n",
       "      <td>0.0</td>\n",
       "      <td>2.18</td>\n",
       "      <td>0</td>\n",
       "      <td>0.458</td>\n",
       "      <td>7.147</td>\n",
       "      <td>54.2</td>\n",
       "      <td>6.0622</td>\n",
       "      <td>3</td>\n",
       "      <td>222</td>\n",
       "      <td>18.7</td>\n",
       "      <td>396.90</td>\n",
       "      <td>5.33</td>\n",
       "      <td>36.2</td>\n",
       "    </tr>\n",
       "  </tbody>\n",
       "</table>\n",
       "</div>"
      ],
      "text/plain": [
       "        V1    V2    V3  V4     V5     V6    V7      V8  V9  V10   V11     V12  \\\n",
       "0  0.00632  18.0  2.31   0  0.538  6.575  65.2  4.0900   1  296  15.3  396.90   \n",
       "1  0.02731   0.0  7.07   0  0.469  6.421  78.9  4.9671   2  242  17.8  396.90   \n",
       "2  0.02729   0.0  7.07   0  0.469  7.185  61.1  4.9671   2  242  17.8  392.83   \n",
       "3  0.03237   0.0  2.18   0  0.458  6.998  45.8  6.0622   3  222  18.7  394.63   \n",
       "4  0.06905   0.0  2.18   0  0.458  7.147  54.2  6.0622   3  222  18.7  396.90   \n",
       "\n",
       "    V13    T1  \n",
       "0  4.98  24.0  \n",
       "1  9.14  21.6  \n",
       "2  4.03  34.7  \n",
       "3  2.94  33.4  \n",
       "4  5.33  36.2  "
      ]
     },
     "execution_count": 7,
     "metadata": {},
     "output_type": "execute_result"
    }
   ],
   "source": [
    "# read data\n",
    "df = pd.read_csv(\"https://raw.githubusercontent.com/askoshiyama/mli-cohort/master/boston.csv\")\n",
    "df.head()"
   ]
  },
  {
   "cell_type": "code",
   "execution_count": 8,
   "metadata": {},
   "outputs": [
    {
     "data": {
      "text/html": [
       "<div>\n",
       "<style scoped>\n",
       "    .dataframe tbody tr th:only-of-type {\n",
       "        vertical-align: middle;\n",
       "    }\n",
       "\n",
       "    .dataframe tbody tr th {\n",
       "        vertical-align: top;\n",
       "    }\n",
       "\n",
       "    .dataframe thead th {\n",
       "        text-align: right;\n",
       "    }\n",
       "</style>\n",
       "<table border=\"1\" class=\"dataframe\">\n",
       "  <thead>\n",
       "    <tr style=\"text-align: right;\">\n",
       "      <th></th>\n",
       "      <th>There are 14 attributes in each case of the dataset. They are:</th>\n",
       "    </tr>\n",
       "  </thead>\n",
       "  <tbody>\n",
       "    <tr>\n",
       "      <th>0</th>\n",
       "      <td>V1 - CRIM - per capita crime rate by town</td>\n",
       "    </tr>\n",
       "    <tr>\n",
       "      <th>1</th>\n",
       "      <td>V2 - ZN - proportion of residential land zoned...</td>\n",
       "    </tr>\n",
       "    <tr>\n",
       "      <th>2</th>\n",
       "      <td>V3 - INDUS - proportion of non-retail business...</td>\n",
       "    </tr>\n",
       "    <tr>\n",
       "      <th>3</th>\n",
       "      <td>V4 - CHAS - Charles River dummy variable (1 if...</td>\n",
       "    </tr>\n",
       "    <tr>\n",
       "      <th>4</th>\n",
       "      <td>V5 - NOX - nitric oxides concentration (parts ...</td>\n",
       "    </tr>\n",
       "    <tr>\n",
       "      <th>5</th>\n",
       "      <td>V6 - RM - average number of rooms per dwelling</td>\n",
       "    </tr>\n",
       "    <tr>\n",
       "      <th>6</th>\n",
       "      <td>V7 - AGE - proportion of owner-occupied units ...</td>\n",
       "    </tr>\n",
       "    <tr>\n",
       "      <th>7</th>\n",
       "      <td>V8 - DIS - weighted distances to five Boston e...</td>\n",
       "    </tr>\n",
       "    <tr>\n",
       "      <th>8</th>\n",
       "      <td>V9 - RAD - index of accessibility to radial hi...</td>\n",
       "    </tr>\n",
       "    <tr>\n",
       "      <th>9</th>\n",
       "      <td>V10 - TAX - full-value property-tax rate per $...</td>\n",
       "    </tr>\n",
       "    <tr>\n",
       "      <th>10</th>\n",
       "      <td>V11 - PTRATIO - pupil-teacher ratio by town</td>\n",
       "    </tr>\n",
       "    <tr>\n",
       "      <th>11</th>\n",
       "      <td>V12 - B - 1000(Bk - 0.63)^2 where Bk is the pr...</td>\n",
       "    </tr>\n",
       "    <tr>\n",
       "      <th>12</th>\n",
       "      <td>V13 - LSTAT - % lower status of the population</td>\n",
       "    </tr>\n",
       "    <tr>\n",
       "      <th>13</th>\n",
       "      <td>T1 - MEDV - Median value of owner-occupied hom...</td>\n",
       "    </tr>\n",
       "  </tbody>\n",
       "</table>\n",
       "</div>"
      ],
      "text/plain": [
       "   There are 14 attributes in each case of the dataset. They are:\n",
       "0           V1 - CRIM - per capita crime rate by town            \n",
       "1   V2 - ZN - proportion of residential land zoned...            \n",
       "2   V3 - INDUS - proportion of non-retail business...            \n",
       "3   V4 - CHAS - Charles River dummy variable (1 if...            \n",
       "4   V5 - NOX - nitric oxides concentration (parts ...            \n",
       "5      V6 - RM - average number of rooms per dwelling            \n",
       "6   V7 - AGE - proportion of owner-occupied units ...            \n",
       "7   V8 - DIS - weighted distances to five Boston e...            \n",
       "8   V9 - RAD - index of accessibility to radial hi...            \n",
       "9   V10 - TAX - full-value property-tax rate per $...            \n",
       "10        V11 - PTRATIO - pupil-teacher ratio by town            \n",
       "11  V12 - B - 1000(Bk - 0.63)^2 where Bk is the pr...            \n",
       "12     V13 - LSTAT - % lower status of the population            \n",
       "13  T1 - MEDV - Median value of owner-occupied hom...            "
      ]
     },
     "execution_count": 8,
     "metadata": {},
     "output_type": "execute_result"
    }
   ],
   "source": [
    "# defining vars\n",
    "input_vars = [\"V1\", \"V2\", \"V3\", \"V4\", \"V5\", \"V6\", \"V7\",\n",
    "              \"V8\", \"V9\", \"V10\", \"V11\", \"V12\", \"V13\"]\n",
    "output_var = [\"T1\"]\n",
    "\n",
    "# dictionary of variables\n",
    "pd.read_table(\"https://raw.githubusercontent.com/askoshiyama/mli-cohort3/master/Boston%20-%20Dictionary%20of%20Variables.txt\")"
   ]
  },
  {
   "cell_type": "markdown",
   "metadata": {},
   "source": [
    "### Some \"integrity\" checkings"
   ]
  },
  {
   "cell_type": "code",
   "execution_count": 9,
   "metadata": {},
   "outputs": [
    {
     "data": {
      "text/plain": [
       "V1     float64\n",
       "V2     float64\n",
       "V3     float64\n",
       "V4       int64\n",
       "V5     float64\n",
       "V6     float64\n",
       "V7     float64\n",
       "V8     float64\n",
       "V9       int64\n",
       "V10      int64\n",
       "V11    float64\n",
       "V12    float64\n",
       "V13    float64\n",
       "T1     float64\n",
       "dtype: object"
      ]
     },
     "execution_count": 9,
     "metadata": {},
     "output_type": "execute_result"
    }
   ],
   "source": [
    "df.dtypes"
   ]
  },
  {
   "cell_type": "code",
   "execution_count": 10,
   "metadata": {},
   "outputs": [
    {
     "data": {
      "text/html": [
       "<div>\n",
       "<style scoped>\n",
       "    .dataframe tbody tr th:only-of-type {\n",
       "        vertical-align: middle;\n",
       "    }\n",
       "\n",
       "    .dataframe tbody tr th {\n",
       "        vertical-align: top;\n",
       "    }\n",
       "\n",
       "    .dataframe thead th {\n",
       "        text-align: right;\n",
       "    }\n",
       "</style>\n",
       "<table border=\"1\" class=\"dataframe\">\n",
       "  <thead>\n",
       "    <tr style=\"text-align: right;\">\n",
       "      <th></th>\n",
       "      <th>V1</th>\n",
       "      <th>V2</th>\n",
       "      <th>V3</th>\n",
       "      <th>V4</th>\n",
       "      <th>V5</th>\n",
       "      <th>V6</th>\n",
       "      <th>V7</th>\n",
       "      <th>V8</th>\n",
       "      <th>V9</th>\n",
       "      <th>V10</th>\n",
       "      <th>V11</th>\n",
       "      <th>V12</th>\n",
       "      <th>V13</th>\n",
       "      <th>T1</th>\n",
       "    </tr>\n",
       "  </thead>\n",
       "  <tbody>\n",
       "    <tr>\n",
       "      <th>count</th>\n",
       "      <td>506.000000</td>\n",
       "      <td>506.000000</td>\n",
       "      <td>506.000000</td>\n",
       "      <td>506.000000</td>\n",
       "      <td>506.000000</td>\n",
       "      <td>506.000000</td>\n",
       "      <td>506.000000</td>\n",
       "      <td>506.000000</td>\n",
       "      <td>506.000000</td>\n",
       "      <td>506.000000</td>\n",
       "      <td>506.000000</td>\n",
       "      <td>506.000000</td>\n",
       "      <td>506.000000</td>\n",
       "      <td>506.000000</td>\n",
       "    </tr>\n",
       "    <tr>\n",
       "      <th>mean</th>\n",
       "      <td>3.613524</td>\n",
       "      <td>11.363636</td>\n",
       "      <td>11.136779</td>\n",
       "      <td>0.069170</td>\n",
       "      <td>0.554695</td>\n",
       "      <td>6.284634</td>\n",
       "      <td>68.574901</td>\n",
       "      <td>3.795043</td>\n",
       "      <td>9.549407</td>\n",
       "      <td>408.237154</td>\n",
       "      <td>18.455534</td>\n",
       "      <td>356.674032</td>\n",
       "      <td>12.653063</td>\n",
       "      <td>22.532806</td>\n",
       "    </tr>\n",
       "    <tr>\n",
       "      <th>std</th>\n",
       "      <td>8.601545</td>\n",
       "      <td>23.322453</td>\n",
       "      <td>6.860353</td>\n",
       "      <td>0.253994</td>\n",
       "      <td>0.115878</td>\n",
       "      <td>0.702617</td>\n",
       "      <td>28.148861</td>\n",
       "      <td>2.105710</td>\n",
       "      <td>8.707259</td>\n",
       "      <td>168.537116</td>\n",
       "      <td>2.164946</td>\n",
       "      <td>91.294864</td>\n",
       "      <td>7.141062</td>\n",
       "      <td>9.197104</td>\n",
       "    </tr>\n",
       "    <tr>\n",
       "      <th>min</th>\n",
       "      <td>0.006320</td>\n",
       "      <td>0.000000</td>\n",
       "      <td>0.460000</td>\n",
       "      <td>0.000000</td>\n",
       "      <td>0.385000</td>\n",
       "      <td>3.561000</td>\n",
       "      <td>2.900000</td>\n",
       "      <td>1.129600</td>\n",
       "      <td>1.000000</td>\n",
       "      <td>187.000000</td>\n",
       "      <td>12.600000</td>\n",
       "      <td>0.320000</td>\n",
       "      <td>1.730000</td>\n",
       "      <td>5.000000</td>\n",
       "    </tr>\n",
       "    <tr>\n",
       "      <th>25%</th>\n",
       "      <td>0.082045</td>\n",
       "      <td>0.000000</td>\n",
       "      <td>5.190000</td>\n",
       "      <td>0.000000</td>\n",
       "      <td>0.449000</td>\n",
       "      <td>5.885500</td>\n",
       "      <td>45.025000</td>\n",
       "      <td>2.100175</td>\n",
       "      <td>4.000000</td>\n",
       "      <td>279.000000</td>\n",
       "      <td>17.400000</td>\n",
       "      <td>375.377500</td>\n",
       "      <td>6.950000</td>\n",
       "      <td>17.025000</td>\n",
       "    </tr>\n",
       "    <tr>\n",
       "      <th>50%</th>\n",
       "      <td>0.256510</td>\n",
       "      <td>0.000000</td>\n",
       "      <td>9.690000</td>\n",
       "      <td>0.000000</td>\n",
       "      <td>0.538000</td>\n",
       "      <td>6.208500</td>\n",
       "      <td>77.500000</td>\n",
       "      <td>3.207450</td>\n",
       "      <td>5.000000</td>\n",
       "      <td>330.000000</td>\n",
       "      <td>19.050000</td>\n",
       "      <td>391.440000</td>\n",
       "      <td>11.360000</td>\n",
       "      <td>21.200000</td>\n",
       "    </tr>\n",
       "    <tr>\n",
       "      <th>75%</th>\n",
       "      <td>3.677082</td>\n",
       "      <td>12.500000</td>\n",
       "      <td>18.100000</td>\n",
       "      <td>0.000000</td>\n",
       "      <td>0.624000</td>\n",
       "      <td>6.623500</td>\n",
       "      <td>94.075000</td>\n",
       "      <td>5.188425</td>\n",
       "      <td>24.000000</td>\n",
       "      <td>666.000000</td>\n",
       "      <td>20.200000</td>\n",
       "      <td>396.225000</td>\n",
       "      <td>16.955000</td>\n",
       "      <td>25.000000</td>\n",
       "    </tr>\n",
       "    <tr>\n",
       "      <th>max</th>\n",
       "      <td>88.976200</td>\n",
       "      <td>100.000000</td>\n",
       "      <td>27.740000</td>\n",
       "      <td>1.000000</td>\n",
       "      <td>0.871000</td>\n",
       "      <td>8.780000</td>\n",
       "      <td>100.000000</td>\n",
       "      <td>12.126500</td>\n",
       "      <td>24.000000</td>\n",
       "      <td>711.000000</td>\n",
       "      <td>22.000000</td>\n",
       "      <td>396.900000</td>\n",
       "      <td>37.970000</td>\n",
       "      <td>50.000000</td>\n",
       "    </tr>\n",
       "  </tbody>\n",
       "</table>\n",
       "</div>"
      ],
      "text/plain": [
       "               V1          V2          V3          V4          V5          V6  \\\n",
       "count  506.000000  506.000000  506.000000  506.000000  506.000000  506.000000   \n",
       "mean     3.613524   11.363636   11.136779    0.069170    0.554695    6.284634   \n",
       "std      8.601545   23.322453    6.860353    0.253994    0.115878    0.702617   \n",
       "min      0.006320    0.000000    0.460000    0.000000    0.385000    3.561000   \n",
       "25%      0.082045    0.000000    5.190000    0.000000    0.449000    5.885500   \n",
       "50%      0.256510    0.000000    9.690000    0.000000    0.538000    6.208500   \n",
       "75%      3.677082   12.500000   18.100000    0.000000    0.624000    6.623500   \n",
       "max     88.976200  100.000000   27.740000    1.000000    0.871000    8.780000   \n",
       "\n",
       "               V7          V8          V9         V10         V11         V12  \\\n",
       "count  506.000000  506.000000  506.000000  506.000000  506.000000  506.000000   \n",
       "mean    68.574901    3.795043    9.549407  408.237154   18.455534  356.674032   \n",
       "std     28.148861    2.105710    8.707259  168.537116    2.164946   91.294864   \n",
       "min      2.900000    1.129600    1.000000  187.000000   12.600000    0.320000   \n",
       "25%     45.025000    2.100175    4.000000  279.000000   17.400000  375.377500   \n",
       "50%     77.500000    3.207450    5.000000  330.000000   19.050000  391.440000   \n",
       "75%     94.075000    5.188425   24.000000  666.000000   20.200000  396.225000   \n",
       "max    100.000000   12.126500   24.000000  711.000000   22.000000  396.900000   \n",
       "\n",
       "              V13          T1  \n",
       "count  506.000000  506.000000  \n",
       "mean    12.653063   22.532806  \n",
       "std      7.141062    9.197104  \n",
       "min      1.730000    5.000000  \n",
       "25%      6.950000   17.025000  \n",
       "50%     11.360000   21.200000  \n",
       "75%     16.955000   25.000000  \n",
       "max     37.970000   50.000000  "
      ]
     },
     "execution_count": 10,
     "metadata": {},
     "output_type": "execute_result"
    }
   ],
   "source": [
    "df.describe()"
   ]
  },
  {
   "cell_type": "code",
   "execution_count": 12,
   "metadata": {},
   "outputs": [
    {
     "data": {
      "text/html": [
       "<div>\n",
       "<style scoped>\n",
       "    .dataframe tbody tr th:only-of-type {\n",
       "        vertical-align: middle;\n",
       "    }\n",
       "\n",
       "    .dataframe tbody tr th {\n",
       "        vertical-align: top;\n",
       "    }\n",
       "\n",
       "    .dataframe thead th {\n",
       "        text-align: right;\n",
       "    }\n",
       "</style>\n",
       "<table border=\"1\" class=\"dataframe\">\n",
       "  <thead>\n",
       "    <tr style=\"text-align: right;\">\n",
       "      <th></th>\n",
       "      <th>V1</th>\n",
       "      <th>V2</th>\n",
       "      <th>V3</th>\n",
       "      <th>V4</th>\n",
       "      <th>V5</th>\n",
       "      <th>V6</th>\n",
       "      <th>V7</th>\n",
       "      <th>V8</th>\n",
       "      <th>V9</th>\n",
       "      <th>V10</th>\n",
       "      <th>V11</th>\n",
       "      <th>V12</th>\n",
       "      <th>V13</th>\n",
       "      <th>T1</th>\n",
       "    </tr>\n",
       "  </thead>\n",
       "  <tbody>\n",
       "    <tr>\n",
       "      <th>T1</th>\n",
       "      <td>-0.388305</td>\n",
       "      <td>0.360445</td>\n",
       "      <td>-0.483725</td>\n",
       "      <td>0.17526</td>\n",
       "      <td>-0.427321</td>\n",
       "      <td>0.69536</td>\n",
       "      <td>-0.376955</td>\n",
       "      <td>0.249929</td>\n",
       "      <td>-0.381626</td>\n",
       "      <td>-0.468536</td>\n",
       "      <td>-0.507787</td>\n",
       "      <td>0.333461</td>\n",
       "      <td>-0.737663</td>\n",
       "      <td>1.0</td>\n",
       "    </tr>\n",
       "  </tbody>\n",
       "</table>\n",
       "</div>"
      ],
      "text/plain": [
       "          V1        V2        V3       V4        V5       V6        V7  \\\n",
       "T1 -0.388305  0.360445 -0.483725  0.17526 -0.427321  0.69536 -0.376955   \n",
       "\n",
       "          V8        V9       V10       V11       V12       V13   T1  \n",
       "T1  0.249929 -0.381626 -0.468536 -0.507787  0.333461 -0.737663  1.0  "
      ]
     },
     "execution_count": 12,
     "metadata": {},
     "output_type": "execute_result"
    }
   ],
   "source": [
    "df.corr().loc[output_var]"
   ]
  },
  {
   "cell_type": "code",
   "execution_count": 14,
   "metadata": {},
   "outputs": [
    {
     "data": {
      "text/plain": [
       "<matplotlib.axes._subplots.AxesSubplot at 0x16eec9efd48>"
      ]
     },
     "execution_count": 14,
     "metadata": {},
     "output_type": "execute_result"
    },
    {
     "data": {
      "image/png": "[encoded data removed]",
      "text/plain": [
       "<Figure size 432x288 with 1 Axes>"
      ]
     },
     "metadata": {
      "needs_background": "light"
     },
     "output_type": "display_data"
    }
   ],
   "source": [
    "df.plot(y=output_var, x=\"V13\", kind=\"scatter\")"
   ]
  },
  {
   "cell_type": "code",
   "execution_count": 15,
   "metadata": {},
   "outputs": [
    {
     "data": {
      "text/plain": [
       "<seaborn.axisgrid.JointGrid at 0x16eecaa8188>"
      ]
     },
     "execution_count": 15,
     "metadata": {},
     "output_type": "execute_result"
    },
    {
     "data": {
      "image/png": "[encoded data removed]",
      "text/plain": [
       "<Figure size 432x432 with 3 Axes>"
      ]
     },
     "metadata": {
      "needs_background": "light"
     },
     "output_type": "display_data"
    }
   ],
   "source": [
    "sns.jointplot(df[\"V6\"], df[\"T1\"], kind=\"reg\")"
   ]
  },
  {
   "cell_type": "markdown",
   "metadata": {},
   "source": [
    "## Modelling"
   ]
  },
  {
   "cell_type": "markdown",
   "metadata": {},
   "source": [
    "### Settings"
   ]
  },
  {
   "cell_type": "code",
   "execution_count": 18,
   "metadata": {},
   "outputs": [],
   "source": [
    "from sklearn import metrics\n",
    "from sklearn.model_selection import KFold\n",
    "\n",
    "# 5-fold cv\n",
    "k_folds = KFold(n_splits=5, random_state=10, shuffle=True)\n",
    "\n",
    "# performance metrics\n",
    "# homework: https://scikit-learn.org/stable/modules/model_evaluation.html#regression-metrics\n",
    "def mse_score(y_true, y_pred):\n",
    "    return np.mean( (y_true - y_pred) ** 2.0)\n",
    "\n",
    "def rmse_score(y_true, y_pred):\n",
    "    return np.sqrt(mse_score(y_true, y_pred))\n",
    "\n",
    "def mad_score(y_true, y_pred):\n",
    "    return np.mean( np.abs(y_true - y_pred) )\n",
    "\n",
    "def pr2_score(y_true, y_pred):\n",
    "    return np.corrcoef(y_true, y_pred)[0, 1] ** 2.0\n",
    "\n",
    "def adjpr2_score(y_true, y_pred, p):\n",
    "    return ( np.corrcoef(y_true, y_pred)[0, 1] ** 2.0 ) * ((y_true.shape[0] - p)/y_true.shape[0])\n",
    "\n",
    "perf_metrics = {\"MSE\": mse_score, \n",
    "                \"RMSE\": rmse_score, \n",
    "                \"Pseudo-R2\": pr2_score,\n",
    "                \"MAD\": mad_score\n",
    "               }"
   ]
  },
  {
   "cell_type": "markdown",
   "metadata": {},
   "source": [
    "### Dummy/Baseline Model - Average"
   ]
  },
  {
   "cell_type": "code",
   "execution_count": 37,
   "metadata": {},
   "outputs": [
    {
     "data": {
      "text/plain": [
       "(101,)"
      ]
     },
     "execution_count": 37,
     "metadata": {},
     "output_type": "execute_result"
    }
   ],
   "source": [
    "y_test_pred.shape"
   ]
  },
  {
   "cell_type": "code",
   "execution_count": 38,
   "metadata": {},
   "outputs": [
    {
     "name": "stdout",
     "output_type": "stream",
     "text": [
      "1\n",
      "2\n",
      "3\n",
      "4\n",
      "5\n"
     ]
    },
    {
     "name": "stderr",
     "output_type": "stream",
     "text": [
      "C:\\Users\\Koshiyama\\Anaconda3-64bit\\envs\\mli4\\lib\\site-packages\\numpy\\lib\\function_base.py:2534: RuntimeWarning: invalid value encountered in true_divide\n",
      "  c /= stddev[:, None]\n",
      "C:\\Users\\Koshiyama\\Anaconda3-64bit\\envs\\mli4\\lib\\site-packages\\numpy\\lib\\function_base.py:2535: RuntimeWarning: invalid value encountered in true_divide\n",
      "  c /= stddev[None, :]\n"
     ]
    }
   ],
   "source": [
    "# pre-instantiation\n",
    "target = [\"T1\"]\n",
    "df_metrics = pd.DataFrame(index=[0], columns=[\"Fold\", \"Metric\", \"Train\", \"Test\"])\n",
    "\n",
    "# main loop\n",
    "k, f = 0, 0\n",
    "for (train, test) in k_folds.split(df.drop(labels=target, axis=1)):\n",
    "    f += 1\n",
    "    print(f)\n",
    "    # separate variables and folds\n",
    "    x_train = df.drop(labels=target, axis=1).values[train]\n",
    "    x_test = df.drop(labels=target, axis=1).values[test]\n",
    "    y_train = df[target].values[train]\n",
    "    y_test = df[target].values[test]\n",
    "    \n",
    "    # \"fit\" model\n",
    "    model_pred = y_train.mean()\n",
    "\n",
    "    # get predictions\n",
    "    y_train_pred = np.repeat(model_pred, y_train.shape[0])\n",
    "    y_test_pred = np.repeat(model_pred, y_test.shape[0])\n",
    "\n",
    "    # compute metrics\n",
    "    for pf in list(perf_metrics.keys()):\n",
    "        df_metrics.loc[k, \"Fold\"] = f\n",
    "        df_metrics.loc[k, \"Metric\"] = pf\n",
    "        df_metrics.loc[k, \"Train\"] = perf_metrics[pf](y_train.ravel(), y_train_pred.ravel())\n",
    "        df_metrics.loc[k, \"Test\"] = perf_metrics[pf](y_test.ravel(), y_test_pred.ravel())\n",
    "        k += 1\n",
    "        \n",
    "    # if using sklearn: from from sklearn.dummy import DummyRegressor\n",
    "    #ml = DummyRegressor().fit(x_train, y_train)\n",
    "    #pred_train = ml.predict(x_train)\n",
    "    #pred_test = ml.predict(x_test)\n",
    "\n",
    "# final organization\n",
    "df_metrics = df_metrics.apply(pd.to_numeric, errors=\"ignore\")"
   ]
  },
  {
   "cell_type": "code",
   "execution_count": 39,
   "metadata": {},
   "outputs": [
    {
     "data": {
      "text/html": [
       "<div>\n",
       "<style scoped>\n",
       "    .dataframe tbody tr th:only-of-type {\n",
       "        vertical-align: middle;\n",
       "    }\n",
       "\n",
       "    .dataframe tbody tr th {\n",
       "        vertical-align: top;\n",
       "    }\n",
       "\n",
       "    .dataframe thead th {\n",
       "        text-align: right;\n",
       "    }\n",
       "</style>\n",
       "<table border=\"1\" class=\"dataframe\">\n",
       "  <thead>\n",
       "    <tr style=\"text-align: right;\">\n",
       "      <th></th>\n",
       "      <th>Fold</th>\n",
       "      <th>Metric</th>\n",
       "      <th>Train</th>\n",
       "      <th>Test</th>\n",
       "    </tr>\n",
       "  </thead>\n",
       "  <tbody>\n",
       "    <tr>\n",
       "      <th>0</th>\n",
       "      <td>1</td>\n",
       "      <td>MSE</td>\n",
       "      <td>7.696085e+01</td>\n",
       "      <td>1.163304e+02</td>\n",
       "    </tr>\n",
       "    <tr>\n",
       "      <th>1</th>\n",
       "      <td>1</td>\n",
       "      <td>RMSE</td>\n",
       "      <td>8.772733e+00</td>\n",
       "      <td>1.078566e+01</td>\n",
       "    </tr>\n",
       "    <tr>\n",
       "      <th>2</th>\n",
       "      <td>1</td>\n",
       "      <td>Pseudo-R2</td>\n",
       "      <td>5.041780e-32</td>\n",
       "      <td>1.616821e-32</td>\n",
       "    </tr>\n",
       "    <tr>\n",
       "      <th>3</th>\n",
       "      <td>1</td>\n",
       "      <td>MAD</td>\n",
       "      <td>6.303904e+00</td>\n",
       "      <td>7.554703e+00</td>\n",
       "    </tr>\n",
       "    <tr>\n",
       "      <th>4</th>\n",
       "      <td>2</td>\n",
       "      <td>MSE</td>\n",
       "      <td>8.777292e+01</td>\n",
       "      <td>7.147500e+01</td>\n",
       "    </tr>\n",
       "    <tr>\n",
       "      <th>5</th>\n",
       "      <td>2</td>\n",
       "      <td>RMSE</td>\n",
       "      <td>9.368720e+00</td>\n",
       "      <td>8.454289e+00</td>\n",
       "    </tr>\n",
       "    <tr>\n",
       "      <th>6</th>\n",
       "      <td>2</td>\n",
       "      <td>Pseudo-R2</td>\n",
       "      <td>NaN</td>\n",
       "      <td>2.013598e-32</td>\n",
       "    </tr>\n",
       "    <tr>\n",
       "      <th>7</th>\n",
       "      <td>2</td>\n",
       "      <td>MAD</td>\n",
       "      <td>6.773327e+00</td>\n",
       "      <td>6.451827e+00</td>\n",
       "    </tr>\n",
       "    <tr>\n",
       "      <th>8</th>\n",
       "      <td>3</td>\n",
       "      <td>MSE</td>\n",
       "      <td>8.261540e+01</td>\n",
       "      <td>9.174415e+01</td>\n",
       "    </tr>\n",
       "    <tr>\n",
       "      <th>9</th>\n",
       "      <td>3</td>\n",
       "      <td>RMSE</td>\n",
       "      <td>9.089301e+00</td>\n",
       "      <td>9.578317e+00</td>\n",
       "    </tr>\n",
       "    <tr>\n",
       "      <th>10</th>\n",
       "      <td>3</td>\n",
       "      <td>Pseudo-R2</td>\n",
       "      <td>3.815130e-33</td>\n",
       "      <td>3.122654e-32</td>\n",
       "    </tr>\n",
       "    <tr>\n",
       "      <th>11</th>\n",
       "      <td>3</td>\n",
       "      <td>MAD</td>\n",
       "      <td>6.637159e+00</td>\n",
       "      <td>6.810972e+00</td>\n",
       "    </tr>\n",
       "    <tr>\n",
       "      <th>12</th>\n",
       "      <td>4</td>\n",
       "      <td>MSE</td>\n",
       "      <td>8.737830e+01</td>\n",
       "      <td>7.305270e+01</td>\n",
       "    </tr>\n",
       "    <tr>\n",
       "      <th>13</th>\n",
       "      <td>4</td>\n",
       "      <td>RMSE</td>\n",
       "      <td>9.347636e+00</td>\n",
       "      <td>8.547087e+00</td>\n",
       "    </tr>\n",
       "    <tr>\n",
       "      <th>14</th>\n",
       "      <td>4</td>\n",
       "      <td>Pseudo-R2</td>\n",
       "      <td>NaN</td>\n",
       "      <td>NaN</td>\n",
       "    </tr>\n",
       "    <tr>\n",
       "      <th>15</th>\n",
       "      <td>4</td>\n",
       "      <td>MAD</td>\n",
       "      <td>6.736278e+00</td>\n",
       "      <td>6.598778e+00</td>\n",
       "    </tr>\n",
       "    <tr>\n",
       "      <th>16</th>\n",
       "      <td>5</td>\n",
       "      <td>MSE</td>\n",
       "      <td>8.665229e+01</td>\n",
       "      <td>7.549585e+01</td>\n",
       "    </tr>\n",
       "    <tr>\n",
       "      <th>17</th>\n",
       "      <td>5</td>\n",
       "      <td>RMSE</td>\n",
       "      <td>9.308721e+00</td>\n",
       "      <td>8.688835e+00</td>\n",
       "    </tr>\n",
       "    <tr>\n",
       "      <th>18</th>\n",
       "      <td>5</td>\n",
       "      <td>Pseudo-R2</td>\n",
       "      <td>NaN</td>\n",
       "      <td>1.011905e-31</td>\n",
       "    </tr>\n",
       "    <tr>\n",
       "      <th>19</th>\n",
       "      <td>5</td>\n",
       "      <td>MAD</td>\n",
       "      <td>6.764375e+00</td>\n",
       "      <td>6.113311e+00</td>\n",
       "    </tr>\n",
       "  </tbody>\n",
       "</table>\n",
       "</div>"
      ],
      "text/plain": [
       "    Fold     Metric         Train          Test\n",
       "0      1        MSE  7.696085e+01  1.163304e+02\n",
       "1      1       RMSE  8.772733e+00  1.078566e+01\n",
       "2      1  Pseudo-R2  5.041780e-32  1.616821e-32\n",
       "3      1        MAD  6.303904e+00  7.554703e+00\n",
       "4      2        MSE  8.777292e+01  7.147500e+01\n",
       "5      2       RMSE  9.368720e+00  8.454289e+00\n",
       "6      2  Pseudo-R2           NaN  2.013598e-32\n",
       "7      2        MAD  6.773327e+00  6.451827e+00\n",
       "8      3        MSE  8.261540e+01  9.174415e+01\n",
       "9      3       RMSE  9.089301e+00  9.578317e+00\n",
       "10     3  Pseudo-R2  3.815130e-33  3.122654e-32\n",
       "11     3        MAD  6.637159e+00  6.810972e+00\n",
       "12     4        MSE  8.737830e+01  7.305270e+01\n",
       "13     4       RMSE  9.347636e+00  8.547087e+00\n",
       "14     4  Pseudo-R2           NaN           NaN\n",
       "15     4        MAD  6.736278e+00  6.598778e+00\n",
       "16     5        MSE  8.665229e+01  7.549585e+01\n",
       "17     5       RMSE  9.308721e+00  8.688835e+00\n",
       "18     5  Pseudo-R2           NaN  1.011905e-31\n",
       "19     5        MAD  6.764375e+00  6.113311e+00"
      ]
     },
     "execution_count": 39,
     "metadata": {},
     "output_type": "execute_result"
    }
   ],
   "source": [
    "df_metrics"
   ]
  },
  {
   "cell_type": "code",
   "execution_count": 40,
   "metadata": {},
   "outputs": [
    {
     "data": {
      "text/html": [
       "<div>\n",
       "<style scoped>\n",
       "    .dataframe tbody tr th:only-of-type {\n",
       "        vertical-align: middle;\n",
       "    }\n",
       "\n",
       "    .dataframe tbody tr th {\n",
       "        vertical-align: top;\n",
       "    }\n",
       "\n",
       "    .dataframe thead th {\n",
       "        text-align: right;\n",
       "    }\n",
       "</style>\n",
       "<table border=\"1\" class=\"dataframe\">\n",
       "  <thead>\n",
       "    <tr style=\"text-align: right;\">\n",
       "      <th></th>\n",
       "      <th>Fold</th>\n",
       "      <th>Test</th>\n",
       "      <th>Train</th>\n",
       "    </tr>\n",
       "    <tr>\n",
       "      <th>Metric</th>\n",
       "      <th></th>\n",
       "      <th></th>\n",
       "      <th></th>\n",
       "    </tr>\n",
       "  </thead>\n",
       "  <tbody>\n",
       "    <tr>\n",
       "      <th>MAD</th>\n",
       "      <td>3</td>\n",
       "      <td>6.705918e+00</td>\n",
       "      <td>6.643009e+00</td>\n",
       "    </tr>\n",
       "    <tr>\n",
       "      <th>MSE</th>\n",
       "      <td>3</td>\n",
       "      <td>8.561962e+01</td>\n",
       "      <td>8.427595e+01</td>\n",
       "    </tr>\n",
       "    <tr>\n",
       "      <th>Pseudo-R2</th>\n",
       "      <td>3</td>\n",
       "      <td>4.218032e-32</td>\n",
       "      <td>2.711646e-32</td>\n",
       "    </tr>\n",
       "    <tr>\n",
       "      <th>RMSE</th>\n",
       "      <td>3</td>\n",
       "      <td>9.210837e+00</td>\n",
       "      <td>9.177422e+00</td>\n",
       "    </tr>\n",
       "  </tbody>\n",
       "</table>\n",
       "</div>"
      ],
      "text/plain": [
       "           Fold          Test         Train\n",
       "Metric                                     \n",
       "MAD           3  6.705918e+00  6.643009e+00\n",
       "MSE           3  8.561962e+01  8.427595e+01\n",
       "Pseudo-R2     3  4.218032e-32  2.711646e-32\n",
       "RMSE          3  9.210837e+00  9.177422e+00"
      ]
     },
     "execution_count": 40,
     "metadata": {},
     "output_type": "execute_result"
    }
   ],
   "source": [
    "df_metrics.pivot_table(index=\"Metric\", aggfunc=\"mean\")"
   ]
  },
  {
   "cell_type": "markdown",
   "metadata": {},
   "source": [
    "### Simple Linear Regression"
   ]
  },
  {
   "cell_type": "code",
   "execution_count": 44,
   "metadata": {},
   "outputs": [
    {
     "name": "stdout",
     "output_type": "stream",
     "text": [
      "1\n",
      "2\n",
      "3\n",
      "4\n",
      "5\n"
     ]
    }
   ],
   "source": [
    "# pre-instantiation\n",
    "target = [\"T1\"]\n",
    "df_metrics = pd.DataFrame(index=[0], columns=[\"Fold\", \"Metric\", \"Train\", \"Test\"])\n",
    "\n",
    "# main loop\n",
    "k, f = 0, 0\n",
    "for (train, test) in k_folds.split(df.drop(labels=target, axis=1)):\n",
    "    f += 1\n",
    "    print(f)\n",
    "    # separate variables and folds\n",
    "    x_train = df.drop(labels=target, axis=1).values[train]\n",
    "    x_train = np.hstack([np.ones((x_train.shape[0], 1)), x_train])\n",
    "    \n",
    "    x_test = df.drop(labels=target, axis=1).values[test]\n",
    "    x_test = np.hstack([np.ones((x_test.shape[0], 1)), x_test])\n",
    "    \n",
    "    y_train = df[target].values[train]\n",
    "    y_test = df[target].values[test]\n",
    "    \n",
    "    # fit model\n",
    "    # train model - coefs = (X_train'X_train)^-1 X_train'y_train\n",
    "    inv_component = np.linalg.pinv(np.matmul(x_train.transpose(), x_train))\n",
    "    coefs = np.matmul(inv_component, np.matmul(x_train.transpose(), y_train))\n",
    "\n",
    "    # get predictions\n",
    "    y_train_pred = np.matmul(x_train, coefs) # X_train*coefs\n",
    "    y_test_pred = np.matmul(x_test, coefs) # X_train*coefs\n",
    "\n",
    "    # compute metrics\n",
    "    for pf in list(perf_metrics.keys()):\n",
    "        df_metrics.loc[k, \"Fold\"] = f\n",
    "        df_metrics.loc[k, \"Metric\"] = pf\n",
    "        df_metrics.loc[k, \"Train\"] = perf_metrics[pf](y_train.ravel(), y_train_pred.ravel())\n",
    "        df_metrics.loc[k, \"Test\"] = perf_metrics[pf](y_test.ravel(), y_test_pred.ravel())\n",
    "        k += 1\n",
    "        \n",
    "    # if using sklearn: from sklearn.linear_model import LinearRegression\n",
    "    #ml = LinearRegression().fit(x_train, y_train)\n",
    "    #pred_train = ml.predict(x_train)\n",
    "    #pred_test = ml.predict(x_test)\n",
    "\n",
    "# final organization\n",
    "df_metrics = df_metrics.apply(pd.to_numeric, errors=\"ignore\")"
   ]
  },
  {
   "cell_type": "markdown",
   "metadata": {},
   "source": [
    "#### Stats"
   ]
  },
  {
   "cell_type": "code",
   "execution_count": 45,
   "metadata": {},
   "outputs": [
    {
     "data": {
      "text/html": [
       "<div>\n",
       "<style scoped>\n",
       "    .dataframe tbody tr th:only-of-type {\n",
       "        vertical-align: middle;\n",
       "    }\n",
       "\n",
       "    .dataframe tbody tr th {\n",
       "        vertical-align: top;\n",
       "    }\n",
       "\n",
       "    .dataframe thead th {\n",
       "        text-align: right;\n",
       "    }\n",
       "</style>\n",
       "<table border=\"1\" class=\"dataframe\">\n",
       "  <thead>\n",
       "    <tr style=\"text-align: right;\">\n",
       "      <th></th>\n",
       "      <th>Fold</th>\n",
       "      <th>Test</th>\n",
       "      <th>Train</th>\n",
       "    </tr>\n",
       "    <tr>\n",
       "      <th>Metric</th>\n",
       "      <th></th>\n",
       "      <th></th>\n",
       "      <th></th>\n",
       "    </tr>\n",
       "  </thead>\n",
       "  <tbody>\n",
       "    <tr>\n",
       "      <th>MAD</th>\n",
       "      <td>3</td>\n",
       "      <td>3.415622</td>\n",
       "      <td>3.264779</td>\n",
       "    </tr>\n",
       "    <tr>\n",
       "      <th>MSE</th>\n",
       "      <td>3</td>\n",
       "      <td>23.937804</td>\n",
       "      <td>21.667789</td>\n",
       "    </tr>\n",
       "    <tr>\n",
       "      <th>Pseudo-R2</th>\n",
       "      <td>3</td>\n",
       "      <td>0.716386</td>\n",
       "      <td>0.742878</td>\n",
       "    </tr>\n",
       "    <tr>\n",
       "      <th>RMSE</th>\n",
       "      <td>3</td>\n",
       "      <td>4.858078</td>\n",
       "      <td>4.652427</td>\n",
       "    </tr>\n",
       "  </tbody>\n",
       "</table>\n",
       "</div>"
      ],
      "text/plain": [
       "           Fold       Test      Train\n",
       "Metric                               \n",
       "MAD           3   3.415622   3.264779\n",
       "MSE           3  23.937804  21.667789\n",
       "Pseudo-R2     3   0.716386   0.742878\n",
       "RMSE          3   4.858078   4.652427"
      ]
     },
     "execution_count": 45,
     "metadata": {},
     "output_type": "execute_result"
    }
   ],
   "source": [
    "df_metrics.pivot_table(index=\"Metric\")"
   ]
  },
  {
   "cell_type": "markdown",
   "metadata": {},
   "source": [
    "### Linear Regression with Polynomial Features"
   ]
  },
  {
   "cell_type": "code",
   "execution_count": 61,
   "metadata": {},
   "outputs": [],
   "source": [
    "from sklearn.preprocessing import PolynomialFeatures\n",
    "poly_params = {\"degree\": 2,\n",
    "               \"interaction_only\": False,\n",
    "               \"include_bias\": True\n",
    "              }"
   ]
  },
  {
   "cell_type": "code",
   "execution_count": 57,
   "metadata": {},
   "outputs": [
    {
     "data": {
      "text/plain": [
       "(405, 105)"
      ]
     },
     "execution_count": 57,
     "metadata": {},
     "output_type": "execute_result"
    }
   ],
   "source": [
    "x_train.shape"
   ]
  },
  {
   "cell_type": "code",
   "execution_count": 48,
   "metadata": {},
   "outputs": [],
   "source": [
    "poly_func = PolynomialFeatures(**poly_params).fit(df.drop(labels=target, axis=1))\n",
    "x_train = poly_func.transform(df.drop(labels=target, axis=1))"
   ]
  },
  {
   "cell_type": "code",
   "execution_count": 49,
   "metadata": {},
   "outputs": [
    {
     "data": {
      "text/plain": [
       "(506, 105)"
      ]
     },
     "execution_count": 49,
     "metadata": {},
     "output_type": "execute_result"
    }
   ],
   "source": [
    "x_train.shape"
   ]
  },
  {
   "cell_type": "code",
   "execution_count": 53,
   "metadata": {},
   "outputs": [
    {
     "data": {
      "text/plain": [
       "(101, 105)"
      ]
     },
     "execution_count": 53,
     "metadata": {},
     "output_type": "execute_result"
    }
   ],
   "source": [
    "x_test.shape"
   ]
  },
  {
   "cell_type": "code",
   "execution_count": 62,
   "metadata": {},
   "outputs": [
    {
     "name": "stdout",
     "output_type": "stream",
     "text": [
      "1\n",
      "2\n",
      "3\n",
      "4\n",
      "5\n"
     ]
    }
   ],
   "source": [
    "# pre-instantiation\n",
    "target = [\"T1\"]\n",
    "df_metrics = pd.DataFrame(index=[0], columns=[\"Fold\", \"Metric\", \"Train\", \"Test\"])\n",
    "\n",
    "# main loop\n",
    "k, f = 0, 0\n",
    "for (train, test) in k_folds.split(df.drop(labels=target, axis=1)):\n",
    "    f += 1\n",
    "    print(f)\n",
    "    # separate variables and folds\n",
    "    x_train = df.drop(labels=target, axis=1).values[train]\n",
    "    x_test = df.drop(labels=target, axis=1).values[test]\n",
    "    y_train = df[target].values[train]\n",
    "    y_test = df[target].values[test]\n",
    "    \n",
    "    # polynomial features - will include bias automatically\n",
    "    poly_func = PolynomialFeatures(**poly_params).fit(x_train)\n",
    "    x_train = poly_func.transform(x_train)\n",
    "    x_test = poly_func.transform(x_test)\n",
    "        \n",
    "    # fit model\n",
    "    # train model \n",
    "    inv_component = np.linalg.pinv(np.matmul(x_train.transpose(), x_train))\n",
    "    coefs = np.matmul(inv_component, np.matmul(x_train.transpose(), y_train))\n",
    "\n",
    "    # get predictions\n",
    "    y_train_pred = np.matmul(x_train, coefs)\n",
    "    y_test_pred = np.matmul(x_test, coefs)\n",
    "\n",
    "    # compute metrics\n",
    "    for pf in list(perf_metrics.keys()):\n",
    "        df_metrics.loc[k, \"Fold\"] = f\n",
    "        df_metrics.loc[k, \"Metric\"] = pf\n",
    "        df_metrics.loc[k, \"Train\"] = perf_metrics[pf](y_train.ravel(), y_train_pred.ravel())\n",
    "        df_metrics.loc[k, \"Test\"] = perf_metrics[pf](y_test.ravel(), y_test_pred.ravel())\n",
    "        k += 1\n",
    "\n",
    "    # if using sklearn: from sklearn.linear_model import LinearRegression\n",
    "    #ml = LinearRegression().fit(x_train, y_train)\n",
    "    #pred_train = ml.predict(x_train)\n",
    "    #pred_test = ml.predict(x_test)\n",
    "\n",
    "# final organization\n",
    "df_metrics = df_metrics.apply(pd.to_numeric, errors=\"ignore\")"
   ]
  },
  {
   "cell_type": "code",
   "execution_count": 63,
   "metadata": {},
   "outputs": [
    {
     "data": {
      "text/html": [
       "<div>\n",
       "<style scoped>\n",
       "    .dataframe tbody tr th:only-of-type {\n",
       "        vertical-align: middle;\n",
       "    }\n",
       "\n",
       "    .dataframe tbody tr th {\n",
       "        vertical-align: top;\n",
       "    }\n",
       "\n",
       "    .dataframe thead th {\n",
       "        text-align: right;\n",
       "    }\n",
       "</style>\n",
       "<table border=\"1\" class=\"dataframe\">\n",
       "  <thead>\n",
       "    <tr style=\"text-align: right;\">\n",
       "      <th></th>\n",
       "      <th>Fold</th>\n",
       "      <th>Test</th>\n",
       "      <th>Train</th>\n",
       "    </tr>\n",
       "    <tr>\n",
       "      <th>Metric</th>\n",
       "      <th></th>\n",
       "      <th></th>\n",
       "      <th></th>\n",
       "    </tr>\n",
       "  </thead>\n",
       "  <tbody>\n",
       "    <tr>\n",
       "      <th>MAD</th>\n",
       "      <td>3</td>\n",
       "      <td>2.660769</td>\n",
       "      <td>1.767849</td>\n",
       "    </tr>\n",
       "    <tr>\n",
       "      <th>MSE</th>\n",
       "      <td>3</td>\n",
       "      <td>15.883051</td>\n",
       "      <td>5.707234</td>\n",
       "    </tr>\n",
       "    <tr>\n",
       "      <th>Pseudo-R2</th>\n",
       "      <td>3</td>\n",
       "      <td>0.823727</td>\n",
       "      <td>0.932166</td>\n",
       "    </tr>\n",
       "    <tr>\n",
       "      <th>RMSE</th>\n",
       "      <td>3</td>\n",
       "      <td>3.956649</td>\n",
       "      <td>2.385393</td>\n",
       "    </tr>\n",
       "  </tbody>\n",
       "</table>\n",
       "</div>"
      ],
      "text/plain": [
       "           Fold       Test     Train\n",
       "Metric                              \n",
       "MAD           3   2.660769  1.767849\n",
       "MSE           3  15.883051  5.707234\n",
       "Pseudo-R2     3   0.823727  0.932166\n",
       "RMSE          3   3.956649  2.385393"
      ]
     },
     "execution_count": 63,
     "metadata": {},
     "output_type": "execute_result"
    }
   ],
   "source": [
    "df_metrics.pivot_table(index=\"Metric\")"
   ]
  },
  {
   "cell_type": "markdown",
   "metadata": {},
   "source": [
    "### Polynomial Regression with Backward Elimination"
   ]
  },
  {
   "cell_type": "code",
   "execution_count": 60,
   "metadata": {},
   "outputs": [
    {
     "name": "stdout",
     "output_type": "stream",
     "text": [
      "1\n"
     ]
    },
    {
     "name": "stderr",
     "output_type": "stream",
     "text": [
      "C:\\Users\\Koshiyama\\Anaconda3-64bit\\envs\\mli4\\lib\\site-packages\\sklearn\\utils\\validation.py:760: DataConversionWarning: A column-vector y was passed when a 1d array was expected. Please change the shape of y to (n_samples, ), for example using ravel().\n",
      "  y = column_or_1d(y, warn=True)\n"
     ]
    },
    {
     "name": "stdout",
     "output_type": "stream",
     "text": [
      "2\n"
     ]
    },
    {
     "name": "stderr",
     "output_type": "stream",
     "text": [
      "C:\\Users\\Koshiyama\\Anaconda3-64bit\\envs\\mli4\\lib\\site-packages\\sklearn\\utils\\validation.py:760: DataConversionWarning: A column-vector y was passed when a 1d array was expected. Please change the shape of y to (n_samples, ), for example using ravel().\n",
      "  y = column_or_1d(y, warn=True)\n"
     ]
    },
    {
     "name": "stdout",
     "output_type": "stream",
     "text": [
      "3\n"
     ]
    },
    {
     "name": "stderr",
     "output_type": "stream",
     "text": [
      "C:\\Users\\Koshiyama\\Anaconda3-64bit\\envs\\mli4\\lib\\site-packages\\sklearn\\utils\\validation.py:760: DataConversionWarning: A column-vector y was passed when a 1d array was expected. Please change the shape of y to (n_samples, ), for example using ravel().\n",
      "  y = column_or_1d(y, warn=True)\n"
     ]
    },
    {
     "name": "stdout",
     "output_type": "stream",
     "text": [
      "4\n"
     ]
    },
    {
     "name": "stderr",
     "output_type": "stream",
     "text": [
      "C:\\Users\\Koshiyama\\Anaconda3-64bit\\envs\\mli4\\lib\\site-packages\\sklearn\\utils\\validation.py:760: DataConversionWarning: A column-vector y was passed when a 1d array was expected. Please change the shape of y to (n_samples, ), for example using ravel().\n",
      "  y = column_or_1d(y, warn=True)\n"
     ]
    },
    {
     "name": "stdout",
     "output_type": "stream",
     "text": [
      "5\n"
     ]
    },
    {
     "name": "stderr",
     "output_type": "stream",
     "text": [
      "C:\\Users\\Koshiyama\\Anaconda3-64bit\\envs\\mli4\\lib\\site-packages\\sklearn\\utils\\validation.py:760: DataConversionWarning: A column-vector y was passed when a 1d array was expected. Please change the shape of y to (n_samples, ), for example using ravel().\n",
      "  y = column_or_1d(y, warn=True)\n"
     ]
    }
   ],
   "source": [
    "# pre-instantiation\n",
    "from sklearn.linear_model import LinearRegression\n",
    "from sklearn.feature_selection import RFE\n",
    "from sklearn.feature_selection import RFECV\n",
    "poly_params = {\"degree\": 2,\n",
    "               \"interaction_only\": False,\n",
    "               \"include_bias\": True\n",
    "              }\n",
    "target = [\"T1\"]\n",
    "df_metrics = pd.DataFrame(index=[0], columns=[\"Fold\", \"Metric\", \"Train\", \"Test\"])\n",
    "\n",
    "# main loop\n",
    "k, f = 0, 0\n",
    "for (train, test) in k_folds.split(df.drop(labels=target, axis=1)):\n",
    "    f += 1\n",
    "    print(f)\n",
    "    # separate variables and folds\n",
    "    x_train = df.drop(labels=target, axis=1).values[train]\n",
    "    x_test = df.drop(labels=target, axis=1).values[test]\n",
    "    y_train = df[target].values[train]\n",
    "    y_test = df[target].values[test]\n",
    "    \n",
    "    # polynomial features - will include bias automatically\n",
    "    poly_func = PolynomialFeatures(**poly_params).fit(x_train)\n",
    "    x_train = poly_func.transform(x_train)\n",
    "    x_test = poly_func.transform(x_test)\n",
    "        \n",
    "    # fit model\n",
    "    model = LinearRegression()\n",
    "    model = RFECV(model, step=1, cv=5).fit(x_train, y_train)\n",
    "\n",
    "    # get predictions\n",
    "    y_train_pred = model.predict(x_train)\n",
    "    y_test_pred = model.predict(x_test)\n",
    "\n",
    "    # compute metrics\n",
    "    for pf in list(perf_metrics.keys()):\n",
    "        df_metrics.loc[k, \"Fold\"] = f\n",
    "        df_metrics.loc[k, \"Metric\"] = pf\n",
    "        df_metrics.loc[k, \"Train\"] = perf_metrics[pf](y_train.ravel(), y_train_pred.ravel())\n",
    "        df_metrics.loc[k, \"Test\"] = perf_metrics[pf](y_test.ravel(), y_test_pred.ravel())\n",
    "        k += 1\n",
    "\n",
    "# final organization\n",
    "df_metrics = df_metrics.apply(pd.to_numeric, errors=\"ignore\")"
   ]
  },
  {
   "cell_type": "code",
   "execution_count": 24,
   "metadata": {},
   "outputs": [
    {
     "data": {
      "text/html": [
       "<div>\n",
       "<style scoped>\n",
       "    .dataframe tbody tr th:only-of-type {\n",
       "        vertical-align: middle;\n",
       "    }\n",
       "\n",
       "    .dataframe tbody tr th {\n",
       "        vertical-align: top;\n",
       "    }\n",
       "\n",
       "    .dataframe thead th {\n",
       "        text-align: right;\n",
       "    }\n",
       "</style>\n",
       "<table border=\"1\" class=\"dataframe\">\n",
       "  <thead>\n",
       "    <tr style=\"text-align: right;\">\n",
       "      <th></th>\n",
       "      <th>Fold</th>\n",
       "      <th>Test</th>\n",
       "      <th>Train</th>\n",
       "    </tr>\n",
       "    <tr>\n",
       "      <th>Metric</th>\n",
       "      <th></th>\n",
       "      <th></th>\n",
       "      <th></th>\n",
       "    </tr>\n",
       "  </thead>\n",
       "  <tbody>\n",
       "    <tr>\n",
       "      <th>MAD</th>\n",
       "      <td>3</td>\n",
       "      <td>3.917123</td>\n",
       "      <td>3.778212</td>\n",
       "    </tr>\n",
       "    <tr>\n",
       "      <th>MSE</th>\n",
       "      <td>3</td>\n",
       "      <td>33.120635</td>\n",
       "      <td>31.232379</td>\n",
       "    </tr>\n",
       "    <tr>\n",
       "      <th>Pseudo-R2</th>\n",
       "      <td>3</td>\n",
       "      <td>0.594257</td>\n",
       "      <td>0.631558</td>\n",
       "    </tr>\n",
       "    <tr>\n",
       "      <th>RMSE</th>\n",
       "      <td>3</td>\n",
       "      <td>5.700084</td>\n",
       "      <td>5.444833</td>\n",
       "    </tr>\n",
       "  </tbody>\n",
       "</table>\n",
       "</div>"
      ],
      "text/plain": [
       "           Fold       Test      Train\n",
       "Metric                               \n",
       "MAD           3   3.917123   3.778212\n",
       "MSE           3  33.120635  31.232379\n",
       "Pseudo-R2     3   0.594257   0.631558\n",
       "RMSE          3   5.700084   5.444833"
      ]
     },
     "execution_count": 24,
     "metadata": {},
     "output_type": "execute_result"
    }
   ],
   "source": [
    "df_metrics.pivot_table(index=\"Metric\")"
   ]
  },
  {
   "cell_type": "markdown",
   "metadata": {},
   "source": [
    "#### Different implementation"
   ]
  },
  {
   "cell_type": "code",
   "execution_count": 25,
   "metadata": {},
   "outputs": [
    {
     "name": "stdout",
     "output_type": "stream",
     "text": [
      "1\n",
      "2"
     ]
    },
    {
     "name": "stderr",
     "output_type": "stream",
     "text": [
      "C:\\Users\\Koshiyama\\Anaconda3-64bit\\lib\\site-packages\\sklearn\\utils\\validation.py:724: DataConversionWarning: A column-vector y was passed when a 1d array was expected. Please change the shape of y to (n_samples, ), for example using ravel().\n",
      "  y = column_or_1d(y, warn=True)\n"
     ]
    },
    {
     "name": "stdout",
     "output_type": "stream",
     "text": [
      "\n"
     ]
    },
    {
     "name": "stderr",
     "output_type": "stream",
     "text": [
      "C:\\Users\\Koshiyama\\Anaconda3-64bit\\lib\\site-packages\\sklearn\\utils\\validation.py:724: DataConversionWarning: A column-vector y was passed when a 1d array was expected. Please change the shape of y to (n_samples, ), for example using ravel().\n",
      "  y = column_or_1d(y, warn=True)\n"
     ]
    },
    {
     "name": "stdout",
     "output_type": "stream",
     "text": [
      "3\n",
      "4\n"
     ]
    },
    {
     "name": "stderr",
     "output_type": "stream",
     "text": [
      "C:\\Users\\Koshiyama\\Anaconda3-64bit\\lib\\site-packages\\sklearn\\utils\\validation.py:724: DataConversionWarning: A column-vector y was passed when a 1d array was expected. Please change the shape of y to (n_samples, ), for example using ravel().\n",
      "  y = column_or_1d(y, warn=True)\n",
      "C:\\Users\\Koshiyama\\Anaconda3-64bit\\lib\\site-packages\\sklearn\\utils\\validation.py:724: DataConversionWarning: A column-vector y was passed when a 1d array was expected. Please change the shape of y to (n_samples, ), for example using ravel().\n",
      "  y = column_or_1d(y, warn=True)\n"
     ]
    },
    {
     "name": "stdout",
     "output_type": "stream",
     "text": [
      "5\n"
     ]
    },
    {
     "name": "stderr",
     "output_type": "stream",
     "text": [
      "C:\\Users\\Koshiyama\\Anaconda3-64bit\\lib\\site-packages\\sklearn\\utils\\validation.py:724: DataConversionWarning: A column-vector y was passed when a 1d array was expected. Please change the shape of y to (n_samples, ), for example using ravel().\n",
      "  y = column_or_1d(y, warn=True)\n"
     ]
    }
   ],
   "source": [
    "# pre-instantiation\n",
    "from sklearn.linear_model import LinearRegression\n",
    "from sklearn.feature_selection import RFE\n",
    "from sklearn.pipeline import Pipeline\n",
    "poly_params = {\"degree\": 2,\n",
    "               \"interaction_only\": False,\n",
    "               \"include_bias\": True\n",
    "              }\n",
    "target = [\"T1\"]\n",
    "df_metrics = pd.DataFrame(index=[0], columns=[\"Fold\", \"Metric\", \"Train\", \"Test\"])\n",
    "\n",
    "# main loop\n",
    "k, f = 0, 0\n",
    "for (train, test) in k_folds.split(df.drop(labels=target, axis=1)):\n",
    "    f += 1\n",
    "    print(f)\n",
    "    # separate variables and folds\n",
    "    x_train = df.drop(labels=target, axis=1).values[train]\n",
    "    x_test = df.drop(labels=target, axis=1).values[test]\n",
    "    y_train = df[target].values[train]\n",
    "    y_test = df[target].values[test]\n",
    "        \n",
    "    # fit model\n",
    "    model = Pipeline([(\"Poly\", PolynomialFeatures(**poly_params)),\n",
    "                      (\"LR-BE\", RFE(LinearRegression()))])\n",
    "    model.fit(x_train, y_train)\n",
    "\n",
    "    # get predictions\n",
    "    y_train_pred = model.predict(x_train)\n",
    "    y_test_pred = model.predict(x_test)\n",
    "\n",
    "    # compute metrics\n",
    "    for pf in list(perf_metrics.keys()):\n",
    "        df_metrics.loc[k, \"Fold\"] = f\n",
    "        df_metrics.loc[k, \"Metric\"] = pf\n",
    "        df_metrics.loc[k, \"Train\"] = perf_metrics[pf](y_train.ravel(), y_train_pred.ravel())\n",
    "        df_metrics.loc[k, \"Test\"] = perf_metrics[pf](y_test.ravel(), y_test_pred.ravel())\n",
    "        k += 1\n",
    "\n",
    "# final organization\n",
    "df_metrics = df_metrics.apply(pd.to_numeric, errors=\"ignore\")"
   ]
  },
  {
   "cell_type": "code",
   "execution_count": 26,
   "metadata": {},
   "outputs": [
    {
     "data": {
      "text/html": [
       "<div>\n",
       "<style scoped>\n",
       "    .dataframe tbody tr th:only-of-type {\n",
       "        vertical-align: middle;\n",
       "    }\n",
       "\n",
       "    .dataframe tbody tr th {\n",
       "        vertical-align: top;\n",
       "    }\n",
       "\n",
       "    .dataframe thead th {\n",
       "        text-align: right;\n",
       "    }\n",
       "</style>\n",
       "<table border=\"1\" class=\"dataframe\">\n",
       "  <thead>\n",
       "    <tr style=\"text-align: right;\">\n",
       "      <th></th>\n",
       "      <th>Fold</th>\n",
       "      <th>Test</th>\n",
       "      <th>Train</th>\n",
       "    </tr>\n",
       "    <tr>\n",
       "      <th>Metric</th>\n",
       "      <th></th>\n",
       "      <th></th>\n",
       "      <th></th>\n",
       "    </tr>\n",
       "  </thead>\n",
       "  <tbody>\n",
       "    <tr>\n",
       "      <th>MAD</th>\n",
       "      <td>3</td>\n",
       "      <td>2.838603</td>\n",
       "      <td>2.182663</td>\n",
       "    </tr>\n",
       "    <tr>\n",
       "      <th>MSE</th>\n",
       "      <td>3</td>\n",
       "      <td>17.365153</td>\n",
       "      <td>9.229617</td>\n",
       "    </tr>\n",
       "    <tr>\n",
       "      <th>Pseudo-R2</th>\n",
       "      <td>3</td>\n",
       "      <td>0.797588</td>\n",
       "      <td>0.890918</td>\n",
       "    </tr>\n",
       "    <tr>\n",
       "      <th>RMSE</th>\n",
       "      <td>3</td>\n",
       "      <td>4.125922</td>\n",
       "      <td>3.024802</td>\n",
       "    </tr>\n",
       "  </tbody>\n",
       "</table>\n",
       "</div>"
      ],
      "text/plain": [
       "           Fold       Test     Train\n",
       "Metric                              \n",
       "MAD           3   2.838603  2.182663\n",
       "MSE           3  17.365153  9.229617\n",
       "Pseudo-R2     3   0.797588  0.890918\n",
       "RMSE          3   4.125922  3.024802"
      ]
     },
     "execution_count": 26,
     "metadata": {},
     "output_type": "execute_result"
    }
   ],
   "source": [
    "df_metrics.pivot_table(index=\"Metric\")"
   ]
  },
  {
   "cell_type": "markdown",
   "metadata": {},
   "source": [
    "### Ridge Regression"
   ]
  },
  {
   "cell_type": "code",
   "execution_count": 76,
   "metadata": {},
   "outputs": [
    {
     "data": {
      "text/plain": [
       "0     6.017135e-17\n",
       "1     2.875615e-16\n",
       "2     3.441828e-15\n",
       "3     5.570304e-16\n",
       "4    -1.236446e-14\n",
       "5    -1.233047e-14\n",
       "6    -2.110794e-16\n",
       "7     1.409846e-15\n",
       "8     6.387209e-16\n",
       "9    -5.071389e-16\n",
       "10    3.209723e-14\n",
       "11    7.631344e-15\n",
       "12   -3.933753e-16\n",
       "dtype: float64"
      ]
     },
     "execution_count": 76,
     "metadata": {},
     "output_type": "execute_result"
    }
   ],
   "source": [
    "pd.DataFrame(scaler_x.transform(df.drop(labels=target, axis=1).values[train])).mean()"
   ]
  },
  {
   "cell_type": "code",
   "execution_count": 86,
   "metadata": {},
   "outputs": [
    {
     "name": "stdout",
     "output_type": "stream",
     "text": [
      "1\n",
      "2\n",
      "3\n",
      "4\n",
      "5\n"
     ]
    }
   ],
   "source": [
    "from sklearn.preprocessing import StandardScaler\n",
    "# pre-instantiation\n",
    "ridge_shrinkage = np.linspace(0.00001, 0.4, num=200)\n",
    "target = [\"T1\"]\n",
    "df_metrics = pd.DataFrame(index=[0], columns=[\"Fold\", \"Shrinkage\", \"Metric\", \"Train\", \"Test\"])\n",
    "\n",
    "# main loop\n",
    "k, f = 0, 0\n",
    "for (train, test) in k_folds.split(df.drop(labels=target, axis=1)):\n",
    "    f += 1\n",
    "    print(f)\n",
    "    # separate variables and folds\n",
    "    x_train = df.drop(labels=target, axis=1).values[train]\n",
    "    x_test = df.drop(labels=target, axis=1).values[test]\n",
    "    y_train = df[target].values[train]\n",
    "    y_test = df[target].values[test]\n",
    "    \n",
    "    # scale  variables\n",
    "    scaler_x = StandardScaler(with_mean=True, with_std=True).fit(x_train)\n",
    "    x_train = np.hstack([np.ones((x_train.shape[0], 1)), scaler_x.transform(x_train)])\n",
    "    x_test = np.hstack([np.ones((x_test.shape[0], 1)), scaler_x.transform(x_test)])\n",
    "    \n",
    "    # fit model\n",
    "    for l in ridge_shrinkage:\n",
    "        # train model - coefs = (X'X + I * \\lambda * p)^-1 X'y\n",
    "        inv_component = np.linalg.pinv(np.matmul(x_train.transpose(), x_train) + np.eye(x_train.shape[1]) * l * x_train.shape[1])\n",
    "        coefs = np.matmul(inv_component, np.matmul(x_train.transpose(), y_train))\n",
    "        \n",
    "        # get predictions\n",
    "        y_train_pred = np.matmul(x_train, coefs) # X * coefs\n",
    "        y_test_pred = np.matmul(x_test, coefs)\n",
    "        \n",
    "        # compute metrics\n",
    "        for pf in list(perf_metrics.keys()):\n",
    "            df_metrics.loc[k, \"Fold\"] = f\n",
    "            df_metrics.loc[k, \"Metric\"] = pf\n",
    "            df_metrics.loc[k, \"Shrinkage\"] = l\n",
    "            df_metrics.loc[k, \"Train\"] = perf_metrics[pf](y_train.ravel(), y_train_pred.ravel())\n",
    "            df_metrics.loc[k, \"Test\"] = perf_metrics[pf](y_test.ravel(), y_test_pred.ravel())\n",
    "            k += 1\n",
    "        \n",
    "        # if using sklearn: from sklearn.linear_model import Ridge\n",
    "        #ml = Ridge(alpha=l).fit(x_train, y_train)\n",
    "        #pred_train = ml.predict(x_train)\n",
    "        #pred_test = ml.predict(x_test)\n",
    "\n",
    "# final organization\n",
    "df_metrics = df_metrics.apply(pd.to_numeric, errors=\"ignore\")"
   ]
  },
  {
   "cell_type": "markdown",
   "metadata": {},
   "source": [
    "#### Stats"
   ]
  },
  {
   "cell_type": "code",
   "execution_count": 87,
   "metadata": {},
   "outputs": [
    {
     "data": {
      "text/html": [
       "<div>\n",
       "<style scoped>\n",
       "    .dataframe tbody tr th:only-of-type {\n",
       "        vertical-align: middle;\n",
       "    }\n",
       "\n",
       "    .dataframe tbody tr th {\n",
       "        vertical-align: top;\n",
       "    }\n",
       "\n",
       "    .dataframe thead th {\n",
       "        text-align: right;\n",
       "    }\n",
       "</style>\n",
       "<table border=\"1\" class=\"dataframe\">\n",
       "  <thead>\n",
       "    <tr style=\"text-align: right;\">\n",
       "      <th>Metric</th>\n",
       "      <th>MAD</th>\n",
       "      <th>MSE</th>\n",
       "      <th>Pseudo-R2</th>\n",
       "      <th>RMSE</th>\n",
       "    </tr>\n",
       "    <tr>\n",
       "      <th>Shrinkage</th>\n",
       "      <th></th>\n",
       "      <th></th>\n",
       "      <th></th>\n",
       "      <th></th>\n",
       "    </tr>\n",
       "  </thead>\n",
       "  <tbody>\n",
       "    <tr>\n",
       "      <th>0.00001</th>\n",
       "      <td>3.415620</td>\n",
       "      <td>23.937802</td>\n",
       "      <td>0.716386</td>\n",
       "      <td>4.858077</td>\n",
       "    </tr>\n",
       "    <tr>\n",
       "      <th>0.00202</th>\n",
       "      <td>3.415227</td>\n",
       "      <td>23.937523</td>\n",
       "      <td>0.716387</td>\n",
       "      <td>4.858034</td>\n",
       "    </tr>\n",
       "    <tr>\n",
       "      <th>0.00403</th>\n",
       "      <td>3.414838</td>\n",
       "      <td>23.937251</td>\n",
       "      <td>0.716389</td>\n",
       "      <td>4.857992</td>\n",
       "    </tr>\n",
       "    <tr>\n",
       "      <th>0.00604</th>\n",
       "      <td>3.414450</td>\n",
       "      <td>23.936987</td>\n",
       "      <td>0.716391</td>\n",
       "      <td>4.857951</td>\n",
       "    </tr>\n",
       "    <tr>\n",
       "      <th>0.00805</th>\n",
       "      <td>3.414062</td>\n",
       "      <td>23.936731</td>\n",
       "      <td>0.716392</td>\n",
       "      <td>4.857910</td>\n",
       "    </tr>\n",
       "  </tbody>\n",
       "</table>\n",
       "</div>"
      ],
      "text/plain": [
       "Metric          MAD        MSE  Pseudo-R2      RMSE\n",
       "Shrinkage                                          \n",
       "0.00001    3.415620  23.937802   0.716386  4.858077\n",
       "0.00202    3.415227  23.937523   0.716387  4.858034\n",
       "0.00403    3.414838  23.937251   0.716389  4.857992\n",
       "0.00604    3.414450  23.936987   0.716391  4.857951\n",
       "0.00805    3.414062  23.936731   0.716392  4.857910"
      ]
     },
     "execution_count": 87,
     "metadata": {},
     "output_type": "execute_result"
    }
   ],
   "source": [
    "df_metrics.pivot_table(index=\"Shrinkage\", columns=\"Metric\", values=\"Test\").head()"
   ]
  },
  {
   "cell_type": "code",
   "execution_count": 88,
   "metadata": {},
   "outputs": [],
   "source": [
    "df_agg_metrics = df_metrics.pivot_table(index=\"Shrinkage\", columns=\"Metric\", values=\"Test\")"
   ]
  },
  {
   "cell_type": "code",
   "execution_count": 89,
   "metadata": {},
   "outputs": [
    {
     "data": {
      "text/plain": [
       "<matplotlib.axes._subplots.AxesSubplot at 0x16eef0e3548>"
      ]
     },
     "execution_count": 89,
     "metadata": {},
     "output_type": "execute_result"
    },
    {
     "data": {
      "image/png": "[encoded data removed]",
      "text/plain": [
       "<Figure size 432x288 with 1 Axes>"
      ]
     },
     "metadata": {
      "needs_background": "light"
     },
     "output_type": "display_data"
    }
   ],
   "source": [
    "df_agg_metrics[[\"RMSE\"]].plot()"
   ]
  },
  {
   "cell_type": "code",
   "execution_count": 90,
   "metadata": {},
   "outputs": [
    {
     "data": {
      "text/plain": [
       "Metric\n",
       "MAD           3.395047\n",
       "MSE          23.933826\n",
       "Pseudo-R2     0.716442\n",
       "RMSE          4.856875\n",
       "Name: 0.11257, dtype: float64"
      ]
     },
     "execution_count": 90,
     "metadata": {},
     "output_type": "execute_result"
    }
   ],
   "source": [
    "df_agg_metrics.loc[df_agg_metrics[\"RMSE\"].idxmin()]"
   ]
  },
  {
   "cell_type": "markdown",
   "metadata": {},
   "source": [
    "### Ridge + Polynomial Features"
   ]
  },
  {
   "cell_type": "code",
   "execution_count": 98,
   "metadata": {},
   "outputs": [
    {
     "name": "stdout",
     "output_type": "stream",
     "text": [
      "1\n",
      "2\n",
      "3\n",
      "4\n",
      "5\n"
     ]
    }
   ],
   "source": [
    "# pre-instantiation\n",
    "poly_params = {\"degree\": 3,\n",
    "               \"interaction_only\": False,\n",
    "               \"include_bias\": True\n",
    "              }\n",
    "ridge_shrinkage = np.linspace(0.00001, 0.4, num=200)\n",
    "target = [\"T1\"]\n",
    "df_metrics = pd.DataFrame(index=[0], columns=[\"Fold\", \"Shrinkage\", \"Metric\", \"Train\", \"Test\"])\n",
    "\n",
    "# main loop\n",
    "k, f = 0, 0\n",
    "for (train, test) in k_folds.split(df.drop(labels=target, axis=1)):\n",
    "    f += 1\n",
    "    print(f)\n",
    "    # separate variables and folds\n",
    "    x_train = df.drop(labels=target, axis=1).values[train]\n",
    "    x_test = df.drop(labels=target, axis=1).values[test]\n",
    "    y_train = df[target].values[train]\n",
    "    y_test = df[target].values[test]\n",
    "        \n",
    "    # scale variables\n",
    "    scaler_x = StandardScaler().fit(x_train)\n",
    "    x_train = scaler_x.transform(x_train)\n",
    "    x_test = scaler_x.transform(x_test)\n",
    "    \n",
    "    # polynomial features - will include bias automatically\n",
    "    poly_func = PolynomialFeatures(**poly_params).fit(x_train)\n",
    "    x_train = poly_func.transform(x_train)\n",
    "    x_test = poly_func.transform(x_test)\n",
    "        \n",
    "    # fit model\n",
    "    for l in ridge_shrinkage:\n",
    "        # train model - min ||coefs||^2, subject to: X coefs = y -- L(\\lambda) = ||coefs||^1 + \\lambda * (X coefs - y)\n",
    "        inv_component = np.linalg.pinv(np.matmul(x_train.transpose(), x_train) + np.eye(x_train.shape[1]) * l * x_train.shape[1])\n",
    "        coefs = np.matmul(inv_component, np.matmul(x_train.transpose(), y_train))\n",
    "        \n",
    "        # get predictions\n",
    "        y_train_pred = np.matmul(x_train, coefs)\n",
    "        y_test_pred = np.matmul(x_test, coefs)\n",
    "        \n",
    "        # compute metrics\n",
    "        for pf in list(perf_metrics.keys()):\n",
    "            df_metrics.loc[k, \"Fold\"] = f\n",
    "            df_metrics.loc[k, \"Metric\"] = pf\n",
    "            df_metrics.loc[k, \"Shrinkage\"] = l\n",
    "            df_metrics.loc[k, \"Train\"] = perf_metrics[pf](y_train.ravel(), y_train_pred.ravel())\n",
    "            df_metrics.loc[k, \"Test\"] = perf_metrics[pf](y_test.ravel(), y_test_pred.ravel())\n",
    "            k += 1\n",
    "        \n",
    "        # if using sklearn: from sklearn.linear_model import Ridge, Lasso\n",
    "        #ml = Ridge(alpha=l).fit(x_train, y_train)\n",
    "        #pred_train = ml.predict(x_train)\n",
    "        #pred_test = ml.predict(x_test)\n",
    "\n",
    "# final organization\n",
    "df_metrics = df_metrics.apply(pd.to_numeric, errors=\"ignore\")"
   ]
  },
  {
   "cell_type": "markdown",
   "metadata": {},
   "source": [
    "#### Stats"
   ]
  },
  {
   "cell_type": "code",
   "execution_count": 99,
   "metadata": {},
   "outputs": [],
   "source": [
    "df_agg_metrics = df_metrics.pivot_table(index=\"Shrinkage\", columns=\"Metric\", values=\"Test\")"
   ]
  },
  {
   "cell_type": "code",
   "execution_count": 100,
   "metadata": {},
   "outputs": [
    {
     "data": {
      "text/plain": [
       "<matplotlib.axes._subplots.AxesSubplot at 0x16eef1266c8>"
      ]
     },
     "execution_count": 100,
     "metadata": {},
     "output_type": "execute_result"
    },
    {
     "data": {
      "image/png": "[encoded data removed]",
      "text/plain": [
       "<Figure size 432x288 with 1 Axes>"
      ]
     },
     "metadata": {
      "needs_background": "light"
     },
     "output_type": "display_data"
    }
   ],
   "source": [
    "df_agg_metrics[[\"RMSE\"]].plot()"
   ]
  },
  {
   "cell_type": "code",
   "execution_count": 101,
   "metadata": {},
   "outputs": [
    {
     "data": {
      "text/plain": [
       "Metric\n",
       "MAD           3.351592\n",
       "MSE          24.837005\n",
       "Pseudo-R2     0.754024\n",
       "RMSE          4.918897\n",
       "Name: 0.08041, dtype: float64"
      ]
     },
     "execution_count": 101,
     "metadata": {},
     "output_type": "execute_result"
    }
   ],
   "source": [
    "df_agg_metrics.loc[df_agg_metrics[\"RMSE\"].idxmin()]"
   ]
  },
  {
   "cell_type": "markdown",
   "metadata": {},
   "source": [
    "# Classification"
   ]
  },
  {
   "cell_type": "markdown",
   "metadata": {},
   "source": [
    "## Organize data"
   ]
  },
  {
   "cell_type": "markdown",
   "metadata": {},
   "source": [
    "### Load data"
   ]
  },
  {
   "cell_type": "code",
   "execution_count": 102,
   "metadata": {},
   "outputs": [
    {
     "data": {
      "text/html": [
       "<div>\n",
       "<style scoped>\n",
       "    .dataframe tbody tr th:only-of-type {\n",
       "        vertical-align: middle;\n",
       "    }\n",
       "\n",
       "    .dataframe tbody tr th {\n",
       "        vertical-align: top;\n",
       "    }\n",
       "\n",
       "    .dataframe thead th {\n",
       "        text-align: right;\n",
       "    }\n",
       "</style>\n",
       "<table border=\"1\" class=\"dataframe\">\n",
       "  <thead>\n",
       "    <tr style=\"text-align: right;\">\n",
       "      <th></th>\n",
       "      <th>default</th>\n",
       "      <th>account_check_status</th>\n",
       "      <th>duration_in_month</th>\n",
       "      <th>credit_history</th>\n",
       "      <th>purpose</th>\n",
       "      <th>credit_amount</th>\n",
       "      <th>savings</th>\n",
       "      <th>present_emp_since</th>\n",
       "      <th>installment_as_income_perc</th>\n",
       "      <th>personal_status_sex</th>\n",
       "      <th>...</th>\n",
       "      <th>present_res_since</th>\n",
       "      <th>property</th>\n",
       "      <th>age</th>\n",
       "      <th>other_installment_plans</th>\n",
       "      <th>housing</th>\n",
       "      <th>credits_this_bank</th>\n",
       "      <th>job</th>\n",
       "      <th>people_under_maintenance</th>\n",
       "      <th>telephone</th>\n",
       "      <th>foreign_worker</th>\n",
       "    </tr>\n",
       "  </thead>\n",
       "  <tbody>\n",
       "    <tr>\n",
       "      <th>0</th>\n",
       "      <td>0</td>\n",
       "      <td>&lt; 0 DM</td>\n",
       "      <td>6</td>\n",
       "      <td>critical account/ other credits existing (not ...</td>\n",
       "      <td>domestic appliances</td>\n",
       "      <td>1169</td>\n",
       "      <td>unknown/ no savings account</td>\n",
       "      <td>.. &gt;= 7 years</td>\n",
       "      <td>4</td>\n",
       "      <td>male : single</td>\n",
       "      <td>...</td>\n",
       "      <td>4</td>\n",
       "      <td>real estate</td>\n",
       "      <td>67</td>\n",
       "      <td>none</td>\n",
       "      <td>own</td>\n",
       "      <td>2</td>\n",
       "      <td>skilled employee / official</td>\n",
       "      <td>1</td>\n",
       "      <td>yes, registered under the customers name</td>\n",
       "      <td>yes</td>\n",
       "    </tr>\n",
       "    <tr>\n",
       "      <th>1</th>\n",
       "      <td>1</td>\n",
       "      <td>0 &lt;= ... &lt; 200 DM</td>\n",
       "      <td>48</td>\n",
       "      <td>existing credits paid back duly till now</td>\n",
       "      <td>domestic appliances</td>\n",
       "      <td>5951</td>\n",
       "      <td>... &lt; 100 DM</td>\n",
       "      <td>1 &lt;= ... &lt; 4 years</td>\n",
       "      <td>2</td>\n",
       "      <td>female : divorced/separated/married</td>\n",
       "      <td>...</td>\n",
       "      <td>2</td>\n",
       "      <td>real estate</td>\n",
       "      <td>22</td>\n",
       "      <td>none</td>\n",
       "      <td>own</td>\n",
       "      <td>1</td>\n",
       "      <td>skilled employee / official</td>\n",
       "      <td>1</td>\n",
       "      <td>none</td>\n",
       "      <td>yes</td>\n",
       "    </tr>\n",
       "    <tr>\n",
       "      <th>2</th>\n",
       "      <td>0</td>\n",
       "      <td>no checking account</td>\n",
       "      <td>12</td>\n",
       "      <td>critical account/ other credits existing (not ...</td>\n",
       "      <td>(vacation - does not exist?)</td>\n",
       "      <td>2096</td>\n",
       "      <td>... &lt; 100 DM</td>\n",
       "      <td>4 &lt;= ... &lt; 7 years</td>\n",
       "      <td>2</td>\n",
       "      <td>male : single</td>\n",
       "      <td>...</td>\n",
       "      <td>3</td>\n",
       "      <td>real estate</td>\n",
       "      <td>49</td>\n",
       "      <td>none</td>\n",
       "      <td>own</td>\n",
       "      <td>1</td>\n",
       "      <td>unskilled - resident</td>\n",
       "      <td>2</td>\n",
       "      <td>none</td>\n",
       "      <td>yes</td>\n",
       "    </tr>\n",
       "    <tr>\n",
       "      <th>3</th>\n",
       "      <td>0</td>\n",
       "      <td>&lt; 0 DM</td>\n",
       "      <td>42</td>\n",
       "      <td>existing credits paid back duly till now</td>\n",
       "      <td>radio/television</td>\n",
       "      <td>7882</td>\n",
       "      <td>... &lt; 100 DM</td>\n",
       "      <td>4 &lt;= ... &lt; 7 years</td>\n",
       "      <td>2</td>\n",
       "      <td>male : single</td>\n",
       "      <td>...</td>\n",
       "      <td>4</td>\n",
       "      <td>if not A121 : building society savings agreeme...</td>\n",
       "      <td>45</td>\n",
       "      <td>none</td>\n",
       "      <td>for free</td>\n",
       "      <td>1</td>\n",
       "      <td>skilled employee / official</td>\n",
       "      <td>2</td>\n",
       "      <td>none</td>\n",
       "      <td>yes</td>\n",
       "    </tr>\n",
       "    <tr>\n",
       "      <th>4</th>\n",
       "      <td>1</td>\n",
       "      <td>&lt; 0 DM</td>\n",
       "      <td>24</td>\n",
       "      <td>delay in paying off in the past</td>\n",
       "      <td>car (new)</td>\n",
       "      <td>4870</td>\n",
       "      <td>... &lt; 100 DM</td>\n",
       "      <td>1 &lt;= ... &lt; 4 years</td>\n",
       "      <td>3</td>\n",
       "      <td>male : single</td>\n",
       "      <td>...</td>\n",
       "      <td>4</td>\n",
       "      <td>unknown / no property</td>\n",
       "      <td>53</td>\n",
       "      <td>none</td>\n",
       "      <td>for free</td>\n",
       "      <td>2</td>\n",
       "      <td>skilled employee / official</td>\n",
       "      <td>2</td>\n",
       "      <td>none</td>\n",
       "      <td>yes</td>\n",
       "    </tr>\n",
       "  </tbody>\n",
       "</table>\n",
       "<p>5 rows × 21 columns</p>\n",
       "</div>"
      ],
      "text/plain": [
       "   default account_check_status  duration_in_month  \\\n",
       "0        0               < 0 DM                  6   \n",
       "1        1    0 <= ... < 200 DM                 48   \n",
       "2        0  no checking account                 12   \n",
       "3        0               < 0 DM                 42   \n",
       "4        1               < 0 DM                 24   \n",
       "\n",
       "                                      credit_history  \\\n",
       "0  critical account/ other credits existing (not ...   \n",
       "1           existing credits paid back duly till now   \n",
       "2  critical account/ other credits existing (not ...   \n",
       "3           existing credits paid back duly till now   \n",
       "4                    delay in paying off in the past   \n",
       "\n",
       "                        purpose  credit_amount                      savings  \\\n",
       "0           domestic appliances           1169  unknown/ no savings account   \n",
       "1           domestic appliances           5951                 ... < 100 DM   \n",
       "2  (vacation - does not exist?)           2096                 ... < 100 DM   \n",
       "3              radio/television           7882                 ... < 100 DM   \n",
       "4                     car (new)           4870                 ... < 100 DM   \n",
       "\n",
       "    present_emp_since  installment_as_income_perc  \\\n",
       "0       .. >= 7 years                           4   \n",
       "1  1 <= ... < 4 years                           2   \n",
       "2  4 <= ... < 7 years                           2   \n",
       "3  4 <= ... < 7 years                           2   \n",
       "4  1 <= ... < 4 years                           3   \n",
       "\n",
       "                   personal_status_sex  ... present_res_since  \\\n",
       "0                        male : single  ...                 4   \n",
       "1  female : divorced/separated/married  ...                 2   \n",
       "2                        male : single  ...                 3   \n",
       "3                        male : single  ...                 4   \n",
       "4                        male : single  ...                 4   \n",
       "\n",
       "                                            property age  \\\n",
       "0                                        real estate  67   \n",
       "1                                        real estate  22   \n",
       "2                                        real estate  49   \n",
       "3  if not A121 : building society savings agreeme...  45   \n",
       "4                              unknown / no property  53   \n",
       "\n",
       "   other_installment_plans   housing credits_this_bank  \\\n",
       "0                     none       own                 2   \n",
       "1                     none       own                 1   \n",
       "2                     none       own                 1   \n",
       "3                     none  for free                 1   \n",
       "4                     none  for free                 2   \n",
       "\n",
       "                           job people_under_maintenance  \\\n",
       "0  skilled employee / official                        1   \n",
       "1  skilled employee / official                        1   \n",
       "2         unskilled - resident                        2   \n",
       "3  skilled employee / official                        2   \n",
       "4  skilled employee / official                        2   \n",
       "\n",
       "                                   telephone foreign_worker  \n",
       "0  yes, registered under the customers name             yes  \n",
       "1                                       none            yes  \n",
       "2                                       none            yes  \n",
       "3                                       none            yes  \n",
       "4                                       none            yes  \n",
       "\n",
       "[5 rows x 21 columns]"
      ]
     },
     "execution_count": 102,
     "metadata": {},
     "output_type": "execute_result"
    }
   ],
   "source": [
    "df = pd.read_csv(\"https://raw.githubusercontent.com/askoshiyama/mli-cohort/master/german_credit.csv\")\n",
    "df.head()"
   ]
  },
  {
   "cell_type": "markdown",
   "metadata": {},
   "source": [
    "### Pre-process variables"
   ]
  },
  {
   "cell_type": "code",
   "execution_count": 37,
   "metadata": {},
   "outputs": [
    {
     "data": {
      "text/plain": [
       "default                        int64\n",
       "account_check_status          object\n",
       "duration_in_month              int64\n",
       "credit_history                object\n",
       "purpose                       object\n",
       "credit_amount                  int64\n",
       "savings                       object\n",
       "present_emp_since             object\n",
       "installment_as_income_perc     int64\n",
       "personal_status_sex           object\n",
       "other_debtors                 object\n",
       "present_res_since              int64\n",
       "property                      object\n",
       "age                            int64\n",
       "other_installment_plans       object\n",
       "housing                       object\n",
       "credits_this_bank              int64\n",
       "job                           object\n",
       "people_under_maintenance       int64\n",
       "telephone                     object\n",
       "foreign_worker                object\n",
       "dtype: object"
      ]
     },
     "execution_count": 37,
     "metadata": {},
     "output_type": "execute_result"
    }
   ],
   "source": [
    "# variable types\n",
    "df.dtypes"
   ]
  },
  {
   "cell_type": "code",
   "execution_count": 38,
   "metadata": {},
   "outputs": [],
   "source": [
    "# categorical variables\n",
    "cat_variables = ['account_check_status', 'credit_history', 'purpose', 'savings', 'present_emp_since', 'personal_status_sex',\n",
    "                'property', 'other_installment_plans', 'housing', 'job', 'telephone', \"other_debtors\", 'foreign_worker']\n",
    "\n",
    "# target variable\n",
    "output_variable = [\"default\"]\n",
    "\n",
    "# other integer variables\n",
    "int_variables = ['credits_this_bank', 'present_res_since', 'duration_in_month', 'people_under_maintenance', \n",
    "                 'installment_as_income_perc', 'age', 'credit_amount']\n",
    "# list(set(df.columns) - set(output_variable) - set(cat_variables))"
   ]
  },
  {
   "cell_type": "code",
   "execution_count": 39,
   "metadata": {},
   "outputs": [
    {
     "data": {
      "text/plain": [
       "account_check_status_0 <= ... < 200 DM                                        0.269\n",
       "account_check_status_< 0 DM                                                   0.274\n",
       "account_check_status_>= 200 DM / salary assignments for at least 1 year       0.063\n",
       "account_check_status_no checking account                                      0.394\n",
       "credit_history_all credits at this bank paid back duly                        0.049\n",
       "credit_history_critical account/ other credits existing (not at this bank)    0.293\n",
       "credit_history_delay in paying off in the past                                0.088\n",
       "credit_history_existing credits paid back duly till now                       0.530\n",
       "credit_history_no credits taken/ all credits paid back duly                   0.040\n",
       "purpose_(vacation - does not exist?)                                          0.050\n",
       "purpose_business                                                              0.097\n",
       "purpose_car (new)                                                             0.234\n",
       "purpose_car (used)                                                            0.103\n",
       "purpose_domestic appliances                                                   0.280\n",
       "purpose_education                                                             0.022\n",
       "purpose_furniture/equipment                                                   0.012\n",
       "purpose_radio/television                                                      0.181\n",
       "purpose_repairs                                                               0.012\n",
       "purpose_retraining                                                            0.009\n",
       "savings_.. >= 1000 DM                                                         0.048\n",
       "savings_... < 100 DM                                                          0.603\n",
       "savings_100 <= ... < 500 DM                                                   0.103\n",
       "savings_500 <= ... < 1000 DM                                                  0.063\n",
       "savings_unknown/ no savings account                                           0.183\n",
       "present_emp_since_.. >= 7 years                                               0.253\n",
       "present_emp_since_... < 1 year                                                0.172\n",
       "present_emp_since_1 <= ... < 4 years                                          0.339\n",
       "present_emp_since_4 <= ... < 7 years                                          0.174\n",
       "present_emp_since_unemployed                                                  0.062\n",
       "personal_status_sex_female : divorced/separated/married                       0.310\n",
       "personal_status_sex_male : divorced/separated                                 0.050\n",
       "personal_status_sex_male : married/widowed                                    0.092\n",
       "personal_status_sex_male : single                                             0.548\n",
       "property_if not A121 : building society savings agreement/ life insurance     0.232\n",
       "property_if not A121/A122 : car or other, not in attribute 6                  0.332\n",
       "property_real estate                                                          0.282\n",
       "property_unknown / no property                                                0.154\n",
       "other_installment_plans_bank                                                  0.139\n",
       "other_installment_plans_none                                                  0.814\n",
       "other_installment_plans_stores                                                0.047\n",
       "housing_for free                                                              0.108\n",
       "housing_own                                                                   0.713\n",
       "housing_rent                                                                  0.179\n",
       "job_management/ self-employed/ highly qualified employee/ officer             0.148\n",
       "job_skilled employee / official                                               0.630\n",
       "job_unemployed/ unskilled - non-resident                                      0.022\n",
       "job_unskilled - resident                                                      0.200\n",
       "telephone_none                                                                0.596\n",
       "telephone_yes, registered under the customers name                            0.404\n",
       "other_debtors_co-applicant                                                    0.041\n",
       "other_debtors_guarantor                                                       0.052\n",
       "other_debtors_none                                                            0.907\n",
       "foreign_worker_no                                                             0.037\n",
       "foreign_worker_yes                                                            0.963\n",
       "dtype: float64"
      ]
     },
     "execution_count": 39,
     "metadata": {},
     "output_type": "execute_result"
    }
   ],
   "source": [
    "# pre-allocation\n",
    "df_cat = pd.DataFrame(index=df.index)\n",
    "\n",
    "# one-hot encoding of categorical variables\n",
    "from sklearn.preprocessing import OneHotEncoder\n",
    "\n",
    "# I will do a loop for pedagogical reasons, but it is not entirely necessary\n",
    "for cat in cat_variables:\n",
    "    # one-hot encoding fitting\n",
    "    one_hot_func = OneHotEncoder().fit(df[[cat]])\n",
    "    \n",
    "    # mapping\n",
    "    cat_mapped = one_hot_func.transform(df[[cat]]).toarray()\n",
    "    \n",
    "    # storing\n",
    "    for (k, cat_label) in enumerate(one_hot_func.categories_[0]):\n",
    "        df_cat[cat + \"_\" + cat_label] = cat_mapped[:, k]\n",
    "\n",
    "# quick check\n",
    "df_cat.mean()"
   ]
  },
  {
   "cell_type": "code",
   "execution_count": 40,
   "metadata": {},
   "outputs": [
    {
     "data": {
      "text/html": [
       "<div>\n",
       "<style scoped>\n",
       "    .dataframe tbody tr th:only-of-type {\n",
       "        vertical-align: middle;\n",
       "    }\n",
       "\n",
       "    .dataframe tbody tr th {\n",
       "        vertical-align: top;\n",
       "    }\n",
       "\n",
       "    .dataframe thead th {\n",
       "        text-align: right;\n",
       "    }\n",
       "</style>\n",
       "<table border=\"1\" class=\"dataframe\">\n",
       "  <thead>\n",
       "    <tr style=\"text-align: right;\">\n",
       "      <th></th>\n",
       "      <th>young</th>\n",
       "      <th>adult</th>\n",
       "      <th>senior</th>\n",
       "      <th>age</th>\n",
       "    </tr>\n",
       "  </thead>\n",
       "  <tbody>\n",
       "    <tr>\n",
       "      <th>0</th>\n",
       "      <td>0.0</td>\n",
       "      <td>0.0</td>\n",
       "      <td>1.0</td>\n",
       "      <td>67</td>\n",
       "    </tr>\n",
       "    <tr>\n",
       "      <th>1</th>\n",
       "      <td>1.0</td>\n",
       "      <td>0.0</td>\n",
       "      <td>0.0</td>\n",
       "      <td>22</td>\n",
       "    </tr>\n",
       "    <tr>\n",
       "      <th>2</th>\n",
       "      <td>0.0</td>\n",
       "      <td>0.0</td>\n",
       "      <td>1.0</td>\n",
       "      <td>49</td>\n",
       "    </tr>\n",
       "    <tr>\n",
       "      <th>3</th>\n",
       "      <td>0.0</td>\n",
       "      <td>0.0</td>\n",
       "      <td>1.0</td>\n",
       "      <td>45</td>\n",
       "    </tr>\n",
       "    <tr>\n",
       "      <th>4</th>\n",
       "      <td>0.0</td>\n",
       "      <td>0.0</td>\n",
       "      <td>1.0</td>\n",
       "      <td>53</td>\n",
       "    </tr>\n",
       "    <tr>\n",
       "      <th>5</th>\n",
       "      <td>0.0</td>\n",
       "      <td>1.0</td>\n",
       "      <td>0.0</td>\n",
       "      <td>35</td>\n",
       "    </tr>\n",
       "    <tr>\n",
       "      <th>6</th>\n",
       "      <td>0.0</td>\n",
       "      <td>0.0</td>\n",
       "      <td>1.0</td>\n",
       "      <td>53</td>\n",
       "    </tr>\n",
       "    <tr>\n",
       "      <th>7</th>\n",
       "      <td>0.0</td>\n",
       "      <td>1.0</td>\n",
       "      <td>0.0</td>\n",
       "      <td>35</td>\n",
       "    </tr>\n",
       "    <tr>\n",
       "      <th>8</th>\n",
       "      <td>0.0</td>\n",
       "      <td>0.0</td>\n",
       "      <td>1.0</td>\n",
       "      <td>61</td>\n",
       "    </tr>\n",
       "    <tr>\n",
       "      <th>9</th>\n",
       "      <td>0.0</td>\n",
       "      <td>1.0</td>\n",
       "      <td>0.0</td>\n",
       "      <td>28</td>\n",
       "    </tr>\n",
       "  </tbody>\n",
       "</table>\n",
       "</div>"
      ],
      "text/plain": [
       "   young  adult  senior  age\n",
       "0    0.0    0.0     1.0   67\n",
       "1    1.0    0.0     0.0   22\n",
       "2    0.0    0.0     1.0   49\n",
       "3    0.0    0.0     1.0   45\n",
       "4    0.0    0.0     1.0   53\n",
       "5    0.0    1.0     0.0   35\n",
       "6    0.0    0.0     1.0   53\n",
       "7    0.0    1.0     0.0   35\n",
       "8    0.0    0.0     1.0   61\n",
       "9    0.0    1.0     0.0   28"
      ]
     },
     "execution_count": 40,
     "metadata": {},
     "output_type": "execute_result"
    }
   ],
   "source": [
    "# bracketing integer variable - age\n",
    "from sklearn.preprocessing import KBinsDiscretizer\n",
    "kbin_func = KBinsDiscretizer(n_bins=3, encode='onehot', strategy='quantile').fit(df[[\"age\"]])\n",
    "df_age = pd.DataFrame(kbin_func.transform(df[[\"age\"]]).toarray(), columns=[\"young\", \"adult\", \"senior\"])\n",
    "\n",
    "# checking\n",
    "pd.concat([df_age, df[[\"age\"]]], axis=1).head(10)"
   ]
  },
  {
   "cell_type": "code",
   "execution_count": 41,
   "metadata": {},
   "outputs": [
    {
     "name": "stderr",
     "output_type": "stream",
     "text": [
      "C:\\Users\\Koshiyama\\Anaconda3-64bit\\lib\\site-packages\\sklearn\\preprocessing\\_function_transformer.py:97: FutureWarning: The default validate=True will be replaced by validate=False in 0.22.\n",
      "  \"validate=False in 0.22.\", FutureWarning)\n",
      "C:\\Users\\Koshiyama\\Anaconda3-64bit\\lib\\site-packages\\sklearn\\preprocessing\\_function_transformer.py:97: FutureWarning: The default validate=True will be replaced by validate=False in 0.22.\n",
      "  \"validate=False in 0.22.\", FutureWarning)\n"
     ]
    },
    {
     "data": {
      "image/png": "[encoded data removed]",
      "text/plain": [
       "<Figure size 864x360 with 2 Axes>"
      ]
     },
     "metadata": {
      "needs_background": "light"
     },
     "output_type": "display_data"
    }
   ],
   "source": [
    "# other types of transformations possible - log transformation \n",
    "from sklearn.preprocessing import FunctionTransformer\n",
    "log_mapping = FunctionTransformer(func=np.log, inverse_func=np.exp)\n",
    "\n",
    "fig, (ax1, ax2) = plt.subplots(1, 2, figsize=(12, 5))\n",
    "ax1.hist(df[\"credit_amount\"])\n",
    "ax1.set_title(\"Pre-transformation\")\n",
    "\n",
    "ax2.hist(log_mapping.transform(df[[\"credit_amount\"]]))\n",
    "ax2.set_title(\"After log-transformation\")\n",
    "df_log = pd.DataFrame(log_mapping.transform(df[[\"credit_amount\"]]), columns=[\"log(credit)\"])"
   ]
  },
  {
   "cell_type": "markdown",
   "metadata": {},
   "source": [
    "### Consolidating a final dataset"
   ]
  },
  {
   "cell_type": "code",
   "execution_count": 42,
   "metadata": {},
   "outputs": [
    {
     "data": {
      "text/plain": [
       "((1000, 21), (1000, 64))"
      ]
     },
     "execution_count": 42,
     "metadata": {},
     "output_type": "execute_result"
    }
   ],
   "source": [
    "df_model = pd.concat([df[int_variables[:-2]], df_cat, df_age, df_log, df[output_variable]], axis=1)\n",
    "df.shape, df_model.shape"
   ]
  },
  {
   "cell_type": "code",
   "execution_count": 43,
   "metadata": {},
   "outputs": [
    {
     "data": {
      "text/html": [
       "<div>\n",
       "<style scoped>\n",
       "    .dataframe tbody tr th:only-of-type {\n",
       "        vertical-align: middle;\n",
       "    }\n",
       "\n",
       "    .dataframe tbody tr th {\n",
       "        vertical-align: top;\n",
       "    }\n",
       "\n",
       "    .dataframe thead th {\n",
       "        text-align: right;\n",
       "    }\n",
       "</style>\n",
       "<table border=\"1\" class=\"dataframe\">\n",
       "  <thead>\n",
       "    <tr style=\"text-align: right;\">\n",
       "      <th></th>\n",
       "      <th>credits_this_bank</th>\n",
       "      <th>present_res_since</th>\n",
       "      <th>duration_in_month</th>\n",
       "      <th>people_under_maintenance</th>\n",
       "      <th>installment_as_income_perc</th>\n",
       "      <th>account_check_status_0 &lt;= ... &lt; 200 DM</th>\n",
       "      <th>account_check_status_&lt; 0 DM</th>\n",
       "      <th>account_check_status_&gt;= 200 DM / salary assignments for at least 1 year</th>\n",
       "      <th>account_check_status_no checking account</th>\n",
       "      <th>credit_history_all credits at this bank paid back duly</th>\n",
       "      <th>...</th>\n",
       "      <th>other_debtors_co-applicant</th>\n",
       "      <th>other_debtors_guarantor</th>\n",
       "      <th>other_debtors_none</th>\n",
       "      <th>foreign_worker_no</th>\n",
       "      <th>foreign_worker_yes</th>\n",
       "      <th>young</th>\n",
       "      <th>adult</th>\n",
       "      <th>senior</th>\n",
       "      <th>log(credit)</th>\n",
       "      <th>default</th>\n",
       "    </tr>\n",
       "  </thead>\n",
       "  <tbody>\n",
       "    <tr>\n",
       "      <th>0</th>\n",
       "      <td>2</td>\n",
       "      <td>4</td>\n",
       "      <td>6</td>\n",
       "      <td>1</td>\n",
       "      <td>4</td>\n",
       "      <td>0.0</td>\n",
       "      <td>1.0</td>\n",
       "      <td>0.0</td>\n",
       "      <td>0.0</td>\n",
       "      <td>0.0</td>\n",
       "      <td>...</td>\n",
       "      <td>0.0</td>\n",
       "      <td>0.0</td>\n",
       "      <td>1.0</td>\n",
       "      <td>0.0</td>\n",
       "      <td>1.0</td>\n",
       "      <td>0.0</td>\n",
       "      <td>0.0</td>\n",
       "      <td>1.0</td>\n",
       "      <td>7.063904</td>\n",
       "      <td>0</td>\n",
       "    </tr>\n",
       "    <tr>\n",
       "      <th>1</th>\n",
       "      <td>1</td>\n",
       "      <td>2</td>\n",
       "      <td>48</td>\n",
       "      <td>1</td>\n",
       "      <td>2</td>\n",
       "      <td>1.0</td>\n",
       "      <td>0.0</td>\n",
       "      <td>0.0</td>\n",
       "      <td>0.0</td>\n",
       "      <td>0.0</td>\n",
       "      <td>...</td>\n",
       "      <td>0.0</td>\n",
       "      <td>0.0</td>\n",
       "      <td>1.0</td>\n",
       "      <td>0.0</td>\n",
       "      <td>1.0</td>\n",
       "      <td>1.0</td>\n",
       "      <td>0.0</td>\n",
       "      <td>0.0</td>\n",
       "      <td>8.691315</td>\n",
       "      <td>1</td>\n",
       "    </tr>\n",
       "    <tr>\n",
       "      <th>2</th>\n",
       "      <td>1</td>\n",
       "      <td>3</td>\n",
       "      <td>12</td>\n",
       "      <td>2</td>\n",
       "      <td>2</td>\n",
       "      <td>0.0</td>\n",
       "      <td>0.0</td>\n",
       "      <td>0.0</td>\n",
       "      <td>1.0</td>\n",
       "      <td>0.0</td>\n",
       "      <td>...</td>\n",
       "      <td>0.0</td>\n",
       "      <td>0.0</td>\n",
       "      <td>1.0</td>\n",
       "      <td>0.0</td>\n",
       "      <td>1.0</td>\n",
       "      <td>0.0</td>\n",
       "      <td>0.0</td>\n",
       "      <td>1.0</td>\n",
       "      <td>7.647786</td>\n",
       "      <td>0</td>\n",
       "    </tr>\n",
       "    <tr>\n",
       "      <th>3</th>\n",
       "      <td>1</td>\n",
       "      <td>4</td>\n",
       "      <td>42</td>\n",
       "      <td>2</td>\n",
       "      <td>2</td>\n",
       "      <td>0.0</td>\n",
       "      <td>1.0</td>\n",
       "      <td>0.0</td>\n",
       "      <td>0.0</td>\n",
       "      <td>0.0</td>\n",
       "      <td>...</td>\n",
       "      <td>0.0</td>\n",
       "      <td>1.0</td>\n",
       "      <td>0.0</td>\n",
       "      <td>0.0</td>\n",
       "      <td>1.0</td>\n",
       "      <td>0.0</td>\n",
       "      <td>0.0</td>\n",
       "      <td>1.0</td>\n",
       "      <td>8.972337</td>\n",
       "      <td>0</td>\n",
       "    </tr>\n",
       "    <tr>\n",
       "      <th>4</th>\n",
       "      <td>2</td>\n",
       "      <td>4</td>\n",
       "      <td>24</td>\n",
       "      <td>2</td>\n",
       "      <td>3</td>\n",
       "      <td>0.0</td>\n",
       "      <td>1.0</td>\n",
       "      <td>0.0</td>\n",
       "      <td>0.0</td>\n",
       "      <td>0.0</td>\n",
       "      <td>...</td>\n",
       "      <td>0.0</td>\n",
       "      <td>0.0</td>\n",
       "      <td>1.0</td>\n",
       "      <td>0.0</td>\n",
       "      <td>1.0</td>\n",
       "      <td>0.0</td>\n",
       "      <td>0.0</td>\n",
       "      <td>1.0</td>\n",
       "      <td>8.490849</td>\n",
       "      <td>1</td>\n",
       "    </tr>\n",
       "  </tbody>\n",
       "</table>\n",
       "<p>5 rows × 64 columns</p>\n",
       "</div>"
      ],
      "text/plain": [
       "   credits_this_bank  present_res_since  duration_in_month  \\\n",
       "0                  2                  4                  6   \n",
       "1                  1                  2                 48   \n",
       "2                  1                  3                 12   \n",
       "3                  1                  4                 42   \n",
       "4                  2                  4                 24   \n",
       "\n",
       "   people_under_maintenance  installment_as_income_perc  \\\n",
       "0                         1                           4   \n",
       "1                         1                           2   \n",
       "2                         2                           2   \n",
       "3                         2                           2   \n",
       "4                         2                           3   \n",
       "\n",
       "   account_check_status_0 <= ... < 200 DM  account_check_status_< 0 DM  \\\n",
       "0                                     0.0                          1.0   \n",
       "1                                     1.0                          0.0   \n",
       "2                                     0.0                          0.0   \n",
       "3                                     0.0                          1.0   \n",
       "4                                     0.0                          1.0   \n",
       "\n",
       "   account_check_status_>= 200 DM / salary assignments for at least 1 year  \\\n",
       "0                                                0.0                         \n",
       "1                                                0.0                         \n",
       "2                                                0.0                         \n",
       "3                                                0.0                         \n",
       "4                                                0.0                         \n",
       "\n",
       "   account_check_status_no checking account  \\\n",
       "0                                       0.0   \n",
       "1                                       0.0   \n",
       "2                                       1.0   \n",
       "3                                       0.0   \n",
       "4                                       0.0   \n",
       "\n",
       "   credit_history_all credits at this bank paid back duly  ...  \\\n",
       "0                                                0.0       ...   \n",
       "1                                                0.0       ...   \n",
       "2                                                0.0       ...   \n",
       "3                                                0.0       ...   \n",
       "4                                                0.0       ...   \n",
       "\n",
       "   other_debtors_co-applicant  other_debtors_guarantor  other_debtors_none  \\\n",
       "0                         0.0                      0.0                 1.0   \n",
       "1                         0.0                      0.0                 1.0   \n",
       "2                         0.0                      0.0                 1.0   \n",
       "3                         0.0                      1.0                 0.0   \n",
       "4                         0.0                      0.0                 1.0   \n",
       "\n",
       "   foreign_worker_no  foreign_worker_yes  young  adult  senior  log(credit)  \\\n",
       "0                0.0                 1.0    0.0    0.0     1.0     7.063904   \n",
       "1                0.0                 1.0    1.0    0.0     0.0     8.691315   \n",
       "2                0.0                 1.0    0.0    0.0     1.0     7.647786   \n",
       "3                0.0                 1.0    0.0    0.0     1.0     8.972337   \n",
       "4                0.0                 1.0    0.0    0.0     1.0     8.490849   \n",
       "\n",
       "   default  \n",
       "0        0  \n",
       "1        1  \n",
       "2        0  \n",
       "3        0  \n",
       "4        1  \n",
       "\n",
       "[5 rows x 64 columns]"
      ]
     },
     "execution_count": 43,
     "metadata": {},
     "output_type": "execute_result"
    }
   ],
   "source": [
    "df_model.head()"
   ]
  },
  {
   "cell_type": "markdown",
   "metadata": {},
   "source": [
    "## Modelling"
   ]
  },
  {
   "cell_type": "code",
   "execution_count": 44,
   "metadata": {},
   "outputs": [
    {
     "data": {
      "text/html": [
       "<div>\n",
       "<style scoped>\n",
       "    .dataframe tbody tr th:only-of-type {\n",
       "        vertical-align: middle;\n",
       "    }\n",
       "\n",
       "    .dataframe tbody tr th {\n",
       "        vertical-align: top;\n",
       "    }\n",
       "\n",
       "    .dataframe thead th {\n",
       "        text-align: right;\n",
       "    }\n",
       "</style>\n",
       "<table border=\"1\" class=\"dataframe\">\n",
       "  <thead>\n",
       "    <tr style=\"text-align: right;\">\n",
       "      <th></th>\n",
       "      <th>default</th>\n",
       "    </tr>\n",
       "  </thead>\n",
       "  <tbody>\n",
       "    <tr>\n",
       "      <th>count</th>\n",
       "      <td>1000.000000</td>\n",
       "    </tr>\n",
       "    <tr>\n",
       "      <th>mean</th>\n",
       "      <td>0.300000</td>\n",
       "    </tr>\n",
       "    <tr>\n",
       "      <th>std</th>\n",
       "      <td>0.458487</td>\n",
       "    </tr>\n",
       "    <tr>\n",
       "      <th>min</th>\n",
       "      <td>0.000000</td>\n",
       "    </tr>\n",
       "    <tr>\n",
       "      <th>25%</th>\n",
       "      <td>0.000000</td>\n",
       "    </tr>\n",
       "    <tr>\n",
       "      <th>50%</th>\n",
       "      <td>0.000000</td>\n",
       "    </tr>\n",
       "    <tr>\n",
       "      <th>75%</th>\n",
       "      <td>1.000000</td>\n",
       "    </tr>\n",
       "    <tr>\n",
       "      <th>max</th>\n",
       "      <td>1.000000</td>\n",
       "    </tr>\n",
       "  </tbody>\n",
       "</table>\n",
       "</div>"
      ],
      "text/plain": [
       "           default\n",
       "count  1000.000000\n",
       "mean      0.300000\n",
       "std       0.458487\n",
       "min       0.000000\n",
       "25%       0.000000\n",
       "50%       0.000000\n",
       "75%       1.000000\n",
       "max       1.000000"
      ]
     },
     "execution_count": 44,
     "metadata": {},
     "output_type": "execute_result"
    }
   ],
   "source": [
    "df_model[output_variable].describe()"
   ]
  },
  {
   "cell_type": "markdown",
   "metadata": {},
   "source": [
    "### Settings"
   ]
  },
  {
   "cell_type": "code",
   "execution_count": 45,
   "metadata": {},
   "outputs": [],
   "source": [
    "from sklearn import metrics\n",
    "from sklearn.model_selection import StratifiedKFold\n",
    "\n",
    "# 3-fold cv\n",
    "k_folds = StratifiedKFold(n_splits=3, random_state=10)\n",
    "\n",
    "# performance metrics - \n",
    "# homework: https://scikit-learn.org/stable/modules/model_evaluation.html#classification-metrics\n",
    "# homework: https://en.wikipedia.org/wiki/Confusion_matrix, \n",
    "perf_metrics = {\"Accuracy\": metrics.accuracy_score, \n",
    "                \"Precision\": metrics.precision_score, \n",
    "                \"Recall\": metrics.recall_score,\n",
    "                \"AUC\": metrics.roc_auc_score, \n",
    "                \"F1-Score\": metrics.f1_score, \n",
    "                \"Brier\": metrics.brier_score_loss}"
   ]
  },
  {
   "cell_type": "markdown",
   "metadata": {},
   "source": [
    "### Logistic Regression - From \"Scratch\""
   ]
  },
  {
   "cell_type": "code",
   "execution_count": 46,
   "metadata": {},
   "outputs": [],
   "source": [
    "# some functions\n",
    "def sigmoid(z):\n",
    "    return 1 / (1 + np.exp(-z))\n",
    "\n",
    "def logistic_prediction(X, theta):\n",
    "    z = np.dot(X, theta)\n",
    "    h = sigmoid(z)\n",
    "    return h\n",
    "\n",
    "def loss(h, y):\n",
    "    h = np.clip(h, 1e-15, 1 - 1e-15) # too close to zero or one\n",
    "    return -(y * np.log(h) + (1 - y) * np.log(1 - h)).mean()"
   ]
  },
  {
   "cell_type": "code",
   "execution_count": 47,
   "metadata": {},
   "outputs": [
    {
     "data": {
      "text/plain": [
       "4.960148729365081"
      ]
     },
     "execution_count": 47,
     "metadata": {},
     "output_type": "execute_result"
    }
   ],
   "source": [
    "# quick test\n",
    "theta = np.random.normal(size=df_model.drop(labels=output_variable, axis=1).shape[1])\n",
    "pred = logistic_prediction(df_model.drop(labels=output_variable, axis=1).values, theta)\n",
    "loss(pred, df_model[output_variable].values)"
   ]
  },
  {
   "cell_type": "code",
   "execution_count": 48,
   "metadata": {},
   "outputs": [
    {
     "name": "stdout",
     "output_type": "stream",
     "text": [
      "fold: 3, iter: 29, loss: 1.2742, grad_norm: 0.6822\r"
     ]
    }
   ],
   "source": [
    "# main loop\n",
    "# pre-instantiation\n",
    "n_vars = df_model.drop(labels=output_variable, axis=1).shape[1] # number of variables\n",
    "step_size = 0.01 # finite difference step-size\n",
    "lr = 0.01 # learning rate -- dictate the speed\n",
    "max_iter = 30 # maximum number of iterations\n",
    "df_metrics = pd.DataFrame(index=[0], columns=[\"Fold\", \"Metric\", \"Train\", \"Test\"])\n",
    "\n",
    "# main loop\n",
    "k, f = 0, 0\n",
    "for (train, test) in k_folds.split(df_model.drop(labels=output_variable, axis=1), df_model[output_variable]):\n",
    "    f += 1\n",
    "    # separate variables and folds\n",
    "    x_train = df_model.drop(labels=output_variable, axis=1).values[train]\n",
    "    x_test = df_model.drop(labels=output_variable, axis=1).values[test]\n",
    "    y_train = df_model[output_variable].values[train]\n",
    "    y_test = df_model[output_variable].values[test]\n",
    "    \n",
    "    # scale variables\n",
    "    #scaler_x = StandardScaler().fit(x_train)\n",
    "    #x_train = np.hstack([np.ones((x_train.shape[0], 1)), scaler_x.transform(x_train)])\n",
    "    #x_test = np.hstack([np.ones((x_test.shape[0], 1)), scaler_x.transform(x_test)])\n",
    "    \n",
    "    # fit model\n",
    "    # initialization\n",
    "    theta = np.random.normal(size=n_vars) # random coefs\n",
    "    pred = logistic_prediction(x_train, theta)\n",
    "    loss_iter = loss(pred, y_train)\n",
    "    print(\"fold: %d, iter: %d, loss: %.4f\" % (f, 0, loss_iter), end=\"\\r\")\n",
    "    \n",
    "    # training\n",
    "    for it in range(1, max_iter):\n",
    "        log_grad = np.zeros(shape=(n_vars,))\n",
    "        # compute numerical gradient - finite differences\n",
    "        for c in range(n_vars):\n",
    "            new_theta = np.copy(theta)\n",
    "            new_theta[c] = new_theta[c] + step_size\n",
    "            new_pred = logistic_prediction(x_train, new_theta)\n",
    "            c_loss = loss(new_pred, y_train)\n",
    "            log_grad[c] = (c_loss - loss_iter)/(step_size) # f'(x) ~ (f(x+e) - f(x-e))/2*e\n",
    "        \n",
    "        # update model\n",
    "        theta = theta - lr * log_grad\n",
    "        \n",
    "        # get current loss\n",
    "        pred = logistic_prediction(x_train, theta)\n",
    "        diff_loss = np.abs(loss_iter - loss(pred, y_train))\n",
    "        loss_iter = loss(pred, y_train)\n",
    "        print(\"fold: %d, iter: %d, loss: %.4f, grad_norm: %.4f\" % (f, it, loss_iter, np.linalg.norm(log_grad)), end=\"\\r\")\n",
    "        if diff_loss < 1e-3:\n",
    "            break\n",
    "    \n",
    "    # compute final predictions\n",
    "    y_train_pred = logistic_prediction(x_train, theta)\n",
    "    y_test_pred = logistic_prediction(x_test, theta)\n",
    "    \n",
    "    # store results\n",
    "    for pf in list(perf_metrics.keys()):\n",
    "        df_metrics.loc[k, \"Fold\"] = f\n",
    "        df_metrics.loc[k, \"Metric\"] = pf\n",
    "        if pf in [\"Accuracy\", \"Precision\", \"Recall\", \"F1-Score\"]: # put a threshold\n",
    "            df_metrics.loc[k, \"Train\"] = perf_metrics[pf](y_train, y_train_pred > 0.5)\n",
    "            df_metrics.loc[k, \"Test\"] = perf_metrics[pf](y_test, y_test_pred > 0.5)\n",
    "        else:\n",
    "            df_metrics.loc[k, \"Train\"] = perf_metrics[pf](y_train, y_train_pred)\n",
    "            df_metrics.loc[k, \"Test\"] = perf_metrics[pf](y_test, y_test_pred)\n",
    "\n",
    "        k += 1\n",
    "        \n",
    "        # if using sklearn: from sklearn.linear_model import Ridge\n",
    "        #ml = LogisticRegression(penalty=\"None\").fit(x_train, y_train)\n",
    "        #y_train_pred = ml.predict(x_train)\n",
    "        #y_test_pred = ml.predict(x_test)\n",
    "\n",
    "# final organization\n",
    "df_metrics = df_metrics.apply(pd.to_numeric, errors=\"ignore\")"
   ]
  },
  {
   "cell_type": "code",
   "execution_count": 49,
   "metadata": {},
   "outputs": [
    {
     "data": {
      "text/html": [
       "<div>\n",
       "<style scoped>\n",
       "    .dataframe tbody tr th:only-of-type {\n",
       "        vertical-align: middle;\n",
       "    }\n",
       "\n",
       "    .dataframe tbody tr th {\n",
       "        vertical-align: top;\n",
       "    }\n",
       "\n",
       "    .dataframe thead th {\n",
       "        text-align: right;\n",
       "    }\n",
       "</style>\n",
       "<table border=\"1\" class=\"dataframe\">\n",
       "  <thead>\n",
       "    <tr style=\"text-align: right;\">\n",
       "      <th></th>\n",
       "      <th>Test</th>\n",
       "      <th>Train</th>\n",
       "    </tr>\n",
       "    <tr>\n",
       "      <th>Metric</th>\n",
       "      <th></th>\n",
       "      <th></th>\n",
       "    </tr>\n",
       "  </thead>\n",
       "  <tbody>\n",
       "    <tr>\n",
       "      <th>AUC</th>\n",
       "      <td>0.420517</td>\n",
       "      <td>0.463256</td>\n",
       "    </tr>\n",
       "    <tr>\n",
       "      <th>Accuracy</th>\n",
       "      <td>0.436017</td>\n",
       "      <td>0.453990</td>\n",
       "    </tr>\n",
       "    <tr>\n",
       "      <th>Brier</th>\n",
       "      <td>0.521990</td>\n",
       "      <td>0.496362</td>\n",
       "    </tr>\n",
       "    <tr>\n",
       "      <th>F1-Score</th>\n",
       "      <td>0.290564</td>\n",
       "      <td>0.313519</td>\n",
       "    </tr>\n",
       "    <tr>\n",
       "      <th>Precision</th>\n",
       "      <td>0.238323</td>\n",
       "      <td>0.270101</td>\n",
       "    </tr>\n",
       "    <tr>\n",
       "      <th>Recall</th>\n",
       "      <td>0.480000</td>\n",
       "      <td>0.496667</td>\n",
       "    </tr>\n",
       "  </tbody>\n",
       "</table>\n",
       "</div>"
      ],
      "text/plain": [
       "               Test     Train\n",
       "Metric                       \n",
       "AUC        0.420517  0.463256\n",
       "Accuracy   0.436017  0.453990\n",
       "Brier      0.521990  0.496362\n",
       "F1-Score   0.290564  0.313519\n",
       "Precision  0.238323  0.270101\n",
       "Recall     0.480000  0.496667"
      ]
     },
     "execution_count": 49,
     "metadata": {},
     "output_type": "execute_result"
    }
   ],
   "source": [
    "df_metrics.pivot_table(index=\"Metric\", values=[\"Train\", \"Test\"])"
   ]
  },
  {
   "cell_type": "markdown",
   "metadata": {},
   "source": [
    "### Sparse Logistic Regression (a.k.a. Ridge Logistic)"
   ]
  },
  {
   "cell_type": "code",
   "execution_count": 50,
   "metadata": {},
   "outputs": [
    {
     "name": "stderr",
     "output_type": "stream",
     "text": [
      "C:\\Users\\Koshiyama\\Anaconda3-64bit\\lib\\site-packages\\sklearn\\metrics\\classification.py:1437: UndefinedMetricWarning: Precision is ill-defined and being set to 0.0 due to no predicted samples.\n",
      "  'precision', 'predicted', average, warn_for)\n",
      "C:\\Users\\Koshiyama\\Anaconda3-64bit\\lib\\site-packages\\sklearn\\metrics\\classification.py:1437: UndefinedMetricWarning: Precision is ill-defined and being set to 0.0 due to no predicted samples.\n",
      "  'precision', 'predicted', average, warn_for)\n",
      "C:\\Users\\Koshiyama\\Anaconda3-64bit\\lib\\site-packages\\sklearn\\metrics\\classification.py:1437: UndefinedMetricWarning: F-score is ill-defined and being set to 0.0 due to no predicted samples.\n",
      "  'precision', 'predicted', average, warn_for)\n",
      "C:\\Users\\Koshiyama\\Anaconda3-64bit\\lib\\site-packages\\sklearn\\metrics\\classification.py:1437: UndefinedMetricWarning: F-score is ill-defined and being set to 0.0 due to no predicted samples.\n",
      "  'precision', 'predicted', average, warn_for)\n"
     ]
    },
    {
     "name": "stdout",
     "output_type": "stream",
     "text": [
      "fold: 1\n"
     ]
    },
    {
     "name": "stderr",
     "output_type": "stream",
     "text": [
      "C:\\Users\\Koshiyama\\Anaconda3-64bit\\lib\\site-packages\\sklearn\\metrics\\classification.py:1437: UndefinedMetricWarning: Precision is ill-defined and being set to 0.0 due to no predicted samples.\n",
      "  'precision', 'predicted', average, warn_for)\n",
      "C:\\Users\\Koshiyama\\Anaconda3-64bit\\lib\\site-packages\\sklearn\\metrics\\classification.py:1437: UndefinedMetricWarning: Precision is ill-defined and being set to 0.0 due to no predicted samples.\n",
      "  'precision', 'predicted', average, warn_for)\n",
      "C:\\Users\\Koshiyama\\Anaconda3-64bit\\lib\\site-packages\\sklearn\\metrics\\classification.py:1437: UndefinedMetricWarning: F-score is ill-defined and being set to 0.0 due to no predicted samples.\n",
      "  'precision', 'predicted', average, warn_for)\n",
      "C:\\Users\\Koshiyama\\Anaconda3-64bit\\lib\\site-packages\\sklearn\\metrics\\classification.py:1437: UndefinedMetricWarning: F-score is ill-defined and being set to 0.0 due to no predicted samples.\n",
      "  'precision', 'predicted', average, warn_for)\n"
     ]
    },
    {
     "name": "stdout",
     "output_type": "stream",
     "text": [
      "fold: 2\n"
     ]
    },
    {
     "name": "stderr",
     "output_type": "stream",
     "text": [
      "C:\\Users\\Koshiyama\\Anaconda3-64bit\\lib\\site-packages\\sklearn\\metrics\\classification.py:1437: UndefinedMetricWarning: Precision is ill-defined and being set to 0.0 due to no predicted samples.\n",
      "  'precision', 'predicted', average, warn_for)\n",
      "C:\\Users\\Koshiyama\\Anaconda3-64bit\\lib\\site-packages\\sklearn\\metrics\\classification.py:1437: UndefinedMetricWarning: Precision is ill-defined and being set to 0.0 due to no predicted samples.\n",
      "  'precision', 'predicted', average, warn_for)\n",
      "C:\\Users\\Koshiyama\\Anaconda3-64bit\\lib\\site-packages\\sklearn\\metrics\\classification.py:1437: UndefinedMetricWarning: F-score is ill-defined and being set to 0.0 due to no predicted samples.\n",
      "  'precision', 'predicted', average, warn_for)\n",
      "C:\\Users\\Koshiyama\\Anaconda3-64bit\\lib\\site-packages\\sklearn\\metrics\\classification.py:1437: UndefinedMetricWarning: F-score is ill-defined and being set to 0.0 due to no predicted samples.\n",
      "  'precision', 'predicted', average, warn_for)\n"
     ]
    },
    {
     "name": "stdout",
     "output_type": "stream",
     "text": [
      "fold: 3\n"
     ]
    }
   ],
   "source": [
    "# pre-instantiation\n",
    "from sklearn.linear_model import LogisticRegression\n",
    "from sklearn.preprocessing import StandardScaler\n",
    "shrink = np.linspace(0.001, 2.0, num=100)\n",
    "df_metrics = pd.DataFrame(index=[0], columns=[\"Fold\", \"Shrinkage\", \"Metric\", \"Train\", \"Test\"])\n",
    "\n",
    "# main loop\n",
    "k, f = 0, 0\n",
    "for (train, test) in k_folds.split(df_model.drop(labels=output_variable, axis=1), df_model[output_variable]):\n",
    "    f += 1\n",
    "    # separate variables and folds\n",
    "    x_train = df_model.drop(labels=output_variable, axis=1).values[train]\n",
    "    x_test = df_model.drop(labels=output_variable, axis=1).values[test]\n",
    "    y_train = df_model[output_variable].values[train]\n",
    "    y_test = df_model[output_variable].values[test]\n",
    "    \n",
    "    # scale  variables\n",
    "    scaler_x = StandardScaler().fit(x_train)\n",
    "    x_train = scaler_x.transform(x_train)\n",
    "    x_test = scaler_x.transform(x_test)\n",
    "    \n",
    "    # fit model\n",
    "    for l in shrink:\n",
    "        # train model\n",
    "        model = LogisticRegression(penalty=\"l2\", C=l, solver=\"lbfgs\").fit(x_train, y_train.ravel())\n",
    "        \n",
    "        # get predictions\n",
    "        y_train_pred = model.predict(x_train)\n",
    "        y_test_pred = model.predict(x_test)\n",
    "        \n",
    "        # compute metrics\n",
    "        for pf in list(perf_metrics.keys()):\n",
    "            df_metrics.loc[k, \"Fold\"] = f\n",
    "            df_metrics.loc[k, \"Metric\"] = pf\n",
    "            df_metrics.loc[k, \"Shrinkage\"] = l\n",
    "            if pf in [\"Accuracy\", \"Precision\", \"Recall\", \"F1-Score\"]: # put a threshold\n",
    "                df_metrics.loc[k, \"Train\"] = perf_metrics[pf](y_train, y_train_pred > 0.5)\n",
    "                df_metrics.loc[k, \"Test\"] = perf_metrics[pf](y_test, y_test_pred > 0.5)\n",
    "            else:\n",
    "                df_metrics.loc[k, \"Train\"] = perf_metrics[pf](y_train, y_train_pred)\n",
    "                df_metrics.loc[k, \"Test\"] = perf_metrics[pf](y_test, y_test_pred)\n",
    "\n",
    "            k += 1\n",
    "    print(\"fold: %d\" % (f))\n",
    "\n",
    "# final organization\n",
    "df_metrics = df_metrics.apply(pd.to_numeric, errors=\"ignore\")"
   ]
  },
  {
   "cell_type": "code",
   "execution_count": 51,
   "metadata": {},
   "outputs": [
    {
     "data": {
      "text/html": [
       "<div>\n",
       "<style scoped>\n",
       "    .dataframe tbody tr th:only-of-type {\n",
       "        vertical-align: middle;\n",
       "    }\n",
       "\n",
       "    .dataframe tbody tr th {\n",
       "        vertical-align: top;\n",
       "    }\n",
       "\n",
       "    .dataframe thead tr th {\n",
       "        text-align: left;\n",
       "    }\n",
       "\n",
       "    .dataframe thead tr:last-of-type th {\n",
       "        text-align: right;\n",
       "    }\n",
       "</style>\n",
       "<table border=\"1\" class=\"dataframe\">\n",
       "  <thead>\n",
       "    <tr>\n",
       "      <th></th>\n",
       "      <th colspan=\"6\" halign=\"left\">Test</th>\n",
       "    </tr>\n",
       "    <tr>\n",
       "      <th>Metric</th>\n",
       "      <th>AUC</th>\n",
       "      <th>Accuracy</th>\n",
       "      <th>Brier</th>\n",
       "      <th>F1-Score</th>\n",
       "      <th>Precision</th>\n",
       "      <th>Recall</th>\n",
       "    </tr>\n",
       "    <tr>\n",
       "      <th>Shrinkage</th>\n",
       "      <th></th>\n",
       "      <th></th>\n",
       "      <th></th>\n",
       "      <th></th>\n",
       "      <th></th>\n",
       "      <th></th>\n",
       "    </tr>\n",
       "  </thead>\n",
       "  <tbody>\n",
       "    <tr>\n",
       "      <th>0.001000</th>\n",
       "      <td>0.500000</td>\n",
       "      <td>0.699999</td>\n",
       "      <td>0.300001</td>\n",
       "      <td>0.000000</td>\n",
       "      <td>0.000000</td>\n",
       "      <td>0.000000</td>\n",
       "    </tr>\n",
       "    <tr>\n",
       "      <th>0.021192</th>\n",
       "      <td>0.656899</td>\n",
       "      <td>0.757006</td>\n",
       "      <td>0.242994</td>\n",
       "      <td>0.499760</td>\n",
       "      <td>0.651295</td>\n",
       "      <td>0.406667</td>\n",
       "    </tr>\n",
       "    <tr>\n",
       "      <th>0.041384</th>\n",
       "      <td>0.663804</td>\n",
       "      <td>0.756005</td>\n",
       "      <td>0.243995</td>\n",
       "      <td>0.513775</td>\n",
       "      <td>0.634921</td>\n",
       "      <td>0.433333</td>\n",
       "    </tr>\n",
       "    <tr>\n",
       "      <th>0.061576</th>\n",
       "      <td>0.663325</td>\n",
       "      <td>0.754000</td>\n",
       "      <td>0.246000</td>\n",
       "      <td>0.513731</td>\n",
       "      <td>0.628125</td>\n",
       "      <td>0.436667</td>\n",
       "    </tr>\n",
       "    <tr>\n",
       "      <th>0.081768</th>\n",
       "      <td>0.661421</td>\n",
       "      <td>0.749999</td>\n",
       "      <td>0.250001</td>\n",
       "      <td>0.511149</td>\n",
       "      <td>0.614515</td>\n",
       "      <td>0.440000</td>\n",
       "    </tr>\n",
       "  </tbody>\n",
       "</table>\n",
       "</div>"
      ],
      "text/plain": [
       "               Test                                                  \n",
       "Metric          AUC  Accuracy     Brier  F1-Score Precision    Recall\n",
       "Shrinkage                                                            \n",
       "0.001000   0.500000  0.699999  0.300001  0.000000  0.000000  0.000000\n",
       "0.021192   0.656899  0.757006  0.242994  0.499760  0.651295  0.406667\n",
       "0.041384   0.663804  0.756005  0.243995  0.513775  0.634921  0.433333\n",
       "0.061576   0.663325  0.754000  0.246000  0.513731  0.628125  0.436667\n",
       "0.081768   0.661421  0.749999  0.250001  0.511149  0.614515  0.440000"
      ]
     },
     "execution_count": 51,
     "metadata": {},
     "output_type": "execute_result"
    }
   ],
   "source": [
    "df_metrics.pivot_table(index=[\"Shrinkage\"], columns=[\"Metric\"], values=[\"Test\"]).head()"
   ]
  },
  {
   "cell_type": "code",
   "execution_count": 52,
   "metadata": {},
   "outputs": [
    {
     "data": {
      "text/plain": [
       "<matplotlib.axes._subplots.AxesSubplot at 0x263d89ff208>"
      ]
     },
     "execution_count": 52,
     "metadata": {},
     "output_type": "execute_result"
    },
    {
     "data": {
      "image/png": "[encoded data removed]",
      "text/plain": [
       "<Figure size 432x288 with 1 Axes>"
      ]
     },
     "metadata": {
      "needs_background": "light"
     },
     "output_type": "display_data"
    }
   ],
   "source": [
    "df_metrics.pivot_table(index=[\"Shrinkage\"], columns=[\"Metric\"], values=[\"Test\"])[\"Test\"][\"Accuracy\"].plot()"
   ]
  }
 ],
 "metadata": {
  "kernelspec": {
   "display_name": "Python 3",
   "language": "python",
   "name": "python3"
  },
  "language_info": {
   "codemirror_mode": {
    "name": "ipython",
    "version": 3
   },
   "file_extension": ".py",
   "mimetype": "text/x-python",
   "name": "python",
   "nbconvert_exporter": "python",
   "pygments_lexer": "ipython3",
   "version": "3.7.7"
  }
 },
 "nbformat": 4,
 "nbformat_minor": 2
}
