{
 "cells": [
  {
   "cell_type": "markdown",
   "metadata": {},
   "source": [
    "### Packages and Auxiliary Functions"
   ]
  },
  {
   "cell_type": "code",
   "execution_count": 1,
   "metadata": {},
   "outputs": [],
   "source": [
    "import pandas as pd\n",
    "import numpy as np\n",
    "import seaborn as sns\n",
    "from matplotlib import pyplot as plt\n",
    "%matplotlib inline"
   ]
  },
  {
   "cell_type": "code",
   "execution_count": 2,
   "metadata": {},
   "outputs": [],
   "source": [
    "def tree_local_explanation(model, input_X, sample_id, labels_y=None):\n",
    "\n",
    "    # The decision estimator has an attribute called tree_  which stores the entire\n",
    "    # tree structure and allows access to low level attributes. The binary tree\n",
    "    # tree_ is represented as a number of parallel arrays. The i-th element of each\n",
    "    # array holds information about the node `i`. Node 0 is the tree's root. NOTE:\n",
    "    # Some of the arrays only apply to either leaves or split nodes, resp. In this\n",
    "    # case the values of nodes of the other type are arbitrary!\n",
    "    #\n",
    "    # Among those arrays, we have:\n",
    "    #   - left_child, id of the left child of the node\n",
    "    #   - right_child, id of the right child of the node\n",
    "    #   - feature, feature used for splitting the node\n",
    "    #   - threshold, threshold value at the node\n",
    "\n",
    "    #n_nodes = # The decision estimator has an attribute called tree_  which stores the entire\n",
    "    # tree structure and allows access to low level attributes. The binary tree\n",
    "    # tree_ is represented as a number of parallel arrays. The i-th element of each\n",
    "    # array holds information about the node `i`. Node 0 is the tree's root. NOTE:\n",
    "    # Some of the arrays only apply to either leaves or split nodes, resp. In this\n",
    "    # case the values of nodes of the other type are arbitrary!\n",
    "    #\n",
    "    # Among those arrays, we have:\n",
    "    #   - left_child, id of the left child of the node\n",
    "    #   - right_child, id of the right child of the node\n",
    "    #   - feature, feature used for splitting the node\n",
    "    #   - threshold, threshold value at the node\n",
    "\n",
    "    n_nodes = model.tree_.node_count\n",
    "    children_left = model.tree_.children_left\n",
    "    children_right = model.tree_.children_right\n",
    "    feature = model.tree_.feature\n",
    "    threshold = model.tree_.threshold\n",
    "\n",
    "    # First let's retrieve the decision path of each sample. The decision_path\n",
    "    # method allows to retrieve the node indicator functions. A non zero element of\n",
    "    # indicator matrix at the position (i, j) indicates that the sample i goes\n",
    "    # through the node j.\n",
    "\n",
    "    node_indicator = model.decision_path(input_X)\n",
    "\n",
    "    # Similarly, we can also have the leaves ids reached by each sample.\n",
    "\n",
    "    leave_id = model.apply(input_X)\n",
    "\n",
    "    # Now, it's possible to get the tests that were used to predict a sample or\n",
    "    # a group of samples. First, let's make it for the sample.\n",
    "\n",
    "    # HERE IS WHAT YOU WANT\n",
    "    node_index = node_indicator.indices[node_indicator.indptr[sample_id]:\n",
    "                                        node_indicator.indptr[sample_id + 1]]\n",
    "\n",
    "    print('Rules used to predict sample %s: ' % sample_id)\n",
    "    for node_id in node_index:\n",
    "\n",
    "        if leave_id[sample_id] == node_id:  # <-- changed != to ==\n",
    "            #continue # <-- comment out\n",
    "            y_pred = (model.predict(X_ub.iloc[sample_id].values.reshape(1, -1)))\n",
    "            print(\"terminal/leaf node %s reached, decision is %s\" % (leave_id[sample_id], \n",
    "                                                                    labels_y[int(y_pred)]) ) # <--\n",
    "\n",
    "        else: # < -- added else to iterate through decision nodes\n",
    "            if (input_X.iloc[sample_id][feature[node_id]] <= threshold[node_id]):\n",
    "                threshold_sign = \"<=\"\n",
    "            else:\n",
    "                threshold_sign = \">\"\n",
    "\n",
    "            print(\"(decision node %s, individual %s has %s = %s) %s %s, goes to\"\n",
    "                  % (node_id,\n",
    "                     sample_id,\n",
    "                     X_ub.columns[node_id],\n",
    "                     input_X.iloc[sample_id][feature[node_id]], # <-- changed i to sample_id\n",
    "                     threshold_sign,\n",
    "                     threshold[node_id]))\n",
    "    print()\n"
   ]
  },
  {
   "cell_type": "markdown",
   "metadata": {},
   "source": [
    "## Import data"
   ]
  },
  {
   "cell_type": "markdown",
   "metadata": {},
   "source": [
    "### Load data from Github Repo"
   ]
  },
  {
   "cell_type": "code",
   "execution_count": 3,
   "metadata": {},
   "outputs": [],
   "source": [
    "df = pd.read_csv(\"https://raw.githubusercontent.com/askoshiyama/code_club/master/mortgage_data_balanced.csv\")"
   ]
  },
  {
   "cell_type": "code",
   "execution_count": 4,
   "metadata": {},
   "outputs": [
    {
     "data": {
      "text/plain": [
       "Index(['Unnamed: 0', 'respondent_id', 'as_of_year', 'agency_abbr',\n",
       "       'loan_type_name', 'loan_amount_000s', 'owner_occupancy_name',\n",
       "       'loan_purpose_name', 'property_type_name', 'preapproval_name',\n",
       "       'msamd_name', 'state_abbr', 'county_name', 'applicant_ethnicity_name',\n",
       "       'co_applicant_ethnicity_name', 'applicant_race_name_1',\n",
       "       'co_applicant_race_name_1', 'applicant_sex_name',\n",
       "       'co_applicant_sex_name', 'applicant_income_000s', 'purchaser_type_name',\n",
       "       'denial_reason_name_1', 'hoepa_status_name', 'lien_status_name',\n",
       "       'population', 'minority_population', 'hud_median_family_income',\n",
       "       'tract_to_msamd_income', 'number_of_owner_occupied_units',\n",
       "       'number_of_1_to_4_family_units', 'action_taken_name'],\n",
       "      dtype='object')"
      ]
     },
     "execution_count": 4,
     "metadata": {},
     "output_type": "execute_result"
    }
   ],
   "source": [
    "df.columns"
   ]
  },
  {
   "cell_type": "markdown",
   "metadata": {},
   "source": [
    "### Initial Organization and Exploration"
   ]
  },
  {
   "cell_type": "code",
   "execution_count": 5,
   "metadata": {},
   "outputs": [],
   "source": [
    "keep_vars = ['respondent_id', 'as_of_year', 'agency_abbr', 'loan_type_name', 'loan_amount_000s', 'owner_occupancy_name',\n",
    "             'loan_purpose_name', 'property_type_name', 'preapproval_name', 'msamd_name', 'state_abbr', 'county_name',\n",
    "             'applicant_ethnicity_name', 'co_applicant_ethnicity_name', 'applicant_race_name_1', 'co_applicant_race_name_1',\n",
    "             'applicant_sex_name', 'co_applicant_sex_name', 'applicant_income_000s', 'purchaser_type_name', \n",
    "             'denial_reason_name_1', 'hoepa_status_name', 'lien_status_name', 'population', 'minority_population',\n",
    "             'hud_median_family_income', 'tract_to_msamd_income', 'number_of_owner_occupied_units', \n",
    "             'number_of_1_to_4_family_units', 'action_taken_name']\n",
    "\n",
    "df = df[keep_vars].copy()"
   ]
  },
  {
   "cell_type": "code",
   "execution_count": 6,
   "metadata": {},
   "outputs": [
    {
     "data": {
      "text/plain": [
       "Loan originated                                2513\n",
       "Application denied by financial institution    2487\n",
       "Name: action_taken_name, dtype: int64"
      ]
     },
     "execution_count": 6,
     "metadata": {},
     "output_type": "execute_result"
    }
   ],
   "source": [
    "df['action_taken_name'].value_counts()"
   ]
  },
  {
   "cell_type": "code",
   "execution_count": 7,
   "metadata": {},
   "outputs": [
    {
     "data": {
      "text/html": [
       "<div>\n",
       "<style scoped>\n",
       "    .dataframe tbody tr th:only-of-type {\n",
       "        vertical-align: middle;\n",
       "    }\n",
       "\n",
       "    .dataframe tbody tr th {\n",
       "        vertical-align: top;\n",
       "    }\n",
       "\n",
       "    .dataframe thead th {\n",
       "        text-align: right;\n",
       "    }\n",
       "</style>\n",
       "<table border=\"1\" class=\"dataframe\">\n",
       "  <thead>\n",
       "    <tr style=\"text-align: right;\">\n",
       "      <th>action_taken_name</th>\n",
       "      <th>Application denied by financial institution</th>\n",
       "      <th>Loan originated</th>\n",
       "    </tr>\n",
       "    <tr>\n",
       "      <th>applicant_ethnicity_name</th>\n",
       "      <th></th>\n",
       "      <th></th>\n",
       "    </tr>\n",
       "  </thead>\n",
       "  <tbody>\n",
       "    <tr>\n",
       "      <th>Hispanic or Latino</th>\n",
       "      <td>4.16</td>\n",
       "      <td>2.50</td>\n",
       "    </tr>\n",
       "    <tr>\n",
       "      <th>Not Hispanic or Latino</th>\n",
       "      <td>45.58</td>\n",
       "      <td>47.76</td>\n",
       "    </tr>\n",
       "  </tbody>\n",
       "</table>\n",
       "</div>"
      ],
      "text/plain": [
       "action_taken_name         Application denied by financial institution  \\\n",
       "applicant_ethnicity_name                                                \n",
       "Hispanic or Latino                                               4.16   \n",
       "Not Hispanic or Latino                                          45.58   \n",
       "\n",
       "action_taken_name         Loan originated  \n",
       "applicant_ethnicity_name                   \n",
       "Hispanic or Latino                   2.50  \n",
       "Not Hispanic or Latino              47.76  "
      ]
     },
     "execution_count": 7,
     "metadata": {},
     "output_type": "execute_result"
    }
   ],
   "source": [
    "pd.crosstab(df[\"applicant_ethnicity_name\"], df[\"action_taken_name\"])/5000 * 100.0"
   ]
  },
  {
   "cell_type": "code",
   "execution_count": 8,
   "metadata": {},
   "outputs": [
    {
     "data": {
      "text/html": [
       "<div>\n",
       "<style scoped>\n",
       "    .dataframe tbody tr th:only-of-type {\n",
       "        vertical-align: middle;\n",
       "    }\n",
       "\n",
       "    .dataframe tbody tr th {\n",
       "        vertical-align: top;\n",
       "    }\n",
       "\n",
       "    .dataframe thead th {\n",
       "        text-align: right;\n",
       "    }\n",
       "</style>\n",
       "<table border=\"1\" class=\"dataframe\">\n",
       "  <thead>\n",
       "    <tr style=\"text-align: right;\">\n",
       "      <th>action_taken_name</th>\n",
       "      <th>Application denied by financial institution</th>\n",
       "      <th>Loan originated</th>\n",
       "    </tr>\n",
       "    <tr>\n",
       "      <th>applicant_race_name_1</th>\n",
       "      <th></th>\n",
       "      <th></th>\n",
       "    </tr>\n",
       "  </thead>\n",
       "  <tbody>\n",
       "    <tr>\n",
       "      <th>American Indian or Alaska Native</th>\n",
       "      <td>0.52</td>\n",
       "      <td>0.18</td>\n",
       "    </tr>\n",
       "    <tr>\n",
       "      <th>Asian</th>\n",
       "      <td>2.66</td>\n",
       "      <td>3.26</td>\n",
       "    </tr>\n",
       "    <tr>\n",
       "      <th>Black or African American</th>\n",
       "      <td>5.68</td>\n",
       "      <td>2.24</td>\n",
       "    </tr>\n",
       "    <tr>\n",
       "      <th>Native Hawaiian or Other Pacific Islander</th>\n",
       "      <td>0.26</td>\n",
       "      <td>0.06</td>\n",
       "    </tr>\n",
       "    <tr>\n",
       "      <th>White</th>\n",
       "      <td>40.62</td>\n",
       "      <td>44.52</td>\n",
       "    </tr>\n",
       "  </tbody>\n",
       "</table>\n",
       "</div>"
      ],
      "text/plain": [
       "action_taken_name                          Application denied by financial institution  \\\n",
       "applicant_race_name_1                                                                    \n",
       "American Indian or Alaska Native                                                  0.52   \n",
       "Asian                                                                             2.66   \n",
       "Black or African American                                                         5.68   \n",
       "Native Hawaiian or Other Pacific Islander                                         0.26   \n",
       "White                                                                            40.62   \n",
       "\n",
       "action_taken_name                          Loan originated  \n",
       "applicant_race_name_1                                       \n",
       "American Indian or Alaska Native                      0.18  \n",
       "Asian                                                 3.26  \n",
       "Black or African American                             2.24  \n",
       "Native Hawaiian or Other Pacific Islander             0.06  \n",
       "White                                                44.52  "
      ]
     },
     "execution_count": 8,
     "metadata": {},
     "output_type": "execute_result"
    }
   ],
   "source": [
    "pd.crosstab(df[\"applicant_race_name_1\"], df[\"action_taken_name\"])/5000 * 100.0"
   ]
  },
  {
   "cell_type": "code",
   "execution_count": 9,
   "metadata": {},
   "outputs": [
    {
     "data": {
      "text/html": [
       "<div>\n",
       "<style scoped>\n",
       "    .dataframe tbody tr th:only-of-type {\n",
       "        vertical-align: middle;\n",
       "    }\n",
       "\n",
       "    .dataframe tbody tr th {\n",
       "        vertical-align: top;\n",
       "    }\n",
       "\n",
       "    .dataframe thead th {\n",
       "        text-align: right;\n",
       "    }\n",
       "</style>\n",
       "<table border=\"1\" class=\"dataframe\">\n",
       "  <thead>\n",
       "    <tr style=\"text-align: right;\">\n",
       "      <th>action_taken_name</th>\n",
       "      <th>Application denied by financial institution</th>\n",
       "      <th>Loan originated</th>\n",
       "    </tr>\n",
       "    <tr>\n",
       "      <th>applicant_sex_name</th>\n",
       "      <th></th>\n",
       "      <th></th>\n",
       "    </tr>\n",
       "  </thead>\n",
       "  <tbody>\n",
       "    <tr>\n",
       "      <th>Female</th>\n",
       "      <td>16.66</td>\n",
       "      <td>13.44</td>\n",
       "    </tr>\n",
       "    <tr>\n",
       "      <th>Male</th>\n",
       "      <td>33.08</td>\n",
       "      <td>36.82</td>\n",
       "    </tr>\n",
       "  </tbody>\n",
       "</table>\n",
       "</div>"
      ],
      "text/plain": [
       "action_taken_name   Application denied by financial institution  \\\n",
       "applicant_sex_name                                                \n",
       "Female                                                    16.66   \n",
       "Male                                                      33.08   \n",
       "\n",
       "action_taken_name   Loan originated  \n",
       "applicant_sex_name                   \n",
       "Female                        13.44  \n",
       "Male                          36.82  "
      ]
     },
     "execution_count": 9,
     "metadata": {},
     "output_type": "execute_result"
    }
   ],
   "source": [
    "pd.crosstab(df[\"applicant_sex_name\"], df[\"action_taken_name\"])/5000 * 100.0"
   ]
  },
  {
   "cell_type": "code",
   "execution_count": 10,
   "metadata": {},
   "outputs": [],
   "source": [
    "# categorical variables\n",
    "cat_variables = cat_variables = ['applicant_ethnicity_name', 'applicant_race_name_1', 'applicant_sex_name', 'agency_abbr',\n",
    "                                 'owner_occupancy_name', 'property_type_name', 'loan_purpose_name', 'loan_type_name']\n",
    "\n",
    "# other integer variables\n",
    "int_variables = ['loan_amount_000s', 'applicant_income_000s', 'population', 'minority_population', \n",
    "                 'hud_median_family_income', 'tract_to_msamd_income', 'number_of_owner_occupied_units', \n",
    "                 'number_of_1_to_4_family_units']\n",
    "\n",
    "# target variable\n",
    "output_variable = ['action_taken_name']\n",
    "\n",
    "### Pre-processing\n",
    "# Mapping categorical variables to one-hot encoding\n",
    "df_cat = pd.DataFrame(index=df.index)\n",
    "\n",
    "# one-hot encoding of categorical variables\n",
    "from sklearn.preprocessing import OneHotEncoder\n",
    "\n",
    "# I will do a loop for pedagogical reasons, but it is not entirely necessary\n",
    "for cat in cat_variables:\n",
    "    # one-hot encoding fitting\n",
    "    one_hot_func = OneHotEncoder().fit(df[[cat]])\n",
    "    \n",
    "    # mapping\n",
    "    cat_mapped = one_hot_func.transform(df[[cat]]).toarray()\n",
    "    \n",
    "    # storing\n",
    "    for (k, cat_label) in enumerate(one_hot_func.categories_[0]):\n",
    "        df_cat[cat + \"_\" + cat_label] = cat_mapped[:, k]\n",
    "\n",
    "# consolidating a final dataset\n",
    "X = pd.concat([df[int_variables], df_cat], axis=1)\n",
    "y = (df[output_variable] == \"Loan originated\").copy()\n",
    "\n",
    "# removing race, ethnicity, sex and minority population from X\n",
    "X_ub = X[[\n",
    "    'loan_amount_000s', 'applicant_income_000s', 'population', 'hud_median_family_income', 'tract_to_msamd_income', \n",
    "    'number_of_owner_occupied_units', 'number_of_1_to_4_family_units', 'agency_abbr_CFPB', 'agency_abbr_FDIC',\n",
    "       'agency_abbr_FRS', 'agency_abbr_HUD', 'agency_abbr_NCUA',\n",
    "       'agency_abbr_OCC', 'owner_occupancy_name_Not applicable',\n",
    "       'owner_occupancy_name_Not owner-occupied as a principal dwelling',\n",
    "       'owner_occupancy_name_Owner-occupied as a principal dwelling',\n",
    "       'property_type_name_Manufactured housing',\n",
    "       'property_type_name_One-to-four family dwelling (other than manufactured housing)',\n",
    "       'loan_purpose_name_Home improvement', 'loan_purpose_name_Home purchase',\n",
    "       'loan_purpose_name_Refinancing', 'loan_type_name_Conventional',\n",
    "       'loan_type_name_FHA-insured', 'loan_type_name_FSA/RHS-guaranteed',\n",
    "       'loan_type_name_VA-guaranteed'\n",
    "]].copy()\n",
    "\n",
    "# protected attributtes\n",
    "X_groups = X[[\n",
    "    'minority_population', 'applicant_ethnicity_name_Hispanic or Latino',\n",
    "       'applicant_ethnicity_name_Not Hispanic or Latino',\n",
    "       'applicant_race_name_1_American Indian or Alaska Native',\n",
    "       'applicant_race_name_1_Asian',\n",
    "       'applicant_race_name_1_Black or African American',\n",
    "       'applicant_race_name_1_Native Hawaiian or Other Pacific Islander',\n",
    "       'applicant_race_name_1_White', 'applicant_sex_name_Female',\n",
    "       'applicant_sex_name_Male'\n",
    "]].copy()\n"
   ]
  },
  {
   "cell_type": "code",
   "execution_count": 11,
   "metadata": {},
   "outputs": [
    {
     "data": {
      "text/html": [
       "<div>\n",
       "<style scoped>\n",
       "    .dataframe tbody tr th:only-of-type {\n",
       "        vertical-align: middle;\n",
       "    }\n",
       "\n",
       "    .dataframe tbody tr th {\n",
       "        vertical-align: top;\n",
       "    }\n",
       "\n",
       "    .dataframe thead th {\n",
       "        text-align: right;\n",
       "    }\n",
       "</style>\n",
       "<table border=\"1\" class=\"dataframe\">\n",
       "  <thead>\n",
       "    <tr style=\"text-align: right;\">\n",
       "      <th></th>\n",
       "      <th>loan_amount_000s</th>\n",
       "      <th>applicant_income_000s</th>\n",
       "      <th>population</th>\n",
       "      <th>hud_median_family_income</th>\n",
       "      <th>tract_to_msamd_income</th>\n",
       "      <th>number_of_owner_occupied_units</th>\n",
       "      <th>number_of_1_to_4_family_units</th>\n",
       "      <th>agency_abbr_CFPB</th>\n",
       "      <th>agency_abbr_FDIC</th>\n",
       "      <th>agency_abbr_FRS</th>\n",
       "      <th>...</th>\n",
       "      <th>owner_occupancy_name_Owner-occupied as a principal dwelling</th>\n",
       "      <th>property_type_name_Manufactured housing</th>\n",
       "      <th>property_type_name_One-to-four family dwelling (other than manufactured housing)</th>\n",
       "      <th>loan_purpose_name_Home improvement</th>\n",
       "      <th>loan_purpose_name_Home purchase</th>\n",
       "      <th>loan_purpose_name_Refinancing</th>\n",
       "      <th>loan_type_name_Conventional</th>\n",
       "      <th>loan_type_name_FHA-insured</th>\n",
       "      <th>loan_type_name_FSA/RHS-guaranteed</th>\n",
       "      <th>loan_type_name_VA-guaranteed</th>\n",
       "    </tr>\n",
       "  </thead>\n",
       "  <tbody>\n",
       "    <tr>\n",
       "      <th>count</th>\n",
       "      <td>5000.00000</td>\n",
       "      <td>5000.000000</td>\n",
       "      <td>5000.000000</td>\n",
       "      <td>5000.000000</td>\n",
       "      <td>5000.000000</td>\n",
       "      <td>5000.000000</td>\n",
       "      <td>5000.000000</td>\n",
       "      <td>5000.000000</td>\n",
       "      <td>5000.00000</td>\n",
       "      <td>5000.00000</td>\n",
       "      <td>...</td>\n",
       "      <td>5000.000000</td>\n",
       "      <td>5000.000000</td>\n",
       "      <td>5000.000000</td>\n",
       "      <td>5000.00000</td>\n",
       "      <td>5000.000000</td>\n",
       "      <td>5000.00000</td>\n",
       "      <td>5000.000000</td>\n",
       "      <td>5000.000000</td>\n",
       "      <td>5000.000000</td>\n",
       "      <td>5000.000000</td>\n",
       "    </tr>\n",
       "    <tr>\n",
       "      <th>mean</th>\n",
       "      <td>188.47100</td>\n",
       "      <td>100.106400</td>\n",
       "      <td>5739.743600</td>\n",
       "      <td>69228.460000</td>\n",
       "      <td>115.593274</td>\n",
       "      <td>1601.492800</td>\n",
       "      <td>2063.751600</td>\n",
       "      <td>0.533400</td>\n",
       "      <td>0.07520</td>\n",
       "      <td>0.02820</td>\n",
       "      <td>...</td>\n",
       "      <td>0.890800</td>\n",
       "      <td>0.030800</td>\n",
       "      <td>0.969200</td>\n",
       "      <td>0.07520</td>\n",
       "      <td>0.289200</td>\n",
       "      <td>0.63560</td>\n",
       "      <td>0.806200</td>\n",
       "      <td>0.146000</td>\n",
       "      <td>0.014800</td>\n",
       "      <td>0.033000</td>\n",
       "    </tr>\n",
       "    <tr>\n",
       "      <th>std</th>\n",
       "      <td>164.32887</td>\n",
       "      <td>112.223575</td>\n",
       "      <td>2936.536592</td>\n",
       "      <td>14070.949447</td>\n",
       "      <td>37.167028</td>\n",
       "      <td>906.289128</td>\n",
       "      <td>1113.332253</td>\n",
       "      <td>0.498933</td>\n",
       "      <td>0.26374</td>\n",
       "      <td>0.16556</td>\n",
       "      <td>...</td>\n",
       "      <td>0.311921</td>\n",
       "      <td>0.172793</td>\n",
       "      <td>0.172793</td>\n",
       "      <td>0.26374</td>\n",
       "      <td>0.453436</td>\n",
       "      <td>0.48131</td>\n",
       "      <td>0.395314</td>\n",
       "      <td>0.353142</td>\n",
       "      <td>0.120764</td>\n",
       "      <td>0.178654</td>\n",
       "    </tr>\n",
       "    <tr>\n",
       "      <th>min</th>\n",
       "      <td>1.00000</td>\n",
       "      <td>1.000000</td>\n",
       "      <td>500.000000</td>\n",
       "      <td>16300.000000</td>\n",
       "      <td>23.190001</td>\n",
       "      <td>19.000000</td>\n",
       "      <td>43.000000</td>\n",
       "      <td>0.000000</td>\n",
       "      <td>0.00000</td>\n",
       "      <td>0.00000</td>\n",
       "      <td>...</td>\n",
       "      <td>0.000000</td>\n",
       "      <td>0.000000</td>\n",
       "      <td>0.000000</td>\n",
       "      <td>0.00000</td>\n",
       "      <td>0.000000</td>\n",
       "      <td>0.00000</td>\n",
       "      <td>0.000000</td>\n",
       "      <td>0.000000</td>\n",
       "      <td>0.000000</td>\n",
       "      <td>0.000000</td>\n",
       "    </tr>\n",
       "    <tr>\n",
       "      <th>25%</th>\n",
       "      <td>86.00000</td>\n",
       "      <td>45.000000</td>\n",
       "      <td>3788.750000</td>\n",
       "      <td>60000.000000</td>\n",
       "      <td>91.677500</td>\n",
       "      <td>1021.000000</td>\n",
       "      <td>1346.750000</td>\n",
       "      <td>0.000000</td>\n",
       "      <td>0.00000</td>\n",
       "      <td>0.00000</td>\n",
       "      <td>...</td>\n",
       "      <td>1.000000</td>\n",
       "      <td>0.000000</td>\n",
       "      <td>1.000000</td>\n",
       "      <td>0.00000</td>\n",
       "      <td>0.000000</td>\n",
       "      <td>0.00000</td>\n",
       "      <td>1.000000</td>\n",
       "      <td>0.000000</td>\n",
       "      <td>0.000000</td>\n",
       "      <td>0.000000</td>\n",
       "    </tr>\n",
       "    <tr>\n",
       "      <th>50%</th>\n",
       "      <td>149.00000</td>\n",
       "      <td>73.000000</td>\n",
       "      <td>5197.500000</td>\n",
       "      <td>66600.000000</td>\n",
       "      <td>109.535000</td>\n",
       "      <td>1443.000000</td>\n",
       "      <td>1847.000000</td>\n",
       "      <td>1.000000</td>\n",
       "      <td>0.00000</td>\n",
       "      <td>0.00000</td>\n",
       "      <td>...</td>\n",
       "      <td>1.000000</td>\n",
       "      <td>0.000000</td>\n",
       "      <td>1.000000</td>\n",
       "      <td>0.00000</td>\n",
       "      <td>0.000000</td>\n",
       "      <td>1.00000</td>\n",
       "      <td>1.000000</td>\n",
       "      <td>0.000000</td>\n",
       "      <td>0.000000</td>\n",
       "      <td>0.000000</td>\n",
       "    </tr>\n",
       "    <tr>\n",
       "      <th>75%</th>\n",
       "      <td>247.00000</td>\n",
       "      <td>119.000000</td>\n",
       "      <td>6955.000000</td>\n",
       "      <td>76700.000000</td>\n",
       "      <td>132.440002</td>\n",
       "      <td>1967.750000</td>\n",
       "      <td>2484.000000</td>\n",
       "      <td>1.000000</td>\n",
       "      <td>0.00000</td>\n",
       "      <td>0.00000</td>\n",
       "      <td>...</td>\n",
       "      <td>1.000000</td>\n",
       "      <td>0.000000</td>\n",
       "      <td>1.000000</td>\n",
       "      <td>0.00000</td>\n",
       "      <td>1.000000</td>\n",
       "      <td>1.00000</td>\n",
       "      <td>1.000000</td>\n",
       "      <td>0.000000</td>\n",
       "      <td>0.000000</td>\n",
       "      <td>0.000000</td>\n",
       "    </tr>\n",
       "    <tr>\n",
       "      <th>max</th>\n",
       "      <td>2500.00000</td>\n",
       "      <td>2000.000000</td>\n",
       "      <td>34055.000000</td>\n",
       "      <td>111900.000000</td>\n",
       "      <td>390.839996</td>\n",
       "      <td>9880.000000</td>\n",
       "      <td>10724.000000</td>\n",
       "      <td>1.000000</td>\n",
       "      <td>1.00000</td>\n",
       "      <td>1.00000</td>\n",
       "      <td>...</td>\n",
       "      <td>1.000000</td>\n",
       "      <td>1.000000</td>\n",
       "      <td>1.000000</td>\n",
       "      <td>1.00000</td>\n",
       "      <td>1.000000</td>\n",
       "      <td>1.00000</td>\n",
       "      <td>1.000000</td>\n",
       "      <td>1.000000</td>\n",
       "      <td>1.000000</td>\n",
       "      <td>1.000000</td>\n",
       "    </tr>\n",
       "  </tbody>\n",
       "</table>\n",
       "<p>8 rows × 25 columns</p>\n",
       "</div>"
      ],
      "text/plain": [
       "       loan_amount_000s  applicant_income_000s    population  \\\n",
       "count        5000.00000            5000.000000   5000.000000   \n",
       "mean          188.47100             100.106400   5739.743600   \n",
       "std           164.32887             112.223575   2936.536592   \n",
       "min             1.00000               1.000000    500.000000   \n",
       "25%            86.00000              45.000000   3788.750000   \n",
       "50%           149.00000              73.000000   5197.500000   \n",
       "75%           247.00000             119.000000   6955.000000   \n",
       "max          2500.00000            2000.000000  34055.000000   \n",
       "\n",
       "       hud_median_family_income  tract_to_msamd_income  \\\n",
       "count               5000.000000            5000.000000   \n",
       "mean               69228.460000             115.593274   \n",
       "std                14070.949447              37.167028   \n",
       "min                16300.000000              23.190001   \n",
       "25%                60000.000000              91.677500   \n",
       "50%                66600.000000             109.535000   \n",
       "75%                76700.000000             132.440002   \n",
       "max               111900.000000             390.839996   \n",
       "\n",
       "       number_of_owner_occupied_units  number_of_1_to_4_family_units  \\\n",
       "count                     5000.000000                    5000.000000   \n",
       "mean                      1601.492800                    2063.751600   \n",
       "std                        906.289128                    1113.332253   \n",
       "min                         19.000000                      43.000000   \n",
       "25%                       1021.000000                    1346.750000   \n",
       "50%                       1443.000000                    1847.000000   \n",
       "75%                       1967.750000                    2484.000000   \n",
       "max                       9880.000000                   10724.000000   \n",
       "\n",
       "       agency_abbr_CFPB  agency_abbr_FDIC  agency_abbr_FRS  ...  \\\n",
       "count       5000.000000        5000.00000       5000.00000  ...   \n",
       "mean           0.533400           0.07520          0.02820  ...   \n",
       "std            0.498933           0.26374          0.16556  ...   \n",
       "min            0.000000           0.00000          0.00000  ...   \n",
       "25%            0.000000           0.00000          0.00000  ...   \n",
       "50%            1.000000           0.00000          0.00000  ...   \n",
       "75%            1.000000           0.00000          0.00000  ...   \n",
       "max            1.000000           1.00000          1.00000  ...   \n",
       "\n",
       "       owner_occupancy_name_Owner-occupied as a principal dwelling  \\\n",
       "count                                        5000.000000             \n",
       "mean                                            0.890800             \n",
       "std                                             0.311921             \n",
       "min                                             0.000000             \n",
       "25%                                             1.000000             \n",
       "50%                                             1.000000             \n",
       "75%                                             1.000000             \n",
       "max                                             1.000000             \n",
       "\n",
       "       property_type_name_Manufactured housing  \\\n",
       "count                              5000.000000   \n",
       "mean                                  0.030800   \n",
       "std                                   0.172793   \n",
       "min                                   0.000000   \n",
       "25%                                   0.000000   \n",
       "50%                                   0.000000   \n",
       "75%                                   0.000000   \n",
       "max                                   1.000000   \n",
       "\n",
       "       property_type_name_One-to-four family dwelling (other than manufactured housing)  \\\n",
       "count                                        5000.000000                                  \n",
       "mean                                            0.969200                                  \n",
       "std                                             0.172793                                  \n",
       "min                                             0.000000                                  \n",
       "25%                                             1.000000                                  \n",
       "50%                                             1.000000                                  \n",
       "75%                                             1.000000                                  \n",
       "max                                             1.000000                                  \n",
       "\n",
       "       loan_purpose_name_Home improvement  loan_purpose_name_Home purchase  \\\n",
       "count                          5000.00000                      5000.000000   \n",
       "mean                              0.07520                         0.289200   \n",
       "std                               0.26374                         0.453436   \n",
       "min                               0.00000                         0.000000   \n",
       "25%                               0.00000                         0.000000   \n",
       "50%                               0.00000                         0.000000   \n",
       "75%                               0.00000                         1.000000   \n",
       "max                               1.00000                         1.000000   \n",
       "\n",
       "       loan_purpose_name_Refinancing  loan_type_name_Conventional  \\\n",
       "count                     5000.00000                  5000.000000   \n",
       "mean                         0.63560                     0.806200   \n",
       "std                          0.48131                     0.395314   \n",
       "min                          0.00000                     0.000000   \n",
       "25%                          0.00000                     1.000000   \n",
       "50%                          1.00000                     1.000000   \n",
       "75%                          1.00000                     1.000000   \n",
       "max                          1.00000                     1.000000   \n",
       "\n",
       "       loan_type_name_FHA-insured  loan_type_name_FSA/RHS-guaranteed  \\\n",
       "count                 5000.000000                        5000.000000   \n",
       "mean                     0.146000                           0.014800   \n",
       "std                      0.353142                           0.120764   \n",
       "min                      0.000000                           0.000000   \n",
       "25%                      0.000000                           0.000000   \n",
       "50%                      0.000000                           0.000000   \n",
       "75%                      0.000000                           0.000000   \n",
       "max                      1.000000                           1.000000   \n",
       "\n",
       "       loan_type_name_VA-guaranteed  \n",
       "count                   5000.000000  \n",
       "mean                       0.033000  \n",
       "std                        0.178654  \n",
       "min                        0.000000  \n",
       "25%                        0.000000  \n",
       "50%                        0.000000  \n",
       "75%                        0.000000  \n",
       "max                        1.000000  \n",
       "\n",
       "[8 rows x 25 columns]"
      ]
     },
     "execution_count": 11,
     "metadata": {},
     "output_type": "execute_result"
    }
   ],
   "source": [
    "X_ub.describe()"
   ]
  },
  {
   "cell_type": "code",
   "execution_count": 12,
   "metadata": {},
   "outputs": [
    {
     "data": {
      "text/html": [
       "<div>\n",
       "<style scoped>\n",
       "    .dataframe tbody tr th:only-of-type {\n",
       "        vertical-align: middle;\n",
       "    }\n",
       "\n",
       "    .dataframe tbody tr th {\n",
       "        vertical-align: top;\n",
       "    }\n",
       "\n",
       "    .dataframe thead th {\n",
       "        text-align: right;\n",
       "    }\n",
       "</style>\n",
       "<table border=\"1\" class=\"dataframe\">\n",
       "  <thead>\n",
       "    <tr style=\"text-align: right;\">\n",
       "      <th></th>\n",
       "      <th>action_taken_name</th>\n",
       "    </tr>\n",
       "  </thead>\n",
       "  <tbody>\n",
       "    <tr>\n",
       "      <th>count</th>\n",
       "      <td>5000</td>\n",
       "    </tr>\n",
       "    <tr>\n",
       "      <th>unique</th>\n",
       "      <td>2</td>\n",
       "    </tr>\n",
       "    <tr>\n",
       "      <th>top</th>\n",
       "      <td>True</td>\n",
       "    </tr>\n",
       "    <tr>\n",
       "      <th>freq</th>\n",
       "      <td>2513</td>\n",
       "    </tr>\n",
       "  </tbody>\n",
       "</table>\n",
       "</div>"
      ],
      "text/plain": [
       "       action_taken_name\n",
       "count               5000\n",
       "unique                 2\n",
       "top                 True\n",
       "freq                2513"
      ]
     },
     "execution_count": 12,
     "metadata": {},
     "output_type": "execute_result"
    }
   ],
   "source": [
    "y.describe()"
   ]
  },
  {
   "cell_type": "markdown",
   "metadata": {},
   "source": [
    "# Model-specific Explanations"
   ]
  },
  {
   "cell_type": "markdown",
   "metadata": {},
   "source": [
    "## Decision-trees (https://scikit-learn.org/stable/modules/tree.html#tree)"
   ]
  },
  {
   "cell_type": "markdown",
   "metadata": {},
   "source": [
    "#### Set model"
   ]
  },
  {
   "cell_type": "code",
   "execution_count": 13,
   "metadata": {},
   "outputs": [],
   "source": [
    "# fit and cross-validate model\n",
    "from sklearn.tree import DecisionTreeClassifier\n",
    "from sklearn import metrics\n",
    "from sklearn.model_selection import StratifiedKFold\n",
    "\n",
    "## classification tree\n",
    "model = DecisionTreeClassifier(max_depth=5, criterion=\"gini\", class_weight=\"balanced\")\n",
    "\n",
    "## performance metrics\n",
    "perf_metrics = {\"Accuracy\": metrics.accuracy_score, \n",
    "                \"Precision\": metrics.precision_score, \n",
    "                \"Recall\": metrics.recall_score,\n",
    "                \"AUC\": metrics.roc_auc_score, \n",
    "                \"F1-Score\": metrics.f1_score, \n",
    "                \"Brier\": metrics.brier_score_loss\n",
    "               } # https://scikit-learn.org/stable/modules/model_evaluation.html#classification-metrics\n",
    "\n",
    "## 10-fold cv\n",
    "k_folds = StratifiedKFold(n_splits=10, random_state=10, shuffle=True) # https://scikit-learn.org/stable/modules/cross_validation.html"
   ]
  },
  {
   "cell_type": "markdown",
   "metadata": {},
   "source": [
    "#### Fit and Validate"
   ]
  },
  {
   "cell_type": "code",
   "execution_count": 14,
   "metadata": {},
   "outputs": [],
   "source": [
    "df_metrics = pd.DataFrame(index=range(10), columns=perf_metrics.keys())\n",
    "\n",
    "# main loop\n",
    "k = 0\n",
    "for (train, test) in k_folds.split(X_ub, y):\n",
    "    # fit model\n",
    "    model.fit(X_ub.values[train], y.values[train])\n",
    "       \n",
    "    # test model\n",
    "    ypred_class = model.predict(X_ub.values[test])\n",
    "    ypred_prob = model.predict_proba(X_ub.values[test])[:, 1]\n",
    "\n",
    "    # compute performance metrics\n",
    "    for pf in perf_metrics.keys():\n",
    "        if pf in [\"AUC\", \"Brier\"]:\n",
    "            df_metrics.loc[k, pf] = perf_metrics[pf](y.values[test], ypred_prob)\n",
    "        else:\n",
    "            df_metrics.loc[k, pf] = perf_metrics[pf](y.values[test], ypred_class)\n",
    "    k += 1"
   ]
  },
  {
   "cell_type": "markdown",
   "metadata": {},
   "source": [
    "#### Performance metrics"
   ]
  },
  {
   "cell_type": "code",
   "execution_count": 15,
   "metadata": {},
   "outputs": [
    {
     "data": {
      "text/html": [
       "<div>\n",
       "<style scoped>\n",
       "    .dataframe tbody tr th:only-of-type {\n",
       "        vertical-align: middle;\n",
       "    }\n",
       "\n",
       "    .dataframe tbody tr th {\n",
       "        vertical-align: top;\n",
       "    }\n",
       "\n",
       "    .dataframe thead th {\n",
       "        text-align: right;\n",
       "    }\n",
       "</style>\n",
       "<table border=\"1\" class=\"dataframe\">\n",
       "  <thead>\n",
       "    <tr style=\"text-align: right;\">\n",
       "      <th></th>\n",
       "      <th>Accuracy</th>\n",
       "      <th>Precision</th>\n",
       "      <th>Recall</th>\n",
       "      <th>AUC</th>\n",
       "      <th>F1-Score</th>\n",
       "      <th>Brier</th>\n",
       "    </tr>\n",
       "  </thead>\n",
       "  <tbody>\n",
       "    <tr>\n",
       "      <th>0</th>\n",
       "      <td>0.664</td>\n",
       "      <td>0.641892</td>\n",
       "      <td>0.753968</td>\n",
       "      <td>0.700845</td>\n",
       "      <td>0.693431</td>\n",
       "      <td>0.221092</td>\n",
       "    </tr>\n",
       "    <tr>\n",
       "      <th>1</th>\n",
       "      <td>0.61</td>\n",
       "      <td>0.622318</td>\n",
       "      <td>0.575397</td>\n",
       "      <td>0.6833</td>\n",
       "      <td>0.597938</td>\n",
       "      <td>0.223032</td>\n",
       "    </tr>\n",
       "    <tr>\n",
       "      <th>2</th>\n",
       "      <td>0.628</td>\n",
       "      <td>0.606452</td>\n",
       "      <td>0.746032</td>\n",
       "      <td>0.659546</td>\n",
       "      <td>0.669039</td>\n",
       "      <td>0.229904</td>\n",
       "    </tr>\n",
       "    <tr>\n",
       "      <th>3</th>\n",
       "      <td>0.604</td>\n",
       "      <td>0.58104</td>\n",
       "      <td>0.756972</td>\n",
       "      <td>0.668851</td>\n",
       "      <td>0.657439</td>\n",
       "      <td>0.23063</td>\n",
       "    </tr>\n",
       "    <tr>\n",
       "      <th>4</th>\n",
       "      <td>0.582</td>\n",
       "      <td>0.585366</td>\n",
       "      <td>0.573705</td>\n",
       "      <td>0.644706</td>\n",
       "      <td>0.579477</td>\n",
       "      <td>0.234792</td>\n",
       "    </tr>\n",
       "    <tr>\n",
       "      <th>5</th>\n",
       "      <td>0.602</td>\n",
       "      <td>0.602362</td>\n",
       "      <td>0.609562</td>\n",
       "      <td>0.641786</td>\n",
       "      <td>0.605941</td>\n",
       "      <td>0.239515</td>\n",
       "    </tr>\n",
       "    <tr>\n",
       "      <th>6</th>\n",
       "      <td>0.602</td>\n",
       "      <td>0.592857</td>\n",
       "      <td>0.661355</td>\n",
       "      <td>0.649146</td>\n",
       "      <td>0.625235</td>\n",
       "      <td>0.23581</td>\n",
       "    </tr>\n",
       "    <tr>\n",
       "      <th>7</th>\n",
       "      <td>0.614</td>\n",
       "      <td>0.621849</td>\n",
       "      <td>0.589641</td>\n",
       "      <td>0.672723</td>\n",
       "      <td>0.605317</td>\n",
       "      <td>0.227067</td>\n",
       "    </tr>\n",
       "    <tr>\n",
       "      <th>8</th>\n",
       "      <td>0.578</td>\n",
       "      <td>0.568027</td>\n",
       "      <td>0.665339</td>\n",
       "      <td>0.623954</td>\n",
       "      <td>0.612844</td>\n",
       "      <td>0.241415</td>\n",
       "    </tr>\n",
       "    <tr>\n",
       "      <th>9</th>\n",
       "      <td>0.634</td>\n",
       "      <td>0.621429</td>\n",
       "      <td>0.693227</td>\n",
       "      <td>0.687203</td>\n",
       "      <td>0.655367</td>\n",
       "      <td>0.222125</td>\n",
       "    </tr>\n",
       "  </tbody>\n",
       "</table>\n",
       "</div>"
      ],
      "text/plain": [
       "  Accuracy Precision    Recall       AUC  F1-Score     Brier\n",
       "0    0.664  0.641892  0.753968  0.700845  0.693431  0.221092\n",
       "1     0.61  0.622318  0.575397    0.6833  0.597938  0.223032\n",
       "2    0.628  0.606452  0.746032  0.659546  0.669039  0.229904\n",
       "3    0.604   0.58104  0.756972  0.668851  0.657439   0.23063\n",
       "4    0.582  0.585366  0.573705  0.644706  0.579477  0.234792\n",
       "5    0.602  0.602362  0.609562  0.641786  0.605941  0.239515\n",
       "6    0.602  0.592857  0.661355  0.649146  0.625235   0.23581\n",
       "7    0.614  0.621849  0.589641  0.672723  0.605317  0.227067\n",
       "8    0.578  0.568027  0.665339  0.623954  0.612844  0.241415\n",
       "9    0.634  0.621429  0.693227  0.687203  0.655367  0.222125"
      ]
     },
     "execution_count": 15,
     "metadata": {},
     "output_type": "execute_result"
    }
   ],
   "source": [
    "df_metrics"
   ]
  },
  {
   "cell_type": "code",
   "execution_count": 16,
   "metadata": {},
   "outputs": [
    {
     "data": {
      "text/plain": [
       "Accuracy     0.611800\n",
       "Precision    0.604359\n",
       "Recall       0.662520\n",
       "AUC          0.663206\n",
       "F1-Score     0.630203\n",
       "Brier        0.230538\n",
       "dtype: float64"
      ]
     },
     "execution_count": 16,
     "metadata": {},
     "output_type": "execute_result"
    }
   ],
   "source": [
    "df_metrics.mean()"
   ]
  },
  {
   "cell_type": "code",
   "execution_count": 17,
   "metadata": {},
   "outputs": [
    {
     "data": {
      "text/plain": [
       "Accuracy     0.611800\n",
       "Precision    0.604359\n",
       "Recall       0.662520\n",
       "AUC          0.663206\n",
       "F1-Score     0.630203\n",
       "Brier        0.230538\n",
       "dtype: float64"
      ]
     },
     "execution_count": 17,
     "metadata": {},
     "output_type": "execute_result"
    }
   ],
   "source": [
    "df_metrics.mean()"
   ]
  },
  {
   "cell_type": "markdown",
   "metadata": {},
   "source": [
    "### Global Explanations"
   ]
  },
  {
   "cell_type": "code",
   "execution_count": 18,
   "metadata": {},
   "outputs": [],
   "source": [
    "from sklearn.tree import export_graphviz\n",
    "export_graphviz(model, out_file=\"class_tree.dot\", feature_names=X_ub.columns, \n",
    "                class_names = [\"Denied\", \"Originated\"], rounded = True)"
   ]
  },
  {
   "cell_type": "markdown",
   "metadata": {},
   "source": [
    "#### go to http://webgraphviz.com/ and paste class_tree.dot text"
   ]
  },
  {
   "cell_type": "code",
   "execution_count": 19,
   "metadata": {},
   "outputs": [
    {
     "name": "stderr",
     "output_type": "stream",
     "text": [
      "C:\\Users\\Koshiyama\\Anaconda3-64bit\\envs\\mli5\\lib\\site-packages\\seaborn\\distributions.py:1678: UserWarning: `shade_lowest` is now deprecated in favor of `thresh`. Setting `thresh=0.05`, but please update your code.\n",
      "  warnings.warn(msg, UserWarning)\n",
      "C:\\Users\\Koshiyama\\Anaconda3-64bit\\envs\\mli5\\lib\\site-packages\\seaborn\\distributions.py:1678: UserWarning: `shade_lowest` is now deprecated in favor of `thresh`. Setting `thresh=0.05`, but please update your code.\n",
      "  warnings.warn(msg, UserWarning)\n"
     ]
    },
    {
     "data": {
      "text/plain": [
       "Text(0.5, 0, 'Income 000s')"
      ]
     },
     "execution_count": 19,
     "metadata": {},
     "output_type": "execute_result"
    },
    {
     "data": {
      "image/png": "[encoded data removed]",
      "text/plain": [
       "<Figure size 432x288 with 1 Axes>"
      ]
     },
     "metadata": {
      "needs_background": "light"
     },
     "output_type": "display_data"
    }
   ],
   "source": [
    "denied_income = X.loc[((y.values == 0) & \n",
    "                            (X[\"applicant_income_000s\"].values.reshape(-1, 1) <= 63.5)).reshape(1, -1)[0], \n",
    "                           'applicant_income_000s']\n",
    "originated_income = X.loc[((y.values == 1) & \n",
    "                          (X[\"applicant_income_000s\"].values.reshape(-1, 1) <= 63.5)).reshape(1, -1)[0], \n",
    "                         'applicant_income_000s']\n",
    "ax = sns.kdeplot(denied_income, shade=True, shade_lowest=False, label=\"Denied\")\n",
    "ax = sns.kdeplot(originated_income, shade=True, shade_lowest=False, label=\"Originated\")\n",
    "ax.set_xlabel(\"Income 000s\")"
   ]
  },
  {
   "cell_type": "markdown",
   "metadata": {},
   "source": [
    "### Local Explanations"
   ]
  },
  {
   "cell_type": "code",
   "execution_count": 20,
   "metadata": {},
   "outputs": [
    {
     "name": "stdout",
     "output_type": "stream",
     "text": [
      "Rules used to predict sample 10: \n",
      "(decision node 0, individual 10 has loan_amount_000s = 22.0) <= 63.5, goes to\n",
      "(decision node 1, individual 10 has applicant_income_000s = 3.0) <= 38.5, goes to\n",
      "(decision node 2, individual 10 has population = 1.0) > 0.5, goes to\n",
      "(decision node 10, individual 10 has agency_abbr_HUD = 3245.0) > 180.5, goes to\n",
      "(decision node 12, individual 10 has agency_abbr_OCC = 115.69000244140624) > 39.560001373291016, goes to\n",
      "terminal/leaf node 14 reached, decision is Loan rejected\n",
      "\n"
     ]
    }
   ],
   "source": [
    "tree_local_explanation(model, X_ub, 10, labels_y=[\"Loan rejected\", \"Loan originated\"])"
   ]
  },
  {
   "cell_type": "markdown",
   "metadata": {},
   "source": [
    "# Model-agnostic"
   ]
  },
  {
   "cell_type": "markdown",
   "metadata": {},
   "source": [
    "## Feed Forward Neural Network (https://scikit-learn.org/stable/modules/neural_networks_supervised.html)"
   ]
  },
  {
   "cell_type": "markdown",
   "metadata": {},
   "source": [
    "#### Set model"
   ]
  },
  {
   "cell_type": "code",
   "execution_count": 21,
   "metadata": {},
   "outputs": [],
   "source": [
    "# fit and cross-validate model\n",
    "from sklearn.neural_network import MLPClassifier\n",
    "from sklearn.preprocessing import StandardScaler # https://scikit-learn.org/stable/modules/preprocessing.html#standardization-or-mean-removal-and-variance-scaling\n",
    "from sklearn import metrics\n",
    "from sklearn.model_selection import StratifiedKFold\n",
    "from sklearn.pipeline import Pipeline\n",
    "\n",
    "## neural net\n",
    "model = Pipeline( (\n",
    "        (\"pre\", StandardScaler()),\n",
    "        (\"nn\", MLPClassifier(hidden_layer_sizes=(50, 50, ), \n",
    "                             activation='relu', solver=\"lbfgs\", random_state=10))\n",
    ") ) # https://scikit-learn.org/stable/modules/compose.html#pipeline-chaining-estimators\n",
    "\n",
    "\n",
    "## performance metrics\n",
    "perf_metrics = {\"Accuracy\": metrics.accuracy_score, \n",
    "                \"Precision\": metrics.precision_score, \n",
    "                \"Recall\": metrics.recall_score,\n",
    "                \"AUC\": metrics.roc_auc_score, \n",
    "                \"F1-Score\": metrics.f1_score, \n",
    "                \"Brier\": metrics.brier_score_loss\n",
    "               }\n",
    "\n",
    "## 10-fold cv\n",
    "k_folds = StratifiedKFold(n_splits=10, random_state=10, shuffle=True)"
   ]
  },
  {
   "cell_type": "markdown",
   "metadata": {},
   "source": [
    "#### Fit and validate"
   ]
  },
  {
   "cell_type": "code",
   "execution_count": 22,
   "metadata": {},
   "outputs": [
    {
     "name": "stderr",
     "output_type": "stream",
     "text": [
      "C:\\Users\\Koshiyama\\Anaconda3-64bit\\envs\\mli5\\lib\\site-packages\\sklearn\\utils\\validation.py:72: DataConversionWarning: A column-vector y was passed when a 1d array was expected. Please change the shape of y to (n_samples, ), for example using ravel().\n",
      "  return f(**kwargs)\n",
      "C:\\Users\\Koshiyama\\Anaconda3-64bit\\envs\\mli5\\lib\\site-packages\\sklearn\\neural_network\\_multilayer_perceptron.py:471: ConvergenceWarning: lbfgs failed to converge (status=1):\n",
      "STOP: TOTAL NO. of ITERATIONS REACHED LIMIT.\n",
      "\n",
      "Increase the number of iterations (max_iter) or scale the data as shown in:\n",
      "    https://scikit-learn.org/stable/modules/preprocessing.html\n",
      "  self.n_iter_ = _check_optimize_result(\"lbfgs\", opt_res, self.max_iter)\n",
      "C:\\Users\\Koshiyama\\Anaconda3-64bit\\envs\\mli5\\lib\\site-packages\\sklearn\\utils\\validation.py:72: DataConversionWarning: A column-vector y was passed when a 1d array was expected. Please change the shape of y to (n_samples, ), for example using ravel().\n",
      "  return f(**kwargs)\n",
      "C:\\Users\\Koshiyama\\Anaconda3-64bit\\envs\\mli5\\lib\\site-packages\\sklearn\\neural_network\\_multilayer_perceptron.py:471: ConvergenceWarning: lbfgs failed to converge (status=1):\n",
      "STOP: TOTAL NO. of ITERATIONS REACHED LIMIT.\n",
      "\n",
      "Increase the number of iterations (max_iter) or scale the data as shown in:\n",
      "    https://scikit-learn.org/stable/modules/preprocessing.html\n",
      "  self.n_iter_ = _check_optimize_result(\"lbfgs\", opt_res, self.max_iter)\n",
      "C:\\Users\\Koshiyama\\Anaconda3-64bit\\envs\\mli5\\lib\\site-packages\\sklearn\\utils\\validation.py:72: DataConversionWarning: A column-vector y was passed when a 1d array was expected. Please change the shape of y to (n_samples, ), for example using ravel().\n",
      "  return f(**kwargs)\n",
      "C:\\Users\\Koshiyama\\Anaconda3-64bit\\envs\\mli5\\lib\\site-packages\\sklearn\\neural_network\\_multilayer_perceptron.py:471: ConvergenceWarning: lbfgs failed to converge (status=1):\n",
      "STOP: TOTAL NO. of ITERATIONS REACHED LIMIT.\n",
      "\n",
      "Increase the number of iterations (max_iter) or scale the data as shown in:\n",
      "    https://scikit-learn.org/stable/modules/preprocessing.html\n",
      "  self.n_iter_ = _check_optimize_result(\"lbfgs\", opt_res, self.max_iter)\n",
      "C:\\Users\\Koshiyama\\Anaconda3-64bit\\envs\\mli5\\lib\\site-packages\\sklearn\\utils\\validation.py:72: DataConversionWarning: A column-vector y was passed when a 1d array was expected. Please change the shape of y to (n_samples, ), for example using ravel().\n",
      "  return f(**kwargs)\n",
      "C:\\Users\\Koshiyama\\Anaconda3-64bit\\envs\\mli5\\lib\\site-packages\\sklearn\\neural_network\\_multilayer_perceptron.py:471: ConvergenceWarning: lbfgs failed to converge (status=1):\n",
      "STOP: TOTAL NO. of ITERATIONS REACHED LIMIT.\n",
      "\n",
      "Increase the number of iterations (max_iter) or scale the data as shown in:\n",
      "    https://scikit-learn.org/stable/modules/preprocessing.html\n",
      "  self.n_iter_ = _check_optimize_result(\"lbfgs\", opt_res, self.max_iter)\n",
      "C:\\Users\\Koshiyama\\Anaconda3-64bit\\envs\\mli5\\lib\\site-packages\\sklearn\\utils\\validation.py:72: DataConversionWarning: A column-vector y was passed when a 1d array was expected. Please change the shape of y to (n_samples, ), for example using ravel().\n",
      "  return f(**kwargs)\n",
      "C:\\Users\\Koshiyama\\Anaconda3-64bit\\envs\\mli5\\lib\\site-packages\\sklearn\\neural_network\\_multilayer_perceptron.py:471: ConvergenceWarning: lbfgs failed to converge (status=1):\n",
      "STOP: TOTAL NO. of ITERATIONS REACHED LIMIT.\n",
      "\n",
      "Increase the number of iterations (max_iter) or scale the data as shown in:\n",
      "    https://scikit-learn.org/stable/modules/preprocessing.html\n",
      "  self.n_iter_ = _check_optimize_result(\"lbfgs\", opt_res, self.max_iter)\n",
      "C:\\Users\\Koshiyama\\Anaconda3-64bit\\envs\\mli5\\lib\\site-packages\\sklearn\\utils\\validation.py:72: DataConversionWarning: A column-vector y was passed when a 1d array was expected. Please change the shape of y to (n_samples, ), for example using ravel().\n",
      "  return f(**kwargs)\n",
      "C:\\Users\\Koshiyama\\Anaconda3-64bit\\envs\\mli5\\lib\\site-packages\\sklearn\\neural_network\\_multilayer_perceptron.py:471: ConvergenceWarning: lbfgs failed to converge (status=1):\n",
      "STOP: TOTAL NO. of ITERATIONS REACHED LIMIT.\n",
      "\n",
      "Increase the number of iterations (max_iter) or scale the data as shown in:\n",
      "    https://scikit-learn.org/stable/modules/preprocessing.html\n",
      "  self.n_iter_ = _check_optimize_result(\"lbfgs\", opt_res, self.max_iter)\n",
      "C:\\Users\\Koshiyama\\Anaconda3-64bit\\envs\\mli5\\lib\\site-packages\\sklearn\\utils\\validation.py:72: DataConversionWarning: A column-vector y was passed when a 1d array was expected. Please change the shape of y to (n_samples, ), for example using ravel().\n",
      "  return f(**kwargs)\n",
      "C:\\Users\\Koshiyama\\Anaconda3-64bit\\envs\\mli5\\lib\\site-packages\\sklearn\\neural_network\\_multilayer_perceptron.py:471: ConvergenceWarning: lbfgs failed to converge (status=1):\n",
      "STOP: TOTAL NO. of ITERATIONS REACHED LIMIT.\n",
      "\n",
      "Increase the number of iterations (max_iter) or scale the data as shown in:\n",
      "    https://scikit-learn.org/stable/modules/preprocessing.html\n",
      "  self.n_iter_ = _check_optimize_result(\"lbfgs\", opt_res, self.max_iter)\n",
      "C:\\Users\\Koshiyama\\Anaconda3-64bit\\envs\\mli5\\lib\\site-packages\\sklearn\\utils\\validation.py:72: DataConversionWarning: A column-vector y was passed when a 1d array was expected. Please change the shape of y to (n_samples, ), for example using ravel().\n",
      "  return f(**kwargs)\n",
      "C:\\Users\\Koshiyama\\Anaconda3-64bit\\envs\\mli5\\lib\\site-packages\\sklearn\\neural_network\\_multilayer_perceptron.py:471: ConvergenceWarning: lbfgs failed to converge (status=1):\n",
      "STOP: TOTAL NO. of ITERATIONS REACHED LIMIT.\n",
      "\n",
      "Increase the number of iterations (max_iter) or scale the data as shown in:\n",
      "    https://scikit-learn.org/stable/modules/preprocessing.html\n",
      "  self.n_iter_ = _check_optimize_result(\"lbfgs\", opt_res, self.max_iter)\n",
      "C:\\Users\\Koshiyama\\Anaconda3-64bit\\envs\\mli5\\lib\\site-packages\\sklearn\\utils\\validation.py:72: DataConversionWarning: A column-vector y was passed when a 1d array was expected. Please change the shape of y to (n_samples, ), for example using ravel().\n",
      "  return f(**kwargs)\n",
      "C:\\Users\\Koshiyama\\Anaconda3-64bit\\envs\\mli5\\lib\\site-packages\\sklearn\\neural_network\\_multilayer_perceptron.py:471: ConvergenceWarning: lbfgs failed to converge (status=1):\n",
      "STOP: TOTAL NO. of ITERATIONS REACHED LIMIT.\n",
      "\n",
      "Increase the number of iterations (max_iter) or scale the data as shown in:\n",
      "    https://scikit-learn.org/stable/modules/preprocessing.html\n",
      "  self.n_iter_ = _check_optimize_result(\"lbfgs\", opt_res, self.max_iter)\n",
      "C:\\Users\\Koshiyama\\Anaconda3-64bit\\envs\\mli5\\lib\\site-packages\\sklearn\\utils\\validation.py:72: DataConversionWarning: A column-vector y was passed when a 1d array was expected. Please change the shape of y to (n_samples, ), for example using ravel().\n",
      "  return f(**kwargs)\n",
      "C:\\Users\\Koshiyama\\Anaconda3-64bit\\envs\\mli5\\lib\\site-packages\\sklearn\\neural_network\\_multilayer_perceptron.py:471: ConvergenceWarning: lbfgs failed to converge (status=1):\n",
      "STOP: TOTAL NO. of ITERATIONS REACHED LIMIT.\n",
      "\n",
      "Increase the number of iterations (max_iter) or scale the data as shown in:\n",
      "    https://scikit-learn.org/stable/modules/preprocessing.html\n",
      "  self.n_iter_ = _check_optimize_result(\"lbfgs\", opt_res, self.max_iter)\n"
     ]
    }
   ],
   "source": [
    "df_metrics = pd.DataFrame(index=range(10), columns=perf_metrics.keys())\n",
    "\n",
    "# main loop\n",
    "k = 0\n",
    "for (train, test) in k_folds.split(X_ub, y):\n",
    "    # fit model\n",
    "    model.fit(X_ub.values[train], y.values[train])\n",
    "       \n",
    "    # test model\n",
    "    ypred_class = model.predict(X_ub.values[test])\n",
    "    ypred_prob = model.predict_proba(X_ub.values[test])[:, 1]\n",
    "\n",
    "    # compute performance metrics\n",
    "    for pf in perf_metrics.keys():\n",
    "        if pf in [\"AUC\", \"Brier\"]:\n",
    "            df_metrics.loc[k, pf] = perf_metrics[pf](y.values[test], ypred_prob)\n",
    "        else:\n",
    "            df_metrics.loc[k, pf] = perf_metrics[pf](y.values[test], ypred_class)\n",
    "    k += 1"
   ]
  },
  {
   "cell_type": "markdown",
   "metadata": {},
   "source": [
    "#### Performance metrics"
   ]
  },
  {
   "cell_type": "code",
   "execution_count": 23,
   "metadata": {},
   "outputs": [
    {
     "data": {
      "text/html": [
       "<div>\n",
       "<style scoped>\n",
       "    .dataframe tbody tr th:only-of-type {\n",
       "        vertical-align: middle;\n",
       "    }\n",
       "\n",
       "    .dataframe tbody tr th {\n",
       "        vertical-align: top;\n",
       "    }\n",
       "\n",
       "    .dataframe thead th {\n",
       "        text-align: right;\n",
       "    }\n",
       "</style>\n",
       "<table border=\"1\" class=\"dataframe\">\n",
       "  <thead>\n",
       "    <tr style=\"text-align: right;\">\n",
       "      <th></th>\n",
       "      <th>Accuracy</th>\n",
       "      <th>Precision</th>\n",
       "      <th>Recall</th>\n",
       "      <th>AUC</th>\n",
       "      <th>F1-Score</th>\n",
       "      <th>Brier</th>\n",
       "    </tr>\n",
       "  </thead>\n",
       "  <tbody>\n",
       "    <tr>\n",
       "      <th>0</th>\n",
       "      <td>0.584</td>\n",
       "      <td>0.594017</td>\n",
       "      <td>0.551587</td>\n",
       "      <td>0.630728</td>\n",
       "      <td>0.572016</td>\n",
       "      <td>0.313863</td>\n",
       "    </tr>\n",
       "    <tr>\n",
       "      <th>1</th>\n",
       "      <td>0.626</td>\n",
       "      <td>0.631579</td>\n",
       "      <td>0.619048</td>\n",
       "      <td>0.658314</td>\n",
       "      <td>0.625251</td>\n",
       "      <td>0.281657</td>\n",
       "    </tr>\n",
       "    <tr>\n",
       "      <th>2</th>\n",
       "      <td>0.616</td>\n",
       "      <td>0.623967</td>\n",
       "      <td>0.599206</td>\n",
       "      <td>0.632136</td>\n",
       "      <td>0.611336</td>\n",
       "      <td>0.305751</td>\n",
       "    </tr>\n",
       "    <tr>\n",
       "      <th>3</th>\n",
       "      <td>0.62</td>\n",
       "      <td>0.623482</td>\n",
       "      <td>0.613546</td>\n",
       "      <td>0.63217</td>\n",
       "      <td>0.618474</td>\n",
       "      <td>0.296391</td>\n",
       "    </tr>\n",
       "    <tr>\n",
       "      <th>4</th>\n",
       "      <td>0.6</td>\n",
       "      <td>0.597701</td>\n",
       "      <td>0.621514</td>\n",
       "      <td>0.626058</td>\n",
       "      <td>0.609375</td>\n",
       "      <td>0.304643</td>\n",
       "    </tr>\n",
       "    <tr>\n",
       "      <th>5</th>\n",
       "      <td>0.578</td>\n",
       "      <td>0.57874</td>\n",
       "      <td>0.585657</td>\n",
       "      <td>0.591017</td>\n",
       "      <td>0.582178</td>\n",
       "      <td>0.324343</td>\n",
       "    </tr>\n",
       "    <tr>\n",
       "      <th>6</th>\n",
       "      <td>0.624</td>\n",
       "      <td>0.632911</td>\n",
       "      <td>0.59761</td>\n",
       "      <td>0.648362</td>\n",
       "      <td>0.614754</td>\n",
       "      <td>0.28889</td>\n",
       "    </tr>\n",
       "    <tr>\n",
       "      <th>7</th>\n",
       "      <td>0.58</td>\n",
       "      <td>0.577358</td>\n",
       "      <td>0.609562</td>\n",
       "      <td>0.603834</td>\n",
       "      <td>0.593023</td>\n",
       "      <td>0.319427</td>\n",
       "    </tr>\n",
       "    <tr>\n",
       "      <th>8</th>\n",
       "      <td>0.576</td>\n",
       "      <td>0.575875</td>\n",
       "      <td>0.589641</td>\n",
       "      <td>0.582041</td>\n",
       "      <td>0.582677</td>\n",
       "      <td>0.334515</td>\n",
       "    </tr>\n",
       "    <tr>\n",
       "      <th>9</th>\n",
       "      <td>0.614</td>\n",
       "      <td>0.626087</td>\n",
       "      <td>0.573705</td>\n",
       "      <td>0.628474</td>\n",
       "      <td>0.598753</td>\n",
       "      <td>0.306795</td>\n",
       "    </tr>\n",
       "  </tbody>\n",
       "</table>\n",
       "</div>"
      ],
      "text/plain": [
       "  Accuracy Precision    Recall       AUC  F1-Score     Brier\n",
       "0    0.584  0.594017  0.551587  0.630728  0.572016  0.313863\n",
       "1    0.626  0.631579  0.619048  0.658314  0.625251  0.281657\n",
       "2    0.616  0.623967  0.599206  0.632136  0.611336  0.305751\n",
       "3     0.62  0.623482  0.613546   0.63217  0.618474  0.296391\n",
       "4      0.6  0.597701  0.621514  0.626058  0.609375  0.304643\n",
       "5    0.578   0.57874  0.585657  0.591017  0.582178  0.324343\n",
       "6    0.624  0.632911   0.59761  0.648362  0.614754   0.28889\n",
       "7     0.58  0.577358  0.609562  0.603834  0.593023  0.319427\n",
       "8    0.576  0.575875  0.589641  0.582041  0.582677  0.334515\n",
       "9    0.614  0.626087  0.573705  0.628474  0.598753  0.306795"
      ]
     },
     "execution_count": 23,
     "metadata": {},
     "output_type": "execute_result"
    }
   ],
   "source": [
    "df_metrics"
   ]
  },
  {
   "cell_type": "code",
   "execution_count": 24,
   "metadata": {},
   "outputs": [
    {
     "data": {
      "text/plain": [
       "Accuracy     0.601800\n",
       "Precision    0.606172\n",
       "Recall       0.596108\n",
       "AUC          0.623314\n",
       "F1-Score     0.600784\n",
       "Brier        0.307627\n",
       "dtype: float64"
      ]
     },
     "execution_count": 24,
     "metadata": {},
     "output_type": "execute_result"
    }
   ],
   "source": [
    "df_metrics.mean()"
   ]
  },
  {
   "cell_type": "markdown",
   "metadata": {},
   "source": [
    "### Global "
   ]
  },
  {
   "cell_type": "markdown",
   "metadata": {},
   "source": [
    "#### Permutation importance (https://scikit-learn.org/stable/modules/permutation_importance.html)"
   ]
  },
  {
   "cell_type": "code",
   "execution_count": 25,
   "metadata": {},
   "outputs": [
    {
     "data": {
      "text/plain": [
       "<AxesSubplot:ylabel='Variable'>"
      ]
     },
     "execution_count": 25,
     "metadata": {},
     "output_type": "execute_result"
    },
    {
     "data": {
      "image/png": "[encoded data removed]",
      "text/plain": [
       "<Figure size 432x288 with 1 Axes>"
      ]
     },
     "metadata": {
      "needs_background": "light"
     },
     "output_type": "display_data"
    }
   ],
   "source": [
    "from sklearn.inspection import permutation_importance\n",
    "feat_imp = permutation_importance(model, X_ub, y, n_repeats=5, random_state=10)\n",
    "df_featimp = pd.DataFrame({\"Variable\": X_ub.columns,\n",
    "                           \"Importance\": feat_imp['importances_mean']/feat_imp[\"importances_mean\"].max()})\n",
    "df_featimp = df_featimp.sort_values(\"Importance\", ascending=False)\n",
    "\n",
    "# chart\n",
    "df_featimp.iloc[:5].plot(x=\"Variable\", y=\"Importance\", kind=\"barh\")"
   ]
  },
  {
   "cell_type": "markdown",
   "metadata": {},
   "source": [
    "#### Partial dependence (https://scikit-learn.org/stable/modules/partial_dependence.html#partial-dependence)"
   ]
  },
  {
   "cell_type": "code",
   "execution_count": 26,
   "metadata": {},
   "outputs": [
    {
     "name": "stderr",
     "output_type": "stream",
     "text": [
      "C:\\Users\\Koshiyama\\Anaconda3-64bit\\envs\\mli5\\lib\\site-packages\\sklearn\\inspection\\_plot\\partial_dependence.py:323: FutureWarning: The fig parameter is deprecated in version 0.22 and will be removed in version 0.24\n",
      "  FutureWarning)\n"
     ]
    },
    {
     "data": {
      "text/plain": [
       "<sklearn.inspection._plot.partial_dependence.PartialDependenceDisplay at 0x29113008648>"
      ]
     },
     "execution_count": 26,
     "metadata": {},
     "output_type": "execute_result"
    },
    {
     "data": {
      "image/png": "[encoded data removed]",
      "text/plain": [
       "<Figure size 720x720 with 6 Axes>"
      ]
     },
     "metadata": {
      "needs_background": "light"
     },
     "output_type": "display_data"
    }
   ],
   "source": [
    "from sklearn.inspection import plot_partial_dependence\n",
    "fig, ax = plt.subplots(figsize=(10, 10))\n",
    "plot_partial_dependence(model, X_ub, df_featimp.iloc[:5].index, \n",
    "                        fig=fig, response_method=\"predict_proba\", \n",
    "                        method=\"brute\", grid_resolution=200\n",
    "                       ) "
   ]
  },
  {
   "cell_type": "code",
   "execution_count": null,
   "metadata": {},
   "outputs": [],
   "source": [
    "fig, ax = plt.subplots(figsize=(7, 7))\n",
    "plot_partial_dependence(model, X_ub, [(df_featimp.index[0], df_featimp.index[1])], fig=fig, \n",
    "                        response_method=\"predict_proba\", method=\"brute\")"
   ]
  },
  {
   "cell_type": "markdown",
   "metadata": {},
   "source": [
    "## Local"
   ]
  },
  {
   "cell_type": "markdown",
   "metadata": {},
   "source": [
    "### LIME Algorithm (https://github.com/marcotcr/lime)"
   ]
  },
  {
   "cell_type": "code",
   "execution_count": null,
   "metadata": {},
   "outputs": [],
   "source": [
    "import lime\n",
    "import lime.lime_tabular\n",
    "\n",
    "explainer = lime.lime_tabular.LimeTabularExplainer(X_ub.values, feature_names=X_ub.columns.tolist(), \n",
    "                                                   class_names=[\"Loan denied\", \"Loan originated\"], discretize_continuous=True)\n",
    "\n",
    "sample_id = 10\n",
    "exp = explainer.explain_instance(X_ub.iloc[sample_id], model.predict_proba, num_features=7, top_labels=1)\n",
    "exp.show_in_notebook()"
   ]
  }
 ],
 "metadata": {
  "kernelspec": {
   "display_name": "Python 3",
   "language": "python",
   "name": "python3"
  },
  "language_info": {
   "codemirror_mode": {
    "name": "ipython",
    "version": 3
   },
   "file_extension": ".py",
   "mimetype": "text/x-python",
   "name": "python",
   "nbconvert_exporter": "python",
   "pygments_lexer": "ipython3",
   "version": "3.7.9"
  }
 },
 "nbformat": 4,
 "nbformat_minor": 2
}
